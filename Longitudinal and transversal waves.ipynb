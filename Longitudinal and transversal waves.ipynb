{
 "cells": [
  {
   "cell_type": "code",
   "execution_count": null,
   "metadata": {},
   "outputs": [],
   "source": [
    "import matplotlib.pyplot as plt\n",
    "import numpy as np\n",
    "\n",
    "from ipywidgets import interactive\n",
    "from matplotlib import animation\n",
    "from IPython.display import HTML\n",
    "%matplotlib widget"
   ]
  },
  {
   "cell_type": "markdown",
   "metadata": {},
   "source": [
    "First, we define a 2D lattice as follow:"
   ]
  },
  {
   "cell_type": "code",
   "execution_count": null,
   "metadata": {},
   "outputs": [],
   "source": [
    "# Define the position of the original lattice\n",
    "x = np.linspace(0,6,7)\n",
    "y = np.linspace(-3,3,7)\n",
    "x_origine,y_origine = np.meshgrid(x,y)"
   ]
  },
  {
   "cell_type": "markdown",
   "metadata": {},
   "source": [
    "Next, we define a function that updates the atomic positions in the lattice at each call"
   ]
  },
  {
   "cell_type": "code",
   "execution_count": null,
   "metadata": {},
   "outputs": [],
   "source": [
    "def interactive_wave_plot(k):\n",
    "    '''\n",
    "    :param k: wave number\n",
    "    '''\n",
    "    global current_k\n",
    "    current_k= k\n",
    "    \n",
    "    # Define the position of the displaced lattice\n",
    "    x_p = x + np.sin(k*x)\n",
    "    x_long,y_long = np.meshgrid(x_p,y)\n",
    "    \n",
    "    x_p = x + np.sin(k*x);\n",
    "    y_p = y + np.sin(k*(x-np.mean(x)))\n",
    "    \n",
    "    x_trans=x_origine\n",
    "    y_trans = y_origine+np.sin(k*x)\n",
    "\n",
    "    fig1.clear();\n",
    "    fig1.set_xticks([]);\n",
    "    fig1.set_yticks([]);\n",
    "    fig1.axis([-1,7,-4.5,4.5]);\n",
    "    fig1.set_title('Transverse');\n",
    "    fig1.plot(x_origine,y_origine,'ko', mfc='none');\n",
    "    fig1.plot(x_trans,y_trans,'ko');\n",
    "    \n",
    "    fig2.clear();\n",
    "    fig2.set_title('Longitudinal');\n",
    "    fig2.set_xticks([]);\n",
    "    fig2.set_yticks([]);\n",
    "    fig2.axis([-1,7,-4.5,4.5]);\n",
    "    fig2.plot(x_origine,y_origine,'ko', mfc='none');\n",
    "    fig2.plot(x_long,y_long,'ko');"
   ]
  },
  {
   "cell_type": "code",
   "execution_count": null,
   "metadata": {},
   "outputs": [],
   "source": [
    "fig, (fig1, fig2) = plt.subplots(1,2, figsize=(10,5)); # Initialize a figure\n",
    "plt.ion();\n",
    "interactive(interactive_wave_plot,k=(-1,1,0.01))"
   ]
  },
  {
   "cell_type": "markdown",
   "metadata": {},
   "source": [
    "Use similar function definition to make two animations, respectively, for longitudinal and transverse mode"
   ]
  },
  {
   "cell_type": "code",
   "execution_count": null,
   "metadata": {},
   "outputs": [],
   "source": [
    "fig_long = plt.figure()\n",
    "ax = plt.axes()\n",
    "ax.set_xlim((-1.5,7.5))\n",
    "ax.set_ylim((-5,5))\n",
    "line_or, = ax.plot([], [], 'ko',mfc=None)\n",
    "line_mov, = ax.plot([], [], 'ko')\n",
    "plt.title(\"Longitudinal\")\n",
    "ax.set_xticks([])\n",
    "ax.set_yticks([])\n",
    "# Initialization function: plot the background of each frame\n",
    "def init_long():\n",
    "    line_or.set_data([], [])\n",
    "    line_mov.set_data([], [])\n",
    "\n",
    "    return line_or,\n",
    "\n",
    "# Animation function which updates figure data.  This is called sequentially\n",
    "def animate_long(iteration):\n",
    "    global current_k\n",
    "    k=current_k\n",
    "    omega=3\n",
    "    t=omega*2*(1/100)/np.pi*iteration\n",
    "    \n",
    "    \n",
    "    x = np.linspace(0,6,7)\n",
    "    y = np.linspace(-3,3,7)\n",
    "    \n",
    "    x_origine,y_origine = np.meshgrid(x,y)\n",
    "    \n",
    "    # Define the position of the displaced lattice\n",
    "    x_p = x + np.sin(k*x-omega*t)\n",
    "    x_long,y_long = np.meshgrid(x_p,y)\n",
    "    \n",
    "    x_trans=x_origine\n",
    "    y_trans = y_origine+np.sin(k*x-omega*t)\n",
    "    line_mov.set_data(np.asarray([x_long,y_long]))\n",
    "    return line_mov,\n",
    "\n",
    "# Call the animator.  blit=True means only re-draw the parts that have changed.\n",
    "if 'anim_trans' in locals():\n",
    "    anim_trans.event_source.stop()\n",
    "anim_long = animation.FuncAnimation(fig_long, animate_long, init_func=init_long,frames=112, interval=25, blit=True)"
   ]
  },
  {
   "cell_type": "code",
   "execution_count": null,
   "metadata": {},
   "outputs": [],
   "source": [
    "fig_trans = plt.figure()\n",
    "ax_trans = plt.axes()\n",
    "ax_trans.set_xlim((-1.5,7.5))\n",
    "ax_trans.set_ylim((-5,5))\n",
    "line_or, = ax_trans.plot([], [], 'ko',mfc=None)\n",
    "line_mov, = ax_trans.plot([], [], 'ko')\n",
    "plt.title(\"Transverse\")\n",
    "ax_trans.set_xticks([])\n",
    "ax_trans.set_yticks([])\n",
    "# Initialization function: plot the background of each frame\n",
    "def init():\n",
    "    line_or.set_data([], [])\n",
    "    line_mov.set_data([], [])\n",
    "\n",
    "    return line_or,\n",
    "\n",
    "# Animation function which updates figure data.  This is called sequentially\n",
    "def animate(iteration):\n",
    "    global current_k\n",
    "    k=current_k\n",
    "    omega=3\n",
    "    t=omega*2*(1/100)/np.pi*iteration\n",
    "    x_origine,y_origine = np.meshgrid(np.linspace(0,6,7),np.linspace(-3,3,7))\n",
    "    \n",
    "    x_trans=x_origine\n",
    "    y_trans = y_origine+np.sin(k*x-omega*t)\n",
    "    \n",
    "    line_mov.set_data(np.asarray([x_trans,y_trans]))\n",
    "    return line_mov,\n",
    "\n",
    "# Call the animator.  blit=True means only re-draw the parts that have changed.\n",
    "if 'anim_long' in locals():\n",
    "    anim_long.event_source.stop()\n",
    "anim_trans = animation.FuncAnimation(fig_trans, animate, init_func=init,frames=112, interval=25, blit=True)"
   ]
  },
  {
   "cell_type": "code",
   "execution_count": null,
   "metadata": {},
   "outputs": [],
   "source": []
  }
 ],
 "metadata": {
  "kernelspec": {
   "display_name": "Python 3",
   "language": "python",
   "name": "python3"
  },
  "language_info": {
   "codemirror_mode": {
    "name": "ipython",
    "version": 3
   },
   "file_extension": ".py",
   "mimetype": "text/x-python",
   "name": "python",
   "nbconvert_exporter": "python",
   "pygments_lexer": "ipython3",
   "version": "3.6.9"
  }
 },
 "nbformat": 4,
 "nbformat_minor": 4
}
