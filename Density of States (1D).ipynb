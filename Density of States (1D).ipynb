{
 "cells": [
  {
   "cell_type": "code",
   "execution_count": null,
   "metadata": {},
   "outputs": [],
   "source": [
    "import numpy as np\n",
    "import ipywidgets as ipw\n",
    "\n",
    "from bokeh.io import push_notebook, output_notebook, show\n",
    "from bokeh.layouts import row, column\n",
    "from bokeh.plotting import figure\n",
    "from bokeh.models import ColumnDataSource\n",
    "output_notebook()\n",
    "\n",
    "from ipywidgets import interact\n",
    "\n",
    "from collections import OrderedDict\n",
    "old_settings = np.seterr(over = 'ignore') #Ignore warnings about overflow data points"
   ]
  },
  {
   "cell_type": "markdown",
   "metadata": {},
   "source": [
    "#### This notebook shows density of states in 1D. Note that all graphs are cut off at Fermi Energy Ef, hence if the cut is visible on the graph consider increasing number of electrons in the system."
   ]
  },
  {
   "cell_type": "code",
   "execution_count": null,
   "metadata": {},
   "outputs": [],
   "source": [
    "# Set up constants and parameters in SI units\n",
    "m = 9.109e-31; #Define electron mass\n",
    "hbar = 6.626e-34/2.0/np.pi; #Reduced planck constant\n",
    "size = 100e-9; #Define the width of the potential well in real space\n",
    "Emax = 2.0; # Pick the highest energy (eV) the electron could have by distribution\n",
    "k0 = np.pi/size; #Lowest allowed k in reciprocal space\n",
    "\n",
    "# Set up the variable space\n",
    "N = int(np.sqrt((Emax*1.602e-19*2*m)/hbar**2)/k0); # calculate the number of allowed states by the energy constraint\n",
    "k = np.linspace(-int(np.sqrt((Emax*1.602e-19*2*m)/hbar**2))/1e9, int(np.sqrt((Emax*1.602e-19*2*m)/hbar**2))/1e9, 2*N); # Double the variable space by symmetry\n",
    "En = 6.242e+18*(hbar*k*1e9)**2/(2*m);  #Energy for a free electron in eV"
   ]
  },
  {
   "cell_type": "code",
   "execution_count": null,
   "metadata": {},
   "outputs": [],
   "source": [
    "# Plot the dispersion relation of the free electrons\n",
    "freeE = figure(plot_height=350, plot_width=300, title=\"Dispersion relationship of a free electron\",\n",
    "              tools=\"pan,reset,save,wheel_zoom\", x_range = [np.amin(k), np.amax(k)],\n",
    "              y_range = [0,1.1*np.amax(En)]);\n",
    "freeE.xaxis[0].axis_label='k (nm-1)';\n",
    "freeE.yaxis[0].axis_label='Energy (eV)';\n",
    "source = ColumnDataSource(data = {'xVal':k, 'yVal':En});\n",
    "freeE.circle('xVal', 'yVal', source = source, line_width=1, line_alpha=0.2);"
   ]
  },
  {
   "cell_type": "code",
   "execution_count": null,
   "metadata": {},
   "outputs": [],
   "source": [
    "# Plot the histogram of states per energy interval\n",
    "bWidth = 0.02; # Define the bin width of the histogram as 0.02 eV\n",
    "histoN = (np.amax(En)/bWidth).astype(int); # calculate the number of bars in the histogram\n",
    "kCount = np.empty(histoN, dtype = np.int8); # Declare an array to store histogram information\n",
    "Ens = np.arange(histoN) * bWidth;\n",
    "zero = np.zeros(histoN);\n",
    "for idx in range(histoN):\n",
    "    kCount[idx] = len(En[ (En > idx*bWidth) & (En <= (idx+1)*bWidth) ]);\n",
    "histo = figure(plot_height=350, plot_width=300, title=\"allowed states per Energy interval\",\n",
    "              tools=\"pan,reset,save,wheel_zoom\", y_range = [0, 1.1*np.amax(En)],\n",
    "              x_range = [0, 1.1*np.amax(kCount)]);\n",
    "histo.xaxis[0].axis_label='Number of states';\n",
    "histo.yaxis[0].axis_label='Energy (eV)';\n",
    "source1 = ColumnDataSource(data = {'bottom': Ens, 'top': Ens + bWidth, 'right': kCount, 'left': zero});\n",
    "histo.quad(bottom = 'bottom', top = 'top', right = 'right', left = 'left', source = source1,\n",
    "           fill_color=\"navy\", line_color=\"white\", alpha=1);"
   ]
  },
  {
   "cell_type": "code",
   "execution_count": null,
   "metadata": {},
   "outputs": [],
   "source": [
    "#calculate Density of states\n",
    "gE = 1/(np.pi*hbar)*np.sqrt(m/(2*1.602e-19*En));\n",
    "gEplot = figure(plot_height=350, plot_width=300, title=\"Density of States (1D)\",\n",
    "              tools=\"pan,reset,save,wheel_zoom\", x_range=[0.5*np.amin(gE), 5*np.amin(gE)], y_range=[0, 1.1*np.amax(En)])\n",
    "gEplot.xaxis[0].axis_label='Density of States';\n",
    "gEplot.xaxis[0].formatter.precision = 2;\n",
    "gEplot.xaxis[0].ticker.desired_num_ticks = 5;\n",
    "gEplot.yaxis[0].axis_label='Energy (eV)';\n",
    "source2 = ColumnDataSource(data = {'xVal': gE, 'yVal': En});\n",
    "gEplot.circle('xVal', 'yVal', source = source2, line_width=1, line_alpha=0.2);"
   ]
  },
  {
   "cell_type": "code",
   "execution_count": null,
   "metadata": {},
   "outputs": [],
   "source": [
    "# Set up callbacks to live update the plots\n",
    "def update_data(size, Ntot):\n",
    "    # Generate the new curve\n",
    "    k0 = np.pi/(size);\n",
    "    Emax = 2*(hbar*k0*Ntot)**2/m/1.602e-19;\n",
    "    N = Ntot; # calculate the number of allowed states by the energy constraint\n",
    "    k = np.linspace(-N*k0, N*k0, 2*N);\n",
    "    En = 6.242e+18*(hbar*k*1e9)**2/(2*m);\n",
    "    \n",
    "    update = {'xVal': k, 'yVal': En};  #Energy for a free electron in eV\n",
    "    source.data = update;\n",
    "\n",
    "    histoN = (np.amax(En)/bWidth).astype(int); # calculate the number of bars in the histogram\n",
    "    kCount = np.empty(histoN, dtype = np.int8); # Declare an array to store histogram information\n",
    "    Ens = np.arange(histoN) * bWidth;\n",
    "    zero = np.zeros(histoN)\n",
    "    for idx in range(histoN):\n",
    "        kCount[idx] = len(En[ (En > idx*bWidth) & (En <= (idx+1)*bWidth) ]);  \n",
    "    update1 = {'bottom': Ens, 'top': Ens + bWidth, 'right': kCount, 'left': zero};\n",
    "    source1.data = update1;\n",
    "\n",
    "    gE = 1/(np.pi*hbar)*np.sqrt(m/(2*1.602e-19*En))\n",
    "    update2 = {'xVal': gE, 'yVal': En}\n",
    "    source2.data = update2;\n",
    "    push_notebook(handle = handel);"
   ]
  },
  {
   "cell_type": "code",
   "execution_count": null,
   "metadata": {},
   "outputs": [],
   "source": [
    "handel = show(row(freeE,histo,gEplot), notebook_handle = True);"
   ]
  },
  {
   "cell_type": "code",
   "execution_count": null,
   "metadata": {},
   "outputs": [],
   "source": [
    "interact(update_data, size = ipw.FloatSlider(min = 2, max = 202, step = 10, value = 50, description = 'Size (L, nm)'), Ntot = ipw.IntSlider(min = 4, max = 604, step = 10, value = 200, description = 'No. Electrons'));"
   ]
  },
  {
   "cell_type": "code",
   "execution_count": null,
   "metadata": {},
   "outputs": [],
   "source": []
  }
 ],
 "metadata": {
  "kernelspec": {
   "display_name": "Python",
   "language": "python",
   "name": "python3"
  },
  "language_info": {
   "codemirror_mode": {
    "name": "ipython",
    "version": 3
   },
   "file_extension": ".py",
   "mimetype": "text/x-python",
   "name": "python",
   "nbconvert_exporter": "python",
   "pygments_lexer": "ipython3",
   "version": "3.8.10"
  }
 },
 "nbformat": 4,
 "nbformat_minor": 4
}
