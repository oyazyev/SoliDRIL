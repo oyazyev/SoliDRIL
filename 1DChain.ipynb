{
 "cells": [
  {
   "cell_type": "code",
   "execution_count": 1,
   "metadata": {},
   "outputs": [],
   "source": [
    "import numpy as np\n",
    "from numpy import linalg as LA\n",
    "import matplotlib.pyplot as plt\n",
    "\n",
    "# from __future__ import print_function\n",
    "from ipywidgets import interact, interactive, fixed, interact_manual\n",
    "import ipywidgets as widgets\n",
    "\n"
   ]
  },
  {
   "cell_type": "markdown",
   "metadata": {},
   "source": [
    "# Tight-binding model of 1D chain\n",
    "\n",
    "## Introduction\n",
    "This notebook provides a very basic example to the band structure calculation using the tight-binding approximation description of the one-dimensional periodic chain of atoms with two sites per unit cell.\n"
   ]
  },
  {
   "cell_type": "markdown",
   "metadata": {},
   "source": [
    "One can write the Hamiltonian by projecting the intercell and intracell hoppings to sites A and B: \n",
    "$$H_1^{ab}=\\langle \\psi_A | H_1 | \\psi_B \\rangle = \\gamma _1  $$\n",
    "$$H_2^{ab}=\\langle \\psi_A | H_2 | \\psi_B \\rangle = \\gamma_2 $$\n",
    "$$H = H_1 + H_2$$\n",
    "Under such projection, the Hamiltonian is converted into a form of 2x2 matrix."
   ]
  },
  {
   "cell_type": "markdown",
   "metadata": {},
   "source": [
    "With the Bloch functions, the intercell hopping is then:\n",
    "$$H_2^{ab}=\\langle \\psi_A | H_2 | \\exp(-ika) \\psi_B \\rangle =\\gamma_2 \\exp(-ika)$$\n",
    "considering the on-site potentials $\\varepsilon_1$ and $\\varepsilon_2$ on sites A and B, we write the Hamiltonian matrix in terms of wavevector k:\n",
    "$$H_{00}=\\left(\\begin{array}{cc}\n",
    "\\varepsilon_1 & \\gamma_1\\\\\n",
    "\\gamma_1 & \\varepsilon_2\n",
    "\\end{array}\\right)$$\n",
    "$$H_{01}=\\left(\\begin{array}{cc}\n",
    "0 & \\gamma_2 \\exp(ika)\\\\\n",
    "0 & 0\n",
    "\\end{array}\\right)$$\n",
    "$$H_{10}=\\left(\\begin{array}{cc}\n",
    "0 & 0\\\\\n",
    "\\gamma_2\\exp(-ika) & 0\n",
    "\\end{array}\\right)$$"
   ]
  },
  {
   "cell_type": "markdown",
   "metadata": {},
   "source": [
    "The whole Hamiltonian matrix writes:\n",
    "$$H(k)=H_{00}+H_{01}+H_{10}=\\left(\\begin{array}{cc}\n",
    "\\varepsilon_1 & \\gamma_1+\\gamma_2 \\exp(ika)\\\\\n",
    "\\gamma_1+\\gamma_2\\exp(-ika) & \\varepsilon_2\n",
    "\\end{array}\\right)$$\n",
    "\n",
    "In order to calculate the bands, one should diagonalize the Hamiltonian $H(k)$ for each $k$ in the first Brillouin zone, that is, to solve the following quadratic equation:\n",
    "$$ (\\lambda-\\varepsilon_1)(\\lambda-\\varepsilon_2) = (\\gamma_1 + \\gamma_2\\cos(ka))^2 + (\\gamma_2\\sin(ka))^2$$\n",
    "<!---and the answer is :\n",
    "#$$\\lambda=\\pm \\sqrt{(\\gamma_1 + \\gamma_2\\cos(ka))^2 + (\\gamma_2\\sin(ka))^2}$$--->"
   ]
  },
  {
   "attachments": {
    "image.png": {
     "image/png": "[encoded data removed]"
    }
   },
   "cell_type": "markdown",
   "metadata": {},
   "source": [
    "![image.png](attachment:image.png)   "
   ]
  },
  {
   "cell_type": "code",
   "execution_count": 2,
   "metadata": {},
   "outputs": [],
   "source": [
    "def interactive_1dband(gamma_1,gamma_2,epsilon_1,epsilon_2):\n",
    "    nk=40\n",
    "    k=np.linspace(-1.0*np.pi,1.0*np.pi,nk)\n",
    "    c=-(gamma_1+gamma_2*np.cos(k))**2-(gamma_2*np.sin(k))**2+epsilon_1*epsilon_2\n",
    "    b=-(epsilon_1+epsilon_2)\n",
    "    a=1\n",
    "    \n",
    "    x1=(-b+np.sqrt(b**2-4*a*c))/(2*a)\n",
    "    x2=(-b-np.sqrt(b**2-4*a*c))/(2*a)\n",
    "    plt.ylim(-4.2, 4.2)\n",
    "    plt.xlabel('ka')\n",
    "    plt.ylabel('E')\n",
    "    plt.plot(k,x1)\n",
    "    plt.plot(k,x2)\n",
    "   "
   ]
  },
  {
   "cell_type": "code",
   "execution_count": 3,
   "metadata": {
    "scrolled": true
   },
   "outputs": [
    {
     "data": {
      "application/vnd.jupyter.widget-view+json": {
       "model_id": "f2db522ee6404949aeec2e6b3cff8f35",
       "version_major": 2,
       "version_minor": 0
      },
      "text/plain": [
       "interactive(children=(FloatSlider(value=1.0, description='gamma_1', max=1.5, min=0.5), FloatSlider(value=1.0, …"
      ]
     },
     "metadata": {},
     "output_type": "display_data"
    },
    {
     "data": {
      "text/plain": [
       "<function __main__.interactive_1dband(gamma_1, gamma_2, epsilon_1, epsilon_2)>"
      ]
     },
     "execution_count": 3,
     "metadata": {},
     "output_type": "execute_result"
    }
   ],
   "source": [
    "interact(interactive_1dband,gamma_1=(0.5,1.5),gamma_2=(0.5,1.5),epsilon_1=(-0.5,0.5),epsilon_2=(-0.5,0.5))"
   ]
  },
  {
   "cell_type": "markdown",
   "metadata": {},
   "source": [
    "# Questions\n",
    "\n",
    "- How do the band gap and the band width depend on the parameters of the model?\n",
    "- At what parameters the system is gapless? Show the condition in terms of $\\gamma_1, \\gamma_2, \\varepsilon_1, \\varepsilon_2$.\n",
    "- In the special case $\\gamma_1 = \\gamma_2 , \\varepsilon_1= \\varepsilon_2 = 0$, discuss the relation to the case of the periodic one-dimensional chain with one atom per unit cell considered during lecture 1."
   ]
  },
  {
   "cell_type": "code",
   "execution_count": null,
   "metadata": {},
   "outputs": [],
   "source": []
  }
 ],
 "metadata": {
  "kernelspec": {
   "display_name": "Python 3",
   "language": "python",
   "name": "python3"
  },
  "language_info": {
   "codemirror_mode": {
    "name": "ipython",
    "version": 3
   },
   "file_extension": ".py",
   "mimetype": "text/x-python",
   "name": "python",
   "nbconvert_exporter": "python",
   "pygments_lexer": "ipython3",
   "version": "3.6.9"
  }
 },
 "nbformat": 4,
 "nbformat_minor": 4
}
