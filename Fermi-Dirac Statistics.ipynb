{
 "cells": [
  {
   "cell_type": "code",
   "execution_count": null,
   "metadata": {},
   "outputs": [],
   "source": [
    "import numpy as np\n",
    "import pandas as pd\n",
    "import ipywidgets as ipw\n",
    "\n",
    "from ipywidgets import interact\n",
    "\n",
    "from bokeh.models import ColumnDataSource, Legend, LegendItem\n",
    "from bokeh.io import push_notebook, output_notebook, show\n",
    "from bokeh.layouts import row, column\n",
    "from bokeh.plotting import figure\n",
    "output_notebook()\n",
    "\n",
    "from collections import OrderedDict\n",
    "old_settings = np.seterr(over='ignore') #Ignore warnings about overflow data points"
   ]
  },
  {
   "cell_type": "markdown",
   "metadata": {},
   "source": [
    "### First we define the relevant physical constants such as Boltzmann constant, initial temperature, etc"
   ]
  },
  {
   "cell_type": "code",
   "execution_count": null,
   "metadata": {},
   "outputs": [],
   "source": [
    "# Set up constant\n",
    "N = 200;\n",
    "kB = 8.617e-5; #eV/K\n",
    "T = 0.001; # Boltzmann constant measured interms of chemical potential\n",
    "# currenT = [f'T = {T:.2f} K']*N; #Create an array of labels to initiate interactive legend\n",
    "# currenT2 = [f'T = {T:.2f} K']*N;\n",
    "currenT = f'T = {T:.2f} K';\n",
    "currenT2 = f'T = {T:.2f} K';\n",
    "kBT = kB * T;\n",
    "E_min = -10.0;\n",
    "E_max = 10.0; # Energy in eV\n",
    "factor = 0.2;\n",
    "\n",
    "# Set up the variable space for 1D plot\n",
    "En_mu = np.linspace(E_min, E_max, N) #Energy measured in units of chemical potential\n",
    "f = 1.0/(np.exp( (factor*En_mu)/kBT )+1) # Occupation number according to F-D statistics\n",
    "df = np.gradient(f) # Take the first derivative of the F-D distribution."
   ]
  },
  {
   "cell_type": "markdown",
   "metadata": {},
   "source": [
    "### Next, we initiate two figure objects, and each with two plots"
   ]
  },
  {
   "cell_type": "code",
   "execution_count": null,
   "metadata": {},
   "outputs": [],
   "source": [
    "# Set up the first interactive 1D plot\n",
    "plot = figure(plot_height=400, plot_width=400, title=\"Fermi-Dirac statistics in 1D\",\n",
    "              tools=\"pan,reset,save,wheel_zoom\",\n",
    "              x_range=[E_min, E_max], y_range=[0.0, 1.1])\n",
    "plot.xaxis[0].axis_label='Energy relative to chemical potential, E - \\u03BC (eV)';\n",
    "plot.yaxis[0].axis_label='Fermi-Dirac distribution f(E)';\n",
    "source = ColumnDataSource(dict(x=En_mu, y=f));\n",
    "source1 = ColumnDataSource(dict(x=En_mu, y=f));\n",
    "figure_1 = plot.line(x='x',y='y', source=source, line_color = 'blue', line_width=3, line_alpha=0.6);\n",
    "figure_2 = plot.line(x='x',y='y', source=source1, line_color = 'red', line_width=3, line_alpha=0.6);\n",
    "legend_1 = Legend(items = [LegendItem(label=currenT, renderers=[figure_2]), LegendItem(label=currenT2, renderers=[figure_1])]);\n",
    "plot.add_layout(legend_1);"
   ]
  },
  {
   "cell_type": "code",
   "execution_count": null,
   "metadata": {},
   "outputs": [],
   "source": [
    "# Set up an interactive 1D plot of the first derivative of the F-D distribution at low temperature\n",
    "plot3 = figure(plot_height=400, plot_width=400, title=\"First derivative\",\n",
    "              tools=\"pan,reset,save,wheel_zoom\",\n",
    "              x_range=[E_min, E_max], y_range=[0.0, 0.6])\n",
    "plot3.xaxis[0].axis_label='Energy relative to chemical potential, E - \\u03BC (eV)';\n",
    "plot3.yaxis[0].axis_label='First derivative df(E)/dE [1/eV]';\n",
    "source3 = ColumnDataSource(dict(x=En_mu, y=-df));\n",
    "source4 = ColumnDataSource(dict(x=En_mu, y=-df));\n",
    "figure_3 = plot3.line(x='x', y='y', source=source3, line_color = 'blue', line_width=3, line_alpha=0.6);\n",
    "source4 = ColumnDataSource(dict(x=En_mu, y=-df));\n",
    "figure_4 = plot3.line(x='x', y='y', line_color = 'red', source=source4, line_width=3, line_alpha=0.6);\n",
    "legend_2 = Legend(items = [LegendItem(label=currenT, renderers=[figure_4]), LegendItem(label=currenT2, renderers=[figure_3])]);\n",
    "plot3.add_layout(legend_2);"
   ]
  },
  {
   "cell_type": "markdown",
   "metadata": {},
   "source": [
    "### Then we define a function to call each time we want to update the figures"
   ]
  },
  {
   "cell_type": "code",
   "execution_count": null,
   "metadata": {},
   "outputs": [],
   "source": [
    "# Set up callbacks to update the 1D live graph\n",
    "def update_data(T,TT):\n",
    "    # Generate the new curve\n",
    "    kBT = kB*T;\n",
    "    kBT2 = kB*TT;\n",
    "    currenT = f'T = {T:.2f} K';\n",
    "    currenT2 = f'T = {TT:.2f} K';\n",
    "    En_mu = np.linspace(E_min, E_max, N) #Energy measured in units of chemical potential\n",
    "    figure_2.data_source.data['y'] = 1.0/(np.exp( (factor*En_mu)/kBT )+1);\n",
    "    figure_1.data_source.data['y'] = 1.0/(np.exp( (factor*En_mu)/kBT2 )+1);\n",
    "    Ex,Ey = np.meshgrid(np.linspace(-E_max,E_max,2*N), np.linspace(-E_max,E_max,2*N));\n",
    "    Er = np.sqrt(Ex**2 + Ey**2); \n",
    "    figure_4.data_source.data['y'] = -np.gradient(figure_2.data_source.data['y']);\n",
    "    figure_3.data_source.data['y'] = -np.gradient(figure_1.data_source.data['y']);\n",
    "    legend_1.items = [LegendItem(label=currenT, renderers=[figure_2]), LegendItem(label=currenT2, renderers=[figure_1])];\n",
    "    legend_2.items = [LegendItem(label=currenT, renderers=[figure_4]), LegendItem(label=currenT2, renderers=[figure_3])];\n",
    "    push_notebook();"
   ]
  },
  {
   "cell_type": "markdown",
   "metadata": {},
   "source": [
    "### Last but not least, show the figures and interactive tool to change temperatures, each time it triggers a call to the function to update the figure."
   ]
  },
  {
   "cell_type": "code",
   "execution_count": null,
   "metadata": {
    "scrolled": false
   },
   "outputs": [],
   "source": [
    "show(row(plot,plot3),notebook_handle=True);\n",
    "interact(update_data, T = ipw.FloatSlider(min=0.001,max=1000.001,step=10,value=300,description = 'Temp (K)'), TT = ipw.FloatSlider(min=0.001,max=1000.001,step=10,value=0.001,description = 'Temp (K)'));"
   ]
  },
  {
   "cell_type": "code",
   "execution_count": null,
   "metadata": {},
   "outputs": [],
   "source": []
  }
 ],
 "metadata": {
  "kernelspec": {
   "display_name": "Python 3",
   "language": "python",
   "name": "python3"
  },
  "language_info": {
   "codemirror_mode": {
    "name": "ipython",
    "version": 3
   },
   "file_extension": ".py",
   "mimetype": "text/x-python",
   "name": "python",
   "nbconvert_exporter": "python",
   "pygments_lexer": "ipython3",
   "version": "3.7.9"
  }
 },
 "nbformat": 4,
 "nbformat_minor": 4
}
