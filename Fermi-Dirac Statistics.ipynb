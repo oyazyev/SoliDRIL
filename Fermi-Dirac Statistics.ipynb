{
 "cells": [
  {
   "cell_type": "code",
   "execution_count": null,
   "metadata": {},
   "outputs": [],
   "source": [
    "import numpy as np\n",
    "import pandas as pd\n",
    "import ipywidgets as ipw\n",
    "\n",
    "from ipywidgets import interact\n",
    "\n",
    "from bokeh.models import ColumnDataSource\n",
    "from bokeh.io import push_notebook, output_notebook, show\n",
    "from bokeh.layouts import row, column\n",
    "from bokeh.plotting import figure\n",
    "output_notebook()\n",
    "\n",
    "from collections import OrderedDict\n",
    "old_settings = np.seterr(over='ignore') #Ignore warnings about overflow data points"
   ]
  },
  {
   "cell_type": "markdown",
   "metadata": {},
   "source": [
    "This notebook serves to show how the Fermi-Dirac distribution and its derivative change with temperature.\n",
    "   \n",
    "The Fermi-dirac distribution is $$f(E)=\\frac{1}{e^{(E-\\mu)/k_bT}+1}$$ \n",
    "\n",
    "For the purpose of simplicity, we will plot the graph of $f(E-\\mu)$. This allows us to avoid complications connected with $\\mu$ being a function of temperature (consult the other notebook for this week or section 2.2.3 in the notes for more details)\n",
    "\n",
    "We first define the relevant variables, such as temperature, $k_b$ and energy range. Then we calculate the distribution for each point on the graph and its derivative. "
   ]
  },
  {
   "cell_type": "code",
   "execution_count": null,
   "metadata": {},
   "outputs": [],
   "source": [
    "# Set up constant\n",
    "N = 200; #number of point on graph\n",
    "kB = 8.617e-5; #eV/K\n",
    "T = 0.001; # Boltzmann constant measured interms of chemical potential\n",
    "currenT = [f'T = {T:.2f} K']*N; #Create an array of labels to initiate interactive legend\n",
    "kBT = kB * T;\n",
    "E_min = -10.0;\n",
    "E_max = 10.0; # Energy in eV\n",
    "factor = 0.2;\n",
    "\n",
    "# Set up the variable space for 1D plot\n",
    "En_mu = np.linspace(E_min, E_max, N) #Energy measured in units of chemical potential\n",
    "f = 1.0/(np.exp( (factor*En_mu)/kBT )+1) # Occupation number according to F-D statistics\n",
    "df = np.gradient(f) # Take the first derivative of the F-D distribution."
   ]
  },
  {
   "cell_type": "markdown",
   "metadata": {},
   "source": [
    "The rest of the notebook deals with setting up the plots for the graphs  "
   ]
  },
  {
   "cell_type": "code",
   "execution_count": null,
   "metadata": {},
   "outputs": [],
   "source": [
    "# Set up the first 1D plot (0K)\n",
    "plot = figure(plot_height=400, plot_width=400, title=\"Fermi-Dirac statistics in 1D\",\n",
    "              tools=\"pan,reset,save,wheel_zoom\",\n",
    "              x_range=[E_min, E_max], y_range=[0.0, 1.1])\n",
    "plot.xaxis[0].axis_label='Energy relative to chemical potential, E - \\u03BC (eV)';\n",
    "plot.yaxis[0].axis_label='Fermi-Dirac distribution f(E)';\n",
    "source = ColumnDataSource(dict(x=En_mu, y=f, label=currenT));\n",
    "r = plot.line(x='x',y='y',legend_group='label', source=source, line_color = 'blue', line_width=3, line_alpha=0.6);"
   ]
  },
  {
   "cell_type": "code",
   "execution_count": null,
   "metadata": {},
   "outputs": [],
   "source": [
    "# Set up the second interactive 1D plot\n",
    "plot1 = figure(plot_height=400, plot_width=400, title=\"Fermi-Dirac statistics in 1D\",\n",
    "              tools=\"pan,reset,save,wheel_zoom\",\n",
    "              x_range=[E_min, E_max], y_range=[0.0, 1.1])\n",
    "plot1.xaxis[0].axis_label='Energy relative to chemical potential, E - \\u03BC (eV)';\n",
    "plot1.yaxis[0].axis_label='Fermi-Dirac distribution f(E)';\n",
    "source1 = ColumnDataSource(dict(x=En_mu, y=f, label=currenT));\n",
    "rrrrr = plot.line(x='x',y='y',legend_field='label', source=source1, line_color = 'red', line_width=3, line_alpha=0.6);"
   ]
  },
  {
   "cell_type": "code",
   "execution_count": null,
   "metadata": {},
   "outputs": [],
   "source": [
    "# Set up a 1D plot of the first derivative of the F-D distribution at 0K\n",
    "plot3 = figure(plot_height=400, plot_width=400, title=\"First derivative\",\n",
    "              tools=\"pan,reset,save,wheel_zoom\",\n",
    "              x_range=[E_min, E_max], y_range=[0.0, 0.6])\n",
    "plot3.xaxis[0].axis_label='Energy relative to chemical potential, E - \\u03BC (eV)';\n",
    "plot3.yaxis[0].axis_label='First derivative df(E)/dE [1/eV]';\n",
    "source3 = ColumnDataSource(dict(x=En_mu, y=-df, label=currenT));\n",
    "rrrrrr = plot3.line(x='x', y='y', legend_group = \"label\", source=source3, line_color = 'blue', line_width=3, line_alpha=0.6);"
   ]
  },
  {
   "cell_type": "code",
   "execution_count": null,
   "metadata": {},
   "outputs": [],
   "source": [
    "# Set up an interactive 1D plot of the first derivative of the F-D distribution\n",
    "plot4 = figure(plot_height=400, plot_width=400, title=\"First derivative\",\n",
    "              tools=\"pan,reset,save,wheel_zoom\",\n",
    "              x_range=[E_min, E_max], y_range=[0.0, 0.6]);\n",
    "plot4.xaxis[0].axis_label='Energy relative to chemical potential, E - \\u03BC (eV)';\n",
    "plot4.yaxis[0].axis_label='First derivative df(E)/dE [1/eV]';\n",
    "source4 = ColumnDataSource(dict(x=En_mu, y=-df, label=currenT));\n",
    "rrr = plot3.line(x='x', y='y', legend_field = 'label', source=source4, line_color = 'red', line_width=3, line_alpha=0.6);"
   ]
  },
  {
   "cell_type": "code",
   "execution_count": null,
   "metadata": {},
   "outputs": [],
   "source": [
    "# Set up callbacks to update the 1D live graph\n",
    "def update_data(T):\n",
    "    # Generate the new curve\n",
    "    kBT = kB*T;\n",
    "    currenT = [f'T = {T:.2f} K']*N;\n",
    "    En_mu = np.linspace(E_min, E_max, N) #Energy measured in units of chemical potential\n",
    "    rrrrr.data_source.data['y'] = 1.0/(np.exp( (factor*En_mu)/kBT )+1);\n",
    "    rrrrr.data_source.data['label'] = currenT;\n",
    "    rrr.data_source.data['y'] = -np.gradient(rrrrr.data_source.data['y']);\n",
    "    rrr.data_source.data['label'] = currenT;\n",
    "    push_notebook();"
   ]
  },
  {
   "cell_type": "code",
   "execution_count": null,
   "metadata": {},
   "outputs": [],
   "source": [
    "show(row(plot,plot3),notebook_handle=True);"
   ]
  },
  {
   "cell_type": "code",
   "execution_count": null,
   "metadata": {},
   "outputs": [],
   "source": [
    "interact(update_data, T = ipw.FloatSlider(min=0.001,max=1000.001,step=10,value=300,description = 'Temp (K)'));"
   ]
  },
  {
   "cell_type": "code",
   "execution_count": null,
   "metadata": {},
   "outputs": [],
   "source": []
  },
  {
   "cell_type": "code",
   "execution_count": null,
   "metadata": {},
   "outputs": [],
   "source": []
  }
 ],
 "metadata": {
  "kernelspec": {
   "display_name": "Python",
   "language": "python",
   "name": "python3"
  },
  "language_info": {
   "codemirror_mode": {
    "name": "ipython",
    "version": 3
   },
   "file_extension": ".py",
   "mimetype": "text/x-python",
   "name": "python",
   "nbconvert_exporter": "python",
   "pygments_lexer": "ipython3",
   "version": "3.8.10"
  }
 },
 "nbformat": 4,
 "nbformat_minor": 4
}
