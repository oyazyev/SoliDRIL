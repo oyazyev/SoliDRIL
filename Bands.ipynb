{
 "cells": [
  {
   "cell_type": "code",
   "execution_count": 1,
   "metadata": {},
   "outputs": [],
   "source": [
    "import numpy as np\n",
    "from numpy import linalg as LA\n",
    "import matplotlib.pyplot as plt\n",
    "\n",
    "# from __future__ import print_function\n",
    "from ipywidgets import interact, interactive, fixed, interact_manual\n",
    "import ipywidgets as widgets\n",
    "\n",
    "plt.rcParams['figure.figsize'] = [4, 8]\n",
    "plt.rcParams['figure.dpi'] = 100 # 200 e.g. is really fine, but slower"
   ]
  },
  {
   "cell_type": "markdown",
   "metadata": {},
   "source": [
    "# The emergence of band structures\n",
    "\n",
    "Yifei Guan (yifei.guan@epfl.ch)"
   ]
  },
  {
   "cell_type": "markdown",
   "metadata": {},
   "source": [
    "This jupyter notebook is intended to provide a illustration of the band structures in solides, starting from the points of view of free electrons and atomic orbitals. The goals are:\n",
    "- To understand how the Bloch theorem leads to band structures.\n",
    "- To see how the electronic bands emerge from the interplay of periodic potential and kinetic energy.\n",
    "- Understanding the relationship between the Schrodinger equation and the calculation*"
   ]
  },
  {
   "cell_type": "markdown",
   "metadata": {},
   "source": [
    "## The Bloch theorem\n",
    "In solids, the lattice has discrete translational symmetry. The Bloch theorem says that, such symmetry applies to the wavefunction as well, such that $$[H,R_i]=0$$\n",
    "To study the energy levels in solides, one can adapt the simplest Hamiltonian:$$ H = -\\frac{h^2}{2m} \\nabla^2 + U(r)$$ where $U(r+R_i)=U(r)$   \n",
    "\n"
   ]
  },
  {
   "cell_type": "markdown",
   "metadata": {},
   "source": [
    "From the commutation relations of the Hamiltonian, the wavefunctions should be of the form $\\psi(nR_i + r) = \\psi(r) \\exp(-inR_i)$ which is called Bloch functions."
   ]
  },
  {
   "cell_type": "markdown",
   "metadata": {},
   "source": [
    "## From the atomic orbitals/free electrons to band structures\n",
    "\n",
    "The Hamiltonian $$ H = -\\frac{h^2}{2m} \\nabla^2 + U(r)$$ contains two components: the kinetic energy $E_k=-\\frac{h^2}{2m} \\nabla^2$ and the potential $U$. Thus, we can look into the formation of band structure from the limits of free electrons($E_k >> U$) or localized orbitals($E_k<<U$) and treating the other term as a perturbation."
   ]
  },
  {
   "cell_type": "code",
   "execution_count": 2,
   "metadata": {
    "jupyter": {
     "source_hidden": true
    }
   },
   "outputs": [],
   "source": [
    "def interactive_bands(t,g):\n",
    "    '''\n",
    "    :param k: wave number\n",
    "    '''\n",
    "\n",
    "    nq=30\n",
    "    # Define the position of the original lattice\n",
    "    qs=np.arange(nq)\n",
    "    plx=np.zeros((nq+1,nq+1))\n",
    "    ply=np.zeros((nq+1,nq+1))\n",
    "    #plz=np.zeros((nq+1,nq+1))\n",
    "    z=1j*3.14/nq\n",
    "    mat=np.zeros((nq+1,nq+1),dtype=complex)\n",
    "    #print(z)\n",
    "    #print(z*z)\n",
    "    for i in range(0,nq+1):\n",
    "        y=np.ones(nq)*t\n",
    "        mat=np.zeros((nq+1,nq+1),dtype=complex)\n",
    "        mat=mat+np.diag(y,-1)+np.diag(y,1)# nearest neibour positions\n",
    "        mat[nq,0]=np.exp(2*z*(i-nq/1))*t\n",
    "        mat[0,nq]=np.exp(-2*z*(i-nq/1))*t\n",
    "        mat[0,0]=g\n",
    "        #mat=mat+np.diag(np.arange(t,nq+1))\n",
    "        \n",
    "        #print(np.exp(-z*i)*t)\n",
    "\n",
    "        ply[i]=np.linalg.eigvalsh(mat)#+t*2\n",
    "        #print(ply[i-1])\n",
    "        plx[i]=np.ones(nq+1)*(i-nq/2)\n",
    "        #plz[i]=t*(((i-nq/2)/nq/2)**2)-2*t\n",
    "        #plt.plot(ply[i-1])\n",
    "    \n",
    "    for i in range(0,nq+1):\n",
    "        plt.plot(plx[:,i],ply[:,i],'b')\n",
    "        plt.plot(plx[:,i]+nq,ply[:,i],'g')\n",
    "        plt.plot(plx[:,i]-nq,ply[:,i],'r')\n",
    "        #plt.plot(plx[:,i]-nq*2,ply[:,i])\n",
    "    x = np.linspace(-1.5*nq,1.5*nq,100)\n",
    "    plz=t*(6.28*x/(nq*nq))**2 - 2*t\n",
    "    plt.plot(x,plz,'y')\n",
    "    \n",
    "    ax = plt.gca()\n",
    "    #ax.set_aspect(90)\n",
    "    plt.ylim(-2*t,-t)\n",
    "    zz=ply[0,0]+2*t\n",
    "    print(zz)\n",
    "    tic=-2*t+zz*np.arange(1,7)**2\n",
    "    plt.yticks(tic)\n",
    "    plt.show()"
   ]
  },
  {
   "cell_type": "markdown",
   "metadata": {},
   "source": [
    "## An interactive look\n",
    "\n",
    "In the following block, there is a simple example on how band structure emerges in lattices. The potential function $U$ takes a simplest form $U=\\delta (x)$\n",
    "\n",
    "\n",
    "\n",
    "\n",
    "By tuning the parameter t and g, one can travel between the periodic free electronic limit and the discrete energy levels. One can see that, at the limit $t<<g$, the spectrum resembles a series of discrete energy levels, which are rarely dependent on the wave vector $k$. Such a spectrum reflect the fact that the eigenstates are mostly localized by the strong potential. On the other hand, if we take $t$ as the dominant term, the spectrum then looks like a series of quadratic functions. This is consistent with the fact that the system is periodic and the electrons are nearly free. \n",
    "\n",
    "In between the two cases, there then arrives our band structures: the spectrum forms several energy bands while each band has some dispersion. "
   ]
  },
  {
   "cell_type": "code",
   "execution_count": 3,
   "metadata": {},
   "outputs": [
    {
     "data": {
      "application/vnd.jupyter.widget-view+json": {
       "model_id": "923b3f9cb23b495c8f57fa61e13065f7",
       "version_major": 2,
       "version_minor": 0
      },
      "text/plain": [
       "interactive(children=(FloatSlider(value=0.46, description='t', max=1.0, min=0.01, step=0.05), FloatSlider(valu…"
      ]
     },
     "metadata": {},
     "output_type": "display_data"
    },
    {
     "data": {
      "text/plain": [
       "<function __main__.interactive_bands(t, g)>"
      ]
     },
     "execution_count": 3,
     "metadata": {},
     "output_type": "execute_result"
    }
   ],
   "source": [
    "interact(interactive_bands,t=(0.01,1.00,0.05),g=(0,1.00,0.05))"
   ]
  },
  {
   "cell_type": "code",
   "execution_count": null,
   "metadata": {},
   "outputs": [],
   "source": []
  },
  {
   "cell_type": "code",
   "execution_count": null,
   "metadata": {},
   "outputs": [],
   "source": []
  }
 ],
 "metadata": {
  "kernelspec": {
   "display_name": "Python 3",
   "language": "python",
   "name": "python3"
  },
  "language_info": {
   "codemirror_mode": {
    "name": "ipython",
    "version": 3
   },
   "file_extension": ".py",
   "mimetype": "text/x-python",
   "name": "python",
   "nbconvert_exporter": "python",
   "pygments_lexer": "ipython3",
   "version": "3.6.9"
  },
  "toc": {
   "base_numbering": 1,
   "nav_menu": {},
   "number_sections": false,
   "sideBar": false,
   "skip_h1_title": false,
   "title_cell": "Table of Contents",
   "title_sidebar": "Contents",
   "toc_cell": false,
   "toc_position": {},
   "toc_section_display": false,
   "toc_window_display": false
  }
 },
 "nbformat": 4,
 "nbformat_minor": 4
}
