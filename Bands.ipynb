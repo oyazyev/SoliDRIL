{
 "cells": [
  {
   "cell_type": "code",
   "execution_count": 58,
   "metadata": {},
   "outputs": [],
   "source": [
    "import numpy as np\n",
    "from numpy import linalg as LA\n",
    "import matplotlib.pyplot as plt\n",
    "\n",
    "# from __future__ import print_function\n",
    "from ipywidgets import interact, interactive, fixed, interact_manual\n",
    "import ipywidgets as widgets\n",
    "%matplotlib widget\n",
    "plt.rcParams['figure.figsize'] = [8,6]\n",
    "plt.rcParams['figure.dpi'] = 100 # 200 e.g. is really fine, but slower"
   ]
  },
  {
   "cell_type": "markdown",
   "metadata": {},
   "source": [
    "# The emergence of band structures\n",
    "\n",
    "If you have questions about this notebook, e-mail Oleg Malanyuk (oleg.malanyuk@epfl.ch) "
   ]
  },
  {
   "cell_type": "markdown",
   "metadata": {},
   "source": [
    "This jupyter notebook is intended to provide a illustration of the band structures in solides, starting from the points of view of free electrons and atomic orbitals. The goals are:\n",
    "- To understand how the Bloch theorem leads to band structures.\n",
    "- To see how the electronic bands emerge from the interplay of periodic potential and kinetic energy.\n",
    "- Understanding the relationship between the Schrodinger equation and the calculation*"
   ]
  },
  {
   "cell_type": "markdown",
   "metadata": {},
   "source": [
    "## The Bloch theorem\n",
    "In solids, the lattice has discrete translational symmetry. The Bloch theorem says that, such symmetry applies to the wavefunction as well, such that $$[H,R_i]=0$$\n",
    "To study the energy levels in solides, one can adapt the simplest Hamiltonian:$$ H = -\\frac{h^2}{2m} \\nabla^2 + U(r)$$ where $U(r+R_i)=U(r)$   \n",
    "\n"
   ]
  },
  {
   "cell_type": "markdown",
   "metadata": {},
   "source": [
    "From the commutation relations of the Hamiltonian, the wavefunctions should be of the form $\\psi(nR_i + r) = \\psi(r) \\exp(-inR_i)$ which is called Bloch functions."
   ]
  },
  {
   "cell_type": "markdown",
   "metadata": {},
   "source": [
    "## From the atomic orbitals/free electrons to band structures\n",
    "\n",
    "The Hamiltonian $$ H = -\\frac{h^2}{2m} \\nabla^2 + U(r)$$ contains two components: the kinetic energy $E_k=-\\frac{h^2}{2m} \\nabla^2$ and the potential $U$. Thus, we can look into the formation of band structure from the limits of free electrons($E_k >> U$) or localized orbitals($E_k<<U$) and treating the other term as a perturbation."
   ]
  },
  {
   "cell_type": "code",
   "execution_count": 65,
   "metadata": {
    "tags": []
   },
   "outputs": [],
   "source": [
    "#setting up the starting parameters to initialise the plot\n",
    "t_g = 0.5 #weight of kintetic energy\n",
    "u_g = 0.5 #weight of potential energy\n",
    "U_type_g = 'Sine Wave' #time of the potential\n",
    "n_G=20 #number of G vectors, utilised in the size of the Hamiltonian matrix\n",
    "#(technically should be infinite, but as we are concerned with only a few initial bands finite size is fine)\n",
    "n_k=30 #number of k vectors, technically depends on number of unit cells N, the size of the system \n",
    "\n",
    "#the function below deals with changing potential type\n",
    "def interactive_bands_V(U_type):\n",
    "    '''\n",
    "    :param k: wave number\n",
    "    '''\n",
    "    #Taking Fourier transform of the potential takes quite a bit of computational time, hence the interactive\n",
    "    #part is split between changing the potential type and changing weights. To keep variables consistent\n",
    "    #between the two functions, global variables are used\n",
    "    global t_g, u_g, U_type_g, n_G, n_k \n",
    "    global ax1, ax2, ax3\n",
    "    U_type_g = U_type #as potential type is changed, update the global variable\n",
    "    t = t_g #read the weights of KE and PE from global variables\n",
    "    u = u_g\n",
    "    mat=np.zeros((n_G+1,n_G+1)) #predefine the size of the Hamiltonian matrix\n",
    "    \n",
    "    n = 30 #these two variables are used in plotting the potential and its Fourier transform\n",
    "    fs = 500 #n is number of atoms (system size) and fs is number of points to plot between each atom\n",
    "    x = np.linspace(-n, n, n*fs+1, endpoint=True) #position vector to be untilised in plotting the potential\n",
    "    \n",
    "    k_values=np.zeros((n_k+1,n_G+1)) #predefine the size of variables which will be used for band plots\n",
    "    Energy_Eigenvalues=np.zeros((n_k+1,n_G+1))\n",
    "    \n",
    "   \n",
    "    \n",
    "    if (U_type == 'Sine Wave'):\n",
    "        V = -np.cos(x*2*np.pi) #define potential, in this case cos()\n",
    "\n",
    "        for i in range(n_k+1):\n",
    "            mat=np.zeros((n_G+1,n_G+1))\n",
    "            U=np.ones(n_G+1)*(-u) #define fourier components of the potential. As potential is cos() hence only G'-G = +-1 compontents will be present\n",
    "            K=np.ones(n_G+1) #define dimensions of kinetic energy vector\n",
    "            for j in range(n_G+1):\n",
    "                K[j] = t*(i/n_k - 1/2 + j - n_G/2)**2 #for every\n",
    "            mat=mat+np.diag(U,-1)[:-1,:-1]+np.diag(U,1)[:-1,:-1]+np.diag(K,0) \n",
    "            #put the kinetic terms on the diagonal of the Hamiltonian, and add the potential as off diagonal elements\n",
    "            Energy_Eigenvalues[i]=np.linalg.eigvalsh(mat) #energy levels will be the eigenvalues of hamiltonian\n",
    "            k_values[i]=np.ones(n_G+1)*(i-n_k/2)/n_k #keep track of which k value is the eigenvalues for\n",
    "\n",
    "    elif (U_type == 'Series of Delta Functions'):\n",
    "        V = (np.ones(x.shape) - np.ceil(x-np.floor(np.round(x,4)))) #convinient way to define series of delta functions\n",
    "        \n",
    "        for i in range(n_k+1):\n",
    "            K=np.ones(n_G+1)\n",
    "            for j in range(n_G+1):\n",
    "                K[j] = t*(i/n_k - 1/2 + j - n_G/2)**2\n",
    "            mat=np.ones((n_G+1,n_G+1))*(u) #in this case, all G'-G values are u, hence we just define all matrix elements to be u\n",
    "            mat=mat+np.diag(K,0) #add kinetic term to the diagonal\n",
    "            Energy_Eigenvalues[i]=np.linalg.eigvalsh(mat) #energy levels will be the eigenvalues of hamiltonian\n",
    "            k_values[i]=np.ones(n_G+1)*(i-n_k/2)/n_k \n",
    "            \n",
    "    elif (U_type == 'Square Wave'):\n",
    "        V = 2*np.round((-np.cos(x*2*np.pi)+1)/2, 0) - np.ones(x.shape) #convinient way to define square wave\n",
    "        \n",
    "        for i in range(n_G+1):\n",
    "            for j in range(n_G+1):\n",
    "                if ((i - j) %2!=0):\n",
    "                    mat[i][j] = (-1)**(int((i-j+1)/2))*u/(i-j) \n",
    "        #in this case, the fourier coefficients will be non-zero only if G'-G is odd, are proportional to 1/(G'-G)\n",
    "        #and vary in sign, -1 if (G'-G)/2pi = = 1 (mod 4), 1 if (G'-G)/2pi = -1 (mod 4) [a=1 for convinience]\n",
    "        for i in range(n_k+1):\n",
    "            mat_sq = np.copy(mat)\n",
    "            K=np.ones(n_G+1)\n",
    "            for j in range(n_G+1):\n",
    "                K[j] = t*(i/n_k - 1/2 + j - n_G/2)**2\n",
    "            mat_sq=mat_sq+np.diag(K,0) #add kinetic energy to the hamiltonian\n",
    "            Energy_Eigenvalues[i]=np.linalg.eigvalsh(mat_sq) #energy levels will be the eigenvalues of hamiltonian\n",
    "            k_values[i]=np.ones(n_G+1)*(i-n_k/2)/n_k \n",
    "    \n",
    "    #find fourier transform of the potential\n",
    "    Vq = np.fft.fft(V)\n",
    "    k = np.fft.fftfreq(n = x.shape[0], d = 2/fs)\n",
    "    \n",
    "    #code below sets up the plots\n",
    "    ax1.clear()\n",
    "    ax1.set_xlabel('k vector (as fraction of G)');\n",
    "    ax1.set_ylabel('Electron Energy');\n",
    "    ax1.set_title('Band Structure')\n",
    "    \n",
    "    for i in range(0,n_G+1):\n",
    "        ax1.plot(k_values[:,i],Energy_Eigenvalues[:,i],'b')\n",
    "        ax1.plot(k_values[:,i]+1,Energy_Eigenvalues[:,i],'g')\n",
    "        ax1.plot(k_values[:,i]-1,Energy_Eigenvalues[:,i],'r')\n",
    "   \n",
    "    ax2.clear()\n",
    "    ax2.set_xlabel('Distance x');\n",
    "    ax2.set_ylabel('Potential U(x)');\n",
    "    ax2.set_title('Shape of Potential U(x)')\n",
    "    ax2.set_yticks(ticks=[-1,0,1]);\n",
    "    ax2.plot(x[int((n/2-1/2)*fs)-2:int((n/2+1/2)*fs)+2], V[int((n/2-1/2)*fs)-2:int((n/2+1/2)*fs)+2])\n",
    "    \n",
    "    ax3.clear()\n",
    "    ax3.plot(k, Vq.real)\n",
    "    ax3.set_xlim(0,10)\n",
    "    ax3.set_xticks(ticks=np.arange(0, 10, step=1));\n",
    "    ax3.set_yticks(ticks=[0]);\n",
    "    ax3.set_title('Fourier transform of Potential U(q)')\n",
    "    ax3.set_xlabel('q vector (as fraction of G)');\n",
    "    ax3.set_ylabel('Relative Intensity of Uq');\n",
    "    ax3.grid\n",
    "    \n",
    "    x = np.linspace(-1.5*n_k,1.5*n_k,100)\n",
    "    plz=t*(x/(n_k))**2 + np.ones(x.shape[0])*Energy_Eigenvalues[int(n_k/2+1)][0]\n",
    "    x = x/n_k\n",
    "    ax1.plot(x,plz,'y')\n",
    "    ax1.set_ylim(Energy_Eigenvalues[int(n_k/2+1)][0]-0.1,(Energy_Eigenvalues[int(n_k/2+1)][7]+Energy_Eigenvalues[int(n_k/2+1)][8])/2)\n",
    "\n",
    "    plt.show()"
   ]
  },
  {
   "cell_type": "code",
   "execution_count": 66,
   "metadata": {
    "tags": []
   },
   "outputs": [],
   "source": [
    "#code below is mostly identical to the one above, but with fourier transforms of potentials removed\n",
    "#changing values of t and u doesn't change the general shape of potential, hence we only need to update the band structure\n",
    "def interactive_bands_tu(t,u):\n",
    "    '''\n",
    "    :param k: wave number\n",
    "    '''\n",
    "    global t_g, u_g, U_type_g, n_G, n_k\n",
    "    global ax1, ax2, ax3\n",
    "    t_g = t #this time round we update u and t hence we pass these to global variables\n",
    "    u_g = u\n",
    "    U_type = U_type_g #read the current potentail type\n",
    "    mat=np.zeros((n_G+1,n_G+1)) #predefine the size of the Hamiltonian matrix\n",
    "    k_values=np.zeros((n_k+1,n_G+1)) #predefine the size of variables which will be used for band plots\n",
    "    Energy_Eigenvalues=np.zeros((n_k+1,n_G+1))\n",
    "    \n",
    "   \n",
    "    \n",
    "    if (U_type == 'Sine Wave'):\n",
    "        for i in range(n_k+1):\n",
    "            mat=np.zeros((n_G+1,n_G+1))\n",
    "            U=np.ones(n_G+1)*(-u) #define fourier components of the potential. As potential is cos() hence only G'-G = +-1 compontents will be present\n",
    "            K=np.ones(n_G+1) #define dimensions of kinetic energy vector\n",
    "            for j in range(n_G+1):\n",
    "                K[j] = t*(i/n_k - 1/2 + j - n_G/2)**2 #for every\n",
    "            mat=mat+np.diag(U,-1)[:-1,:-1]+np.diag(U,1)[:-1,:-1]+np.diag(K,0) \n",
    "            #put the kinetic terms on the diagonal of the Hamiltonian, and add the potential as off diagonal elements\n",
    "            Energy_Eigenvalues[i]=np.linalg.eigvalsh(mat) #energy levels will be the eigenvalues of hamiltonian\n",
    "            k_values[i]=np.ones(n_G+1)*(i-n_k/2)/n_k #keep track of which k value is the eigenvalues for\n",
    "\n",
    "    elif (U_type == 'Series of Delta Functions'):\n",
    "        for i in range(n_k+1):\n",
    "            K=np.ones(n_G+1)\n",
    "            for j in range(n_G+1):\n",
    "                K[j] = t*(i/n_k - 1/2 + j - n_G/2)**2\n",
    "            mat=np.ones((n_G+1,n_G+1))*(u) #in this case, all G'-G values are u, hence we just define all matrix elements to be u\n",
    "            mat=mat+np.diag(K,0) #add kinetic term to the diagonal\n",
    "            Energy_Eigenvalues[i]=np.linalg.eigvalsh(mat) #energy levels will be the eigenvalues of hamiltonian\n",
    "            k_values[i]=np.ones(n_G+1)*(i-n_k/2)/n_k \n",
    "            \n",
    "    elif (U_type == 'Square Wave'):\n",
    "        mat=np.zeros((n_G+1,n_G+1))\n",
    "        for i in range(n_G+1):\n",
    "            for j in range(n_G+1):\n",
    "                if ((i - j) %2!=0):\n",
    "                    mat[i][j] = (-1)**(int((i-j+1)/2))*u/(i-j) \n",
    "        #in this case, the fourier coefficients will be non-zero only if G'-G is odd, are proportional to 1/(G'-G)\n",
    "        #and vary in sign, -1 if (G'-G)/2pi = = 1 (mod 4), 1 if (G'-G)/2pi = -1 (mod 4) [a=1 for convinience]\n",
    "        for i in range(n_k+1):\n",
    "            mat_sq = np.copy(mat)\n",
    "            K=np.ones(n_G+1)\n",
    "            for j in range(n_G+1):\n",
    "                K[j] = t*(i/n_k - 1/2 + j - n_G/2)**2\n",
    "            mat_sq=mat_sq+np.diag(K,0) #add kinetic energy to the hamiltonian\n",
    "            Energy_Eigenvalues[i]=np.linalg.eigvalsh(mat_sq) #energy levels will be the eigenvalues of hamiltonian\n",
    "            k_values[i]=np.ones(n_G+1)*(i-n_k/2)/n_k \n",
    "    \n",
    "\n",
    "    ax1.clear()\n",
    "    ax1.set_xlabel('k vector (as fraction of G)');\n",
    "    ax1.set_ylabel('Electron Energy');\n",
    "    ax1.set_title('Band Structure')\n",
    "    \n",
    "    for i in range(0,n_G+1):\n",
    "        ax1.plot(k_values[:,i],Energy_Eigenvalues[:,i],'b')\n",
    "        ax1.plot(k_values[:,i]+1,Energy_Eigenvalues[:,i],'g')\n",
    "        ax1.plot(k_values[:,i]-1,Energy_Eigenvalues[:,i],'r')\n",
    "\n",
    "    x = np.linspace(-1.5*n_k,1.5*n_k,100)\n",
    "    plz=t*(x/(n_k))**2 + np.ones(x.shape[0])*Energy_Eigenvalues[int(n_k/2+1)][0]\n",
    "    x = x/n_k\n",
    "    ax1.plot(x,plz,'y')\n",
    "    ax1.set_ylim(Energy_Eigenvalues[int(n_k/2+1)][0]-0.1,(Energy_Eigenvalues[int(n_k/2+1)][7]+Energy_Eigenvalues[int(n_k/2+1)][8])/2)\n",
    "\n",
    "\n",
    "    plt.show()"
   ]
  },
  {
   "cell_type": "markdown",
   "metadata": {},
   "source": [
    "## An interactive look\n",
    "\n",
    "In the following block, there is a simple example on how band structure emerges in lattices. The potential function $U$ is for a lattice with atomic positions $x_i \\in \\mathbb{Z}$. $U$ takes one of three forms: \n",
    "\n",
    "1. Sine wave: $U(x)=-2u*cos(2\\pi x)$, \n",
    "\n",
    "2. Series of Delta functions centred on atomic positions: $U(x)=\\sum_{x_i} u*\\delta(x - x_i)$ \n",
    "\n",
    "3. Square wave: $U(x)= -u$ for $x_i - \\frac{1}{2} < x \\le x_i + \\frac{1}{2}$ and $U(x)= u$ otherwise\n",
    "\n",
    "Meanwhile, t regulates kinetic energy contribution (i.e. a free electron with momentum k would have energy $T=t*k^2$) \n",
    "\n",
    "\n",
    "\n",
    "\n",
    "By tuning the parameter t and u, one can travel between the periodic free electronic limit and the discrete energy levels. One can see that, at the limit $t<<u$, the spectrum resembles a series of discrete energy levels, which are rarely dependent on the wave vector $k$. Such a spectrum reflect the fact that the eigenstates are mostly localized by the strong potential. On the other hand, if we take $t$ as the dominant term, the spectrum then looks like a series of quadratic functions. This is consistent with the fact that the system is periodic and the electrons are nearly free. \n",
    "\n",
    "In between the two cases, there then arrives our band structures: the spectrum forms several energy bands while each band has some dispersion. "
   ]
  },
  {
   "cell_type": "code",
   "execution_count": 67,
   "metadata": {},
   "outputs": [
    {
     "data": {
      "application/vnd.jupyter.widget-view+json": {
       "model_id": "712231ce7bea4e98ad0fa87879fa4c7b",
       "version_major": 2,
       "version_minor": 0
      },
      "text/plain": [
       "Canvas(toolbar=Toolbar(toolitems=[('Home', 'Reset original view', 'home', 'home'), ('Back', 'Back to previous …"
      ]
     },
     "metadata": {},
     "output_type": "display_data"
    },
    {
     "data": {
      "application/vnd.jupyter.widget-view+json": {
       "model_id": "905a1915c3a84789b885045b5a75999e",
       "version_major": 2,
       "version_minor": 0
      },
      "text/plain": [
       "interactive(children=(FloatSlider(value=0.5, description='u', max=1.0, step=0.05), Output()), _dom_classes=('w…"
      ]
     },
     "metadata": {},
     "output_type": "display_data"
    },
    {
     "data": {
      "application/vnd.jupyter.widget-view+json": {
       "model_id": "30ebd1446e4341cc8f9cedbb308845d7",
       "version_major": 2,
       "version_minor": 0
      },
      "text/plain": [
       "interactive(children=(RadioButtons(description='Potential:', options=('Sine Wave', 'Series of Delta Functions'…"
      ]
     },
     "metadata": {},
     "output_type": "display_data"
    }
   ],
   "source": [
    "plt.clf\n",
    "figs = plt.figure();\n",
    "ax1 = plt.subplot(1,9,(1,3));\n",
    "\n",
    "ax2 = plt.subplot(3,9,(6,9));\n",
    "\n",
    "ax3 = plt.subplot(2,9,(15,18));\n",
    "\n",
    "\n",
    "interact(interactive_bands_tu,t=fixed(1),u=widgets.FloatSlider(min=0.00, max=1.00, step=0.05, value = u_g));\n",
    "# input t=widgets.FloatSlider(min=0.05, max=1.00, step=0.05, value = t_g) instead of t=fixed(1) to have control over KE contribution\n",
    "interact(interactive_bands_V, U_type=widgets.RadioButtons(\n",
    "    value= U_type_g, \n",
    "    options=['Sine Wave', 'Series of Delta Functions', 'Square Wave'], \n",
    "    description='Potential:'\n",
    "));"
   ]
  },
  {
   "cell_type": "code",
   "execution_count": null,
   "metadata": {},
   "outputs": [],
   "source": []
  },
  {
   "cell_type": "code",
   "execution_count": null,
   "metadata": {},
   "outputs": [],
   "source": []
  }
 ],
 "metadata": {
  "kernelspec": {
   "display_name": "Python",
   "language": "python",
   "name": "python3"
  },
  "language_info": {
   "codemirror_mode": {
    "name": "ipython",
    "version": 3
   },
   "file_extension": ".py",
   "mimetype": "text/x-python",
   "name": "python",
   "nbconvert_exporter": "python",
   "pygments_lexer": "ipython3",
   "version": "3.8.10"
  },
  "toc": {
   "base_numbering": 1,
   "nav_menu": {},
   "number_sections": false,
   "sideBar": false,
   "skip_h1_title": false,
   "title_cell": "Table of Contents",
   "title_sidebar": "Contents",
   "toc_cell": false,
   "toc_position": {},
   "toc_section_display": false,
   "toc_window_display": false
  }
 },
 "nbformat": 4,
 "nbformat_minor": 4
}
