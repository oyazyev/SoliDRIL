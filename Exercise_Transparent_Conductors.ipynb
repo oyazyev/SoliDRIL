{
 "cells": [
  {
   "cell_type": "markdown",
   "metadata": {
    "tags": []
   },
   "source": [
    "# Chapter 1: Transparent Conductors"
   ]
  },
  {
   "cell_type": "markdown",
   "metadata": {
    "tags": []
   },
   "source": [
    "### Instruction: The purpose of this notebook is to try and find values of electron density and mean free time for a material suitable to be used as a transparent conductors. The final estimate should be the order of the two parameters to be used"
   ]
  },
  {
   "cell_type": "code",
   "execution_count": null,
   "metadata": {},
   "outputs": [],
   "source": [
    "import numpy as np\n",
    "\n",
    "from bokeh.io import push_notebook, output_notebook, show\n",
    "from bokeh.layouts import row, column\n",
    "from bokeh.plotting import figure\n",
    "output_notebook()\n",
    "\n",
    "from ipywidgets import interact\n",
    "\n",
    "from collections import OrderedDict\n",
    "old_settings = np.seterr(over = 'ignore') #Ignore warnings about overflow data points"
   ]
  },
  {
   "cell_type": "markdown",
   "metadata": {
    "tags": []
   },
   "source": [
    "#### First, we set up initial variables used in the calculation. These involve defining electron density, electron mass and charge, material resistivity/conductivity, vacuum and effective material permittivity, the bounds of frequency used in calculations and the number of points we want to calculate for our graphs. Additionally, mean free time tau can be calculated from \n",
    "$\\sigma = ne^2\\tau /m $"
   ]
  },
  {
   "cell_type": "code",
   "execution_count": null,
   "metadata": {},
   "outputs": [],
   "source": [
    "# Set up constant in SI units\n",
    "freq_min = 1e+14   #Lower limit of frequency\n",
    "freq_max = 10e+14    #Upper limit of frequency\n",
    "dens = 8.47e+28 #Define initial electron density\n",
    "m = 9.109e-31 #Define electron mass\n",
    "elec = 1.602e-19 #Define elementary electron charge\n",
    "rho = 1.56e-8 #Define DC resistivity\n",
    "sigma0 = 1/rho #Calculate initial DC conductivity from resisitivity\n",
    "eps = 8.854e-12 #Vacuum permittivity\n",
    "eps0 = 1.0 #Effective permittivity of the material\n",
    "N = 5000   #Number of points for the independent variable\n",
    "tau = m / (dens*rho*elec**2) #Calculate mean free time"
   ]
  },
  {
   "cell_type": "markdown",
   "metadata": {
    "tags": []
   },
   "source": [
    "#### Next, we define a variable containing all our frequency points and convert frequecy to angular frequency. With all variables defined, we can calculate the real and imaginary part of the AC conductivity."
   ]
  },
  {
   "cell_type": "code",
   "execution_count": null,
   "metadata": {},
   "outputs": [],
   "source": [
    "# Set up the variable space\n",
    "freq = np.linspace(freq_min, freq_max, N)  #Energy measured in units of chemical potential\n",
    "w = 2*np.pi*freq #Convert frequency to angular frequency\n",
    "# Calculate AC conductivity\n",
    "sigma1 = sigma0 / (1.0 + w**2*tau**2)  #Real part of the conductivity\n",
    "sigma2 = w*tau*sigma0 / (1.0 + w**2*tau**2)  #imaginary part of the conductivity"
   ]
  },
  {
   "cell_type": "markdown",
   "metadata": {
    "tags": []
   },
   "source": [
    "#### With AC coductivity calculated, we can proceed to calculate the permittivity of the material."
   ]
  },
  {
   "cell_type": "code",
   "execution_count": null,
   "metadata": {},
   "outputs": [],
   "source": [
    "#calculate permittivity\n",
    "eps1 = eps0 - sigma2 /(eps*w)\n",
    "eps2 = sigma1/(eps*w)"
   ]
  },
  {
   "cell_type": "markdown",
   "metadata": {
    "tags": []
   },
   "source": [
    "#### In the two inputs below we set up the plot figures four our 4 graphs (imaginary and real part of conductivity, imaginary and real part of permittivity)"
   ]
  },
  {
   "cell_type": "code",
   "execution_count": null,
   "metadata": {},
   "outputs": [],
   "source": [
    "# Set up conductivity plot\n",
    "plot = figure(plot_height=200, plot_width=400, title=\"Real part of AC conductivity\",\n",
    "              tools=\"pan,reset,save,wheel_zoom\",\n",
    "              x_range=[freq_min, freq_max])\n",
    "plot.xaxis[0].axis_label='Frequency (Hz)'\n",
    "plot.yaxis[0].axis_label='conductivity (Ohm-1m-1)'\n",
    "r = plot.line(freq, sigma1, line_width=3, line_alpha=0.6)\n",
    "\n",
    "plot2 = figure(plot_height=200, plot_width=400, title=\"Imaginary part of AC conductivity\",\n",
    "              tools=\"pan,reset,save,wheel_zoom\",\n",
    "              x_range=[freq_min, freq_max], y_range=[0.0, 2e+7])\n",
    "plot2.xaxis[0].axis_label='Frequency (Hz)'\n",
    "plot2.yaxis[0].axis_label='conductivity (Ohm-1m-1)'\n",
    "rr = plot2.line(freq, sigma2, line_width=3, line_alpha=0.6, color = 'red')"
   ]
  },
  {
   "cell_type": "code",
   "execution_count": null,
   "metadata": {
    "scrolled": true
   },
   "outputs": [],
   "source": [
    "# Set up permittivity plot\n",
    "plot3 = figure(plot_height=200, plot_width=400, title=\"Real part of permittivity\",\n",
    "              tools=\"pan,reset,save,wheel_zoom\",\n",
    "              x_range=[freq_min, freq_max])\n",
    "plot3.xaxis[0].axis_label='Frequency (Hz)'\n",
    "plot3.yaxis[0].axis_label='Permittivity (F/m)'\n",
    "rrr = plot3.line(freq, eps1, line_width=3, line_alpha=0.6)\n",
    "\n",
    "plot4 = figure(plot_height=200, plot_width=400, title= \"imaginary part of permittivity\",\n",
    "              tools=\"pan,reset,save,wheel_zoom\",\n",
    "              x_range=[freq_min, freq_max])\n",
    "plot4.xaxis[0].axis_label='Frequency (Hz)'\n",
    "plot4.yaxis[0].axis_label='Permittivity (F/m)'\n",
    "rrrr = plot4.line(freq, eps2, line_width=3, line_alpha=0.6, color = 'red')"
   ]
  },
  {
   "cell_type": "markdown",
   "metadata": {
    "tags": []
   },
   "source": [
    "#### As final step, we define an update function which would allow us to use sliders to change input variables (such as density and DC resistivity) and see the change in the plot without having to rerun the code."
   ]
  },
  {
   "cell_type": "code",
   "execution_count": null,
   "metadata": {},
   "outputs": [],
   "source": [
    "# Set up callbacks to update the plots\n",
    "def update_data(density_pow, mft_pow):\n",
    "# Generate the new curve\n",
    "    dens = 10**density_pow\n",
    "    tau = 10**mft_pow\n",
    "    rho = m / (dens*tau*elec**2)\n",
    "    sigma0 = 1/rho\n",
    "    freq = np.linspace(freq_min, freq_max, N)  #Energy measured in units of chemical potential\n",
    "    w = 2*np.pi*freq #Convert frequency to angular frequency\n",
    "    r.data_source.data['y'] = sigma0 / (1.0 + w**2*tau**2)\n",
    "    rr.data_source.data['y'] = w*tau*sigma0 / (1.0 + w**2*tau**2)\n",
    "    rrr.data_source.data['y'] = eps0 - rr.data_source.data['y']/(eps*w)\n",
    "    rrrr.data_source.data['y'] =  r.data_source.data['y']/(eps*w)\n",
    "    print('DC Conductivity =', f'{sigma0:.3}', 'S/m')\n",
    "\n",
    "    push_notebook()\n",
    "    \n",
    "def update_data_prec(density_pow, mft_pow):\n",
    "# Generate the new curve\n",
    "    dp = 1 ###  Replace with your guess of order of magnitude for electron density\n",
    "    tp = 1 ###  Replace with your guess of order of magnitude for mean free time\n",
    "    dens = density_pow*10**dp\n",
    "    tau = mft_pow*10**tp\n",
    "    rho = m / (dens*tau*elec**2)\n",
    "    sigma0 = 1/rho\n",
    "    freq = np.linspace(freq_min, freq_max, N)  #Energy measured in units of chemical potential\n",
    "    w = 2*np.pi*freq #Convert frequency to angular frequency\n",
    "    r.data_source.data['y'] = sigma0 / (1.0 + w**2*tau**2)\n",
    "    rr.data_source.data['y'] = w*tau*sigma0 / (1.0 + w**2*tau**2)\n",
    "    rrr.data_source.data['y'] = eps0 - rr.data_source.data['y']/(eps*w)\n",
    "    rrrr.data_source.data['y'] =  r.data_source.data['y']/(eps*w)\n",
    "    print('DC Conductivity =', sigma0, 'S/m')\n",
    "\n",
    "    push_notebook()"
   ]
  },
  {
   "cell_type": "markdown",
   "metadata": {
    "tags": []
   },
   "source": [
    "#### We can now plot the data\n",
    "\n",
    "### Instruction:  In the code below, the last line introduces sliders for density (denstiy_pow) and mean free time (mft_pow). The way it is set up right now, the sliders provide ability to change order of magnitude of these parameters. You should set up the ranges for these sliders yourself. (just change the 4 variables below, where indicated)\n",
    "\n",
    "### As a reference, conductivity of copper at room temperature is 5.96×10^7 S/m\n",
    "\n",
    "### Not required, but if interested, changing update_data to update_data_prec in code below would allow the ranges to be linear, but your guess for the order of magnitude for two parameters would have to go into the formula above. This way you could try to get a better accuracy for the two parameters."
   ]
  },
  {
   "cell_type": "code",
   "execution_count": null,
   "metadata": {},
   "outputs": [],
   "source": [
    "den_min_range = 1 #Replace with minimum for the range of electron density order of magnitude (e.g. 2 corresponds to n = 10^2)\n",
    "den_max_range = 1 #Replace with maximum for the range of electron density order of magnitude\n",
    "mft_min_range = 1 #Replace with minimum for the range of mean free time (tau) order of magnitude\n",
    "mft_max_range = 1 #Replace with maximum for the range of mean free time (tau) order of magnitude \n",
    "\n",
    "show(column([row(plot,plot2),row(plot3, plot4)]),notebook_handle=True)\n",
    "interact(update_data, density_pow = (den_min_range, den_max_range, 1), mft_pow = (mft_min_range, mft_max_range, 1))"
   ]
  },
  {
   "cell_type": "code",
   "execution_count": null,
   "metadata": {},
   "outputs": [],
   "source": []
  },
  {
   "cell_type": "code",
   "execution_count": null,
   "metadata": {},
   "outputs": [],
   "source": []
  }
 ],
 "metadata": {
  "kernelspec": {
   "display_name": "Python",
   "language": "python",
   "name": "python3"
  },
  "language_info": {
   "codemirror_mode": {
    "name": "ipython",
    "version": 3
   },
   "file_extension": ".py",
   "mimetype": "text/x-python",
   "name": "python",
   "nbconvert_exporter": "python",
   "pygments_lexer": "ipython3",
   "version": "3.8.10"
  }
 },
 "nbformat": 4,
 "nbformat_minor": 4
}
