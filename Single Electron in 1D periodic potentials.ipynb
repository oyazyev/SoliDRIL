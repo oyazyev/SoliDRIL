{
 "cells": [
  {
   "cell_type": "code",
   "execution_count": 1,
   "metadata": {},
   "outputs": [
    {
     "data": {
      "text/html": [
       "\n",
       "    <div class=\"bk-root\">\n",
       "        <a href=\"https://bokeh.org\" target=\"_blank\" class=\"bk-logo bk-logo-small bk-logo-notebook\"></a>\n",
       "        <span id=\"1001\">Loading BokehJS ...</span>\n",
       "    </div>"
      ]
     },
     "metadata": {},
     "output_type": "display_data"
    },
    {
     "data": {
      "application/javascript": [
       "\n",
       "(function(root) {\n",
       "  function now() {\n",
       "    return new Date();\n",
       "  }\n",
       "\n",
       "  var force = true;\n",
       "\n",
       "  if (typeof root._bokeh_onload_callbacks === \"undefined\" || force === true) {\n",
       "    root._bokeh_onload_callbacks = [];\n",
       "    root._bokeh_is_loading = undefined;\n",
       "  }\n",
       "\n",
       "  var JS_MIME_TYPE = 'application/javascript';\n",
       "  var HTML_MIME_TYPE = 'text/html';\n",
       "  var EXEC_MIME_TYPE = 'application/vnd.bokehjs_exec.v0+json';\n",
       "  var CLASS_NAME = 'output_bokeh rendered_html';\n",
       "\n",
       "  /**\n",
       "   * Render data to the DOM node\n",
       "   */\n",
       "  function render(props, node) {\n",
       "    var script = document.createElement(\"script\");\n",
       "    node.appendChild(script);\n",
       "  }\n",
       "\n",
       "  /**\n",
       "   * Handle when an output is cleared or removed\n",
       "   */\n",
       "  function handleClearOutput(event, handle) {\n",
       "    var cell = handle.cell;\n",
       "\n",
       "    var id = cell.output_area._bokeh_element_id;\n",
       "    var server_id = cell.output_area._bokeh_server_id;\n",
       "    // Clean up Bokeh references\n",
       "    if (id != null && id in Bokeh.index) {\n",
       "      Bokeh.index[id].model.document.clear();\n",
       "      delete Bokeh.index[id];\n",
       "    }\n",
       "\n",
       "    if (server_id !== undefined) {\n",
       "      // Clean up Bokeh references\n",
       "      var cmd = \"from bokeh.io.state import curstate; print(curstate().uuid_to_server['\" + server_id + \"'].get_sessions()[0].document.roots[0]._id)\";\n",
       "      cell.notebook.kernel.execute(cmd, {\n",
       "        iopub: {\n",
       "          output: function(msg) {\n",
       "            var id = msg.content.text.trim();\n",
       "            if (id in Bokeh.index) {\n",
       "              Bokeh.index[id].model.document.clear();\n",
       "              delete Bokeh.index[id];\n",
       "            }\n",
       "          }\n",
       "        }\n",
       "      });\n",
       "      // Destroy server and session\n",
       "      var cmd = \"import bokeh.io.notebook as ion; ion.destroy_server('\" + server_id + \"')\";\n",
       "      cell.notebook.kernel.execute(cmd);\n",
       "    }\n",
       "  }\n",
       "\n",
       "  /**\n",
       "   * Handle when a new output is added\n",
       "   */\n",
       "  function handleAddOutput(event, handle) {\n",
       "    var output_area = handle.output_area;\n",
       "    var output = handle.output;\n",
       "\n",
       "    // limit handleAddOutput to display_data with EXEC_MIME_TYPE content only\n",
       "    if ((output.output_type != \"display_data\") || (!output.data.hasOwnProperty(EXEC_MIME_TYPE))) {\n",
       "      return\n",
       "    }\n",
       "\n",
       "    var toinsert = output_area.element.find(\".\" + CLASS_NAME.split(' ')[0]);\n",
       "\n",
       "    if (output.metadata[EXEC_MIME_TYPE][\"id\"] !== undefined) {\n",
       "      toinsert[toinsert.length - 1].firstChild.textContent = output.data[JS_MIME_TYPE];\n",
       "      // store reference to embed id on output_area\n",
       "      output_area._bokeh_element_id = output.metadata[EXEC_MIME_TYPE][\"id\"];\n",
       "    }\n",
       "    if (output.metadata[EXEC_MIME_TYPE][\"server_id\"] !== undefined) {\n",
       "      var bk_div = document.createElement(\"div\");\n",
       "      bk_div.innerHTML = output.data[HTML_MIME_TYPE];\n",
       "      var script_attrs = bk_div.children[0].attributes;\n",
       "      for (var i = 0; i < script_attrs.length; i++) {\n",
       "        toinsert[toinsert.length - 1].firstChild.setAttribute(script_attrs[i].name, script_attrs[i].value);\n",
       "      }\n",
       "      // store reference to server id on output_area\n",
       "      output_area._bokeh_server_id = output.metadata[EXEC_MIME_TYPE][\"server_id\"];\n",
       "    }\n",
       "  }\n",
       "\n",
       "  function register_renderer(events, OutputArea) {\n",
       "\n",
       "    function append_mime(data, metadata, element) {\n",
       "      // create a DOM node to render to\n",
       "      var toinsert = this.create_output_subarea(\n",
       "        metadata,\n",
       "        CLASS_NAME,\n",
       "        EXEC_MIME_TYPE\n",
       "      );\n",
       "      this.keyboard_manager.register_events(toinsert);\n",
       "      // Render to node\n",
       "      var props = {data: data, metadata: metadata[EXEC_MIME_TYPE]};\n",
       "      render(props, toinsert[toinsert.length - 1]);\n",
       "      element.append(toinsert);\n",
       "      return toinsert\n",
       "    }\n",
       "\n",
       "    /* Handle when an output is cleared or removed */\n",
       "    events.on('clear_output.CodeCell', handleClearOutput);\n",
       "    events.on('delete.Cell', handleClearOutput);\n",
       "\n",
       "    /* Handle when a new output is added */\n",
       "    events.on('output_added.OutputArea', handleAddOutput);\n",
       "\n",
       "    /**\n",
       "     * Register the mime type and append_mime function with output_area\n",
       "     */\n",
       "    OutputArea.prototype.register_mime_type(EXEC_MIME_TYPE, append_mime, {\n",
       "      /* Is output safe? */\n",
       "      safe: true,\n",
       "      /* Index of renderer in `output_area.display_order` */\n",
       "      index: 0\n",
       "    });\n",
       "  }\n",
       "\n",
       "  // register the mime type if in Jupyter Notebook environment and previously unregistered\n",
       "  if (root.Jupyter !== undefined) {\n",
       "    var events = require('base/js/events');\n",
       "    var OutputArea = require('notebook/js/outputarea').OutputArea;\n",
       "\n",
       "    if (OutputArea.prototype.mime_types().indexOf(EXEC_MIME_TYPE) == -1) {\n",
       "      register_renderer(events, OutputArea);\n",
       "    }\n",
       "  }\n",
       "\n",
       "  \n",
       "  if (typeof (root._bokeh_timeout) === \"undefined\" || force === true) {\n",
       "    root._bokeh_timeout = Date.now() + 5000;\n",
       "    root._bokeh_failed_load = false;\n",
       "  }\n",
       "\n",
       "  var NB_LOAD_WARNING = {'data': {'text/html':\n",
       "     \"<div style='background-color: #fdd'>\\n\"+\n",
       "     \"<p>\\n\"+\n",
       "     \"BokehJS does not appear to have successfully loaded. If loading BokehJS from CDN, this \\n\"+\n",
       "     \"may be due to a slow or bad network connection. Possible fixes:\\n\"+\n",
       "     \"</p>\\n\"+\n",
       "     \"<ul>\\n\"+\n",
       "     \"<li>re-rerun `output_notebook()` to attempt to load from CDN again, or</li>\\n\"+\n",
       "     \"<li>use INLINE resources instead, as so:</li>\\n\"+\n",
       "     \"</ul>\\n\"+\n",
       "     \"<code>\\n\"+\n",
       "     \"from bokeh.resources import INLINE\\n\"+\n",
       "     \"output_notebook(resources=INLINE)\\n\"+\n",
       "     \"</code>\\n\"+\n",
       "     \"</div>\"}};\n",
       "\n",
       "  function display_loaded() {\n",
       "    var el = document.getElementById(\"1001\");\n",
       "    if (el != null) {\n",
       "      el.textContent = \"BokehJS is loading...\";\n",
       "    }\n",
       "    if (root.Bokeh !== undefined) {\n",
       "      if (el != null) {\n",
       "        el.textContent = \"BokehJS \" + root.Bokeh.version + \" successfully loaded.\";\n",
       "      }\n",
       "    } else if (Date.now() < root._bokeh_timeout) {\n",
       "      setTimeout(display_loaded, 100)\n",
       "    }\n",
       "  }\n",
       "\n",
       "\n",
       "  function run_callbacks() {\n",
       "    try {\n",
       "      root._bokeh_onload_callbacks.forEach(function(callback) {\n",
       "        if (callback != null)\n",
       "          callback();\n",
       "      });\n",
       "    } finally {\n",
       "      delete root._bokeh_onload_callbacks\n",
       "    }\n",
       "    console.debug(\"Bokeh: all callbacks have finished\");\n",
       "  }\n",
       "\n",
       "  function load_libs(css_urls, js_urls, callback) {\n",
       "    if (css_urls == null) css_urls = [];\n",
       "    if (js_urls == null) js_urls = [];\n",
       "\n",
       "    root._bokeh_onload_callbacks.push(callback);\n",
       "    if (root._bokeh_is_loading > 0) {\n",
       "      console.debug(\"Bokeh: BokehJS is being loaded, scheduling callback at\", now());\n",
       "      return null;\n",
       "    }\n",
       "    if (js_urls == null || js_urls.length === 0) {\n",
       "      run_callbacks();\n",
       "      return null;\n",
       "    }\n",
       "    console.debug(\"Bokeh: BokehJS not loaded, scheduling load and callback at\", now());\n",
       "    root._bokeh_is_loading = css_urls.length + js_urls.length;\n",
       "\n",
       "    function on_load() {\n",
       "      root._bokeh_is_loading--;\n",
       "      if (root._bokeh_is_loading === 0) {\n",
       "        console.debug(\"Bokeh: all BokehJS libraries/stylesheets loaded\");\n",
       "        run_callbacks()\n",
       "      }\n",
       "    }\n",
       "\n",
       "    function on_error() {\n",
       "      console.error(\"failed to load \" + url);\n",
       "    }\n",
       "\n",
       "    for (var i = 0; i < css_urls.length; i++) {\n",
       "      var url = css_urls[i];\n",
       "      const element = document.createElement(\"link\");\n",
       "      element.onload = on_load;\n",
       "      element.onerror = on_error;\n",
       "      element.rel = \"stylesheet\";\n",
       "      element.type = \"text/css\";\n",
       "      element.href = url;\n",
       "      console.debug(\"Bokeh: injecting link tag for BokehJS stylesheet: \", url);\n",
       "      document.body.appendChild(element);\n",
       "    }\n",
       "\n",
       "    for (var i = 0; i < js_urls.length; i++) {\n",
       "      var url = js_urls[i];\n",
       "      var element = document.createElement('script');\n",
       "      element.onload = on_load;\n",
       "      element.onerror = on_error;\n",
       "      element.async = false;\n",
       "      element.src = url;\n",
       "      console.debug(\"Bokeh: injecting script tag for BokehJS library: \", url);\n",
       "      document.head.appendChild(element);\n",
       "    }\n",
       "  };var element = document.getElementById(\"1001\");\n",
       "  if (element == null) {\n",
       "    console.error(\"Bokeh: ERROR: autoload.js configured with elementid '1001' but no matching script tag was found. \")\n",
       "    return false;\n",
       "  }\n",
       "\n",
       "  function inject_raw_css(css) {\n",
       "    const element = document.createElement(\"style\");\n",
       "    element.appendChild(document.createTextNode(css));\n",
       "    document.body.appendChild(element);\n",
       "  }\n",
       "\n",
       "  \n",
       "  var js_urls = [\"https://cdn.pydata.org/bokeh/release/bokeh-1.4.0.min.js\", \"https://cdn.pydata.org/bokeh/release/bokeh-widgets-1.4.0.min.js\", \"https://cdn.pydata.org/bokeh/release/bokeh-tables-1.4.0.min.js\", \"https://cdn.pydata.org/bokeh/release/bokeh-gl-1.4.0.min.js\"];\n",
       "  var css_urls = [];\n",
       "  \n",
       "\n",
       "  var inline_js = [\n",
       "    function(Bokeh) {\n",
       "      Bokeh.set_log_level(\"info\");\n",
       "    },\n",
       "    function(Bokeh) {\n",
       "    \n",
       "    \n",
       "    }\n",
       "  ];\n",
       "\n",
       "  function run_inline_js() {\n",
       "    \n",
       "    if (root.Bokeh !== undefined || force === true) {\n",
       "      \n",
       "    for (var i = 0; i < inline_js.length; i++) {\n",
       "      inline_js[i].call(root, root.Bokeh);\n",
       "    }\n",
       "    if (force === true) {\n",
       "        display_loaded();\n",
       "      }} else if (Date.now() < root._bokeh_timeout) {\n",
       "      setTimeout(run_inline_js, 100);\n",
       "    } else if (!root._bokeh_failed_load) {\n",
       "      console.log(\"Bokeh: BokehJS failed to load within specified timeout.\");\n",
       "      root._bokeh_failed_load = true;\n",
       "    } else if (force !== true) {\n",
       "      var cell = $(document.getElementById(\"1001\")).parents('.cell').data().cell;\n",
       "      cell.output_area.append_execute_result(NB_LOAD_WARNING)\n",
       "    }\n",
       "\n",
       "  }\n",
       "\n",
       "  if (root._bokeh_is_loading === 0) {\n",
       "    console.debug(\"Bokeh: BokehJS loaded, going straight to plotting\");\n",
       "    run_inline_js();\n",
       "  } else {\n",
       "    load_libs(css_urls, js_urls, function() {\n",
       "      console.debug(\"Bokeh: BokehJS plotting callback run at\", now());\n",
       "      run_inline_js();\n",
       "    });\n",
       "  }\n",
       "}(window));"
      ],
      "application/vnd.bokehjs_load.v0+json": "\n(function(root) {\n  function now() {\n    return new Date();\n  }\n\n  var force = true;\n\n  if (typeof root._bokeh_onload_callbacks === \"undefined\" || force === true) {\n    root._bokeh_onload_callbacks = [];\n    root._bokeh_is_loading = undefined;\n  }\n\n  \n\n  \n  if (typeof (root._bokeh_timeout) === \"undefined\" || force === true) {\n    root._bokeh_timeout = Date.now() + 5000;\n    root._bokeh_failed_load = false;\n  }\n\n  var NB_LOAD_WARNING = {'data': {'text/html':\n     \"<div style='background-color: #fdd'>\\n\"+\n     \"<p>\\n\"+\n     \"BokehJS does not appear to have successfully loaded. If loading BokehJS from CDN, this \\n\"+\n     \"may be due to a slow or bad network connection. Possible fixes:\\n\"+\n     \"</p>\\n\"+\n     \"<ul>\\n\"+\n     \"<li>re-rerun `output_notebook()` to attempt to load from CDN again, or</li>\\n\"+\n     \"<li>use INLINE resources instead, as so:</li>\\n\"+\n     \"</ul>\\n\"+\n     \"<code>\\n\"+\n     \"from bokeh.resources import INLINE\\n\"+\n     \"output_notebook(resources=INLINE)\\n\"+\n     \"</code>\\n\"+\n     \"</div>\"}};\n\n  function display_loaded() {\n    var el = document.getElementById(\"1001\");\n    if (el != null) {\n      el.textContent = \"BokehJS is loading...\";\n    }\n    if (root.Bokeh !== undefined) {\n      if (el != null) {\n        el.textContent = \"BokehJS \" + root.Bokeh.version + \" successfully loaded.\";\n      }\n    } else if (Date.now() < root._bokeh_timeout) {\n      setTimeout(display_loaded, 100)\n    }\n  }\n\n\n  function run_callbacks() {\n    try {\n      root._bokeh_onload_callbacks.forEach(function(callback) {\n        if (callback != null)\n          callback();\n      });\n    } finally {\n      delete root._bokeh_onload_callbacks\n    }\n    console.debug(\"Bokeh: all callbacks have finished\");\n  }\n\n  function load_libs(css_urls, js_urls, callback) {\n    if (css_urls == null) css_urls = [];\n    if (js_urls == null) js_urls = [];\n\n    root._bokeh_onload_callbacks.push(callback);\n    if (root._bokeh_is_loading > 0) {\n      console.debug(\"Bokeh: BokehJS is being loaded, scheduling callback at\", now());\n      return null;\n    }\n    if (js_urls == null || js_urls.length === 0) {\n      run_callbacks();\n      return null;\n    }\n    console.debug(\"Bokeh: BokehJS not loaded, scheduling load and callback at\", now());\n    root._bokeh_is_loading = css_urls.length + js_urls.length;\n\n    function on_load() {\n      root._bokeh_is_loading--;\n      if (root._bokeh_is_loading === 0) {\n        console.debug(\"Bokeh: all BokehJS libraries/stylesheets loaded\");\n        run_callbacks()\n      }\n    }\n\n    function on_error() {\n      console.error(\"failed to load \" + url);\n    }\n\n    for (var i = 0; i < css_urls.length; i++) {\n      var url = css_urls[i];\n      const element = document.createElement(\"link\");\n      element.onload = on_load;\n      element.onerror = on_error;\n      element.rel = \"stylesheet\";\n      element.type = \"text/css\";\n      element.href = url;\n      console.debug(\"Bokeh: injecting link tag for BokehJS stylesheet: \", url);\n      document.body.appendChild(element);\n    }\n\n    for (var i = 0; i < js_urls.length; i++) {\n      var url = js_urls[i];\n      var element = document.createElement('script');\n      element.onload = on_load;\n      element.onerror = on_error;\n      element.async = false;\n      element.src = url;\n      console.debug(\"Bokeh: injecting script tag for BokehJS library: \", url);\n      document.head.appendChild(element);\n    }\n  };var element = document.getElementById(\"1001\");\n  if (element == null) {\n    console.error(\"Bokeh: ERROR: autoload.js configured with elementid '1001' but no matching script tag was found. \")\n    return false;\n  }\n\n  function inject_raw_css(css) {\n    const element = document.createElement(\"style\");\n    element.appendChild(document.createTextNode(css));\n    document.body.appendChild(element);\n  }\n\n  \n  var js_urls = [\"https://cdn.pydata.org/bokeh/release/bokeh-1.4.0.min.js\", \"https://cdn.pydata.org/bokeh/release/bokeh-widgets-1.4.0.min.js\", \"https://cdn.pydata.org/bokeh/release/bokeh-tables-1.4.0.min.js\", \"https://cdn.pydata.org/bokeh/release/bokeh-gl-1.4.0.min.js\"];\n  var css_urls = [];\n  \n\n  var inline_js = [\n    function(Bokeh) {\n      Bokeh.set_log_level(\"info\");\n    },\n    function(Bokeh) {\n    \n    \n    }\n  ];\n\n  function run_inline_js() {\n    \n    if (root.Bokeh !== undefined || force === true) {\n      \n    for (var i = 0; i < inline_js.length; i++) {\n      inline_js[i].call(root, root.Bokeh);\n    }\n    if (force === true) {\n        display_loaded();\n      }} else if (Date.now() < root._bokeh_timeout) {\n      setTimeout(run_inline_js, 100);\n    } else if (!root._bokeh_failed_load) {\n      console.log(\"Bokeh: BokehJS failed to load within specified timeout.\");\n      root._bokeh_failed_load = true;\n    } else if (force !== true) {\n      var cell = $(document.getElementById(\"1001\")).parents('.cell').data().cell;\n      cell.output_area.append_execute_result(NB_LOAD_WARNING)\n    }\n\n  }\n\n  if (root._bokeh_is_loading === 0) {\n    console.debug(\"Bokeh: BokehJS loaded, going straight to plotting\");\n    run_inline_js();\n  } else {\n    load_libs(css_urls, js_urls, function() {\n      console.debug(\"Bokeh: BokehJS plotting callback run at\", now());\n      run_inline_js();\n    });\n  }\n}(window));"
     },
     "metadata": {},
     "output_type": "display_data"
    }
   ],
   "source": [
    "import numpy as np\n",
    "import pandas as pd\n",
    "import ipywidgets as ipw\n",
    "\n",
    "from scipy.interpolate import interp1d\n",
    "from scipy.linalg import expm\n",
    "from bokeh.palettes import RdYlBu11\n",
    "from bokeh.transform import linear_cmap\n",
    "from bokeh.io import push_notebook, output_notebook, show\n",
    "from bokeh.layouts import row, column\n",
    "from bokeh.plotting import figure, curdoc\n",
    "from bokeh.models import ColumnDataSource, ColorBar, BasicTickFormatter, BasicTicker, FixedTicker, FuncTickFormatter\n",
    "from bokeh.client import push_session\n",
    "\n",
    "from ipywidgets import interact\n",
    "\n",
    "import matplotlib.pyplot as plt\n",
    "import matplotlib.animation as anim\n",
    "output_notebook()"
   ]
  },
  {
   "cell_type": "markdown",
   "metadata": {},
   "source": [
    "# Wavepacket construction and propagation along the 1D chain \n",
    "\n",
    "## Introduction\n",
    "In this notebook, we demonstrate the wavepacket construction and propagation, which is at the heart of the semiclassical approximation. For simplicty, we will consider the familiar 1D chain described using the tight-binding Hamiltonian. We will have to take a sufficiently large number of sites $N$ and impose periodic boundary conditions. For simplicity, in the code below we assume lattice constant $a = 1$.\n"
   ]
  },
  {
   "cell_type": "code",
   "execution_count": 4,
   "metadata": {},
   "outputs": [
    {
     "data": {
      "text/html": [
       "\n",
       "\n",
       "\n",
       "\n",
       "\n",
       "\n",
       "  <div class=\"bk-root\" id=\"e5682ab8-b3cc-48b5-a3ef-816b14bcf006\" data-root-id=\"1098\"></div>\n"
      ]
     },
     "metadata": {},
     "output_type": "display_data"
    },
    {
     "data": {
      "application/javascript": [
       "(function(root) {\n",
       "  function embed_document(root) {\n",
       "    \n",
       "  var docs_json = {\"1e684d05-8e2c-46fd-90d2-f31420b84d0e\":{\"roots\":{\"references\":[{\"attributes\":{\"below\":[{\"id\":\"1109\",\"type\":\"LinearAxis\"}],\"center\":[{\"id\":\"1113\",\"type\":\"Grid\"},{\"id\":\"1118\",\"type\":\"Grid\"}],\"left\":[{\"id\":\"1114\",\"type\":\"LinearAxis\"}],\"plot_height\":100,\"plot_width\":700,\"renderers\":[{\"id\":\"1136\",\"type\":\"GlyphRenderer\"}],\"title\":{\"id\":\"1099\",\"type\":\"Title\"},\"toolbar\":{\"id\":\"1125\",\"type\":\"Toolbar\"},\"x_range\":{\"id\":\"1101\",\"type\":\"Range1d\"},\"x_scale\":{\"id\":\"1105\",\"type\":\"LinearScale\"},\"y_range\":{\"id\":\"1103\",\"type\":\"DataRange1d\"},\"y_scale\":{\"id\":\"1107\",\"type\":\"LinearScale\"}},\"id\":\"1098\",\"subtype\":\"Figure\",\"type\":\"Plot\"},{\"attributes\":{\"dimension\":1,\"ticker\":{\"id\":\"1115\",\"type\":\"BasicTicker\"}},\"id\":\"1118\",\"type\":\"Grid\"},{\"attributes\":{\"data_source\":{\"id\":\"1132\",\"type\":\"ColumnDataSource\"},\"glyph\":{\"id\":\"1134\",\"type\":\"Circle\"},\"hover_glyph\":null,\"muted_glyph\":null,\"nonselection_glyph\":{\"id\":\"1135\",\"type\":\"Circle\"},\"selection_glyph\":null,\"view\":{\"id\":\"1137\",\"type\":\"CDSView\"}},\"id\":\"1136\",\"type\":\"GlyphRenderer\"},{\"attributes\":{},\"id\":\"1152\",\"type\":\"Selection\"},{\"attributes\":{\"fill_alpha\":{\"value\":0.1},\"fill_color\":{\"value\":\"#1f77b4\"},\"line_alpha\":{\"value\":0.1},\"line_color\":{\"value\":\"#1f77b4\"},\"size\":{\"units\":\"screen\",\"value\":6},\"x\":{\"field\":\"xVal\"},\"y\":{\"field\":\"yVal\"}},\"id\":\"1135\",\"type\":\"Circle\"},{\"attributes\":{\"active_drag\":\"auto\",\"active_inspect\":\"auto\",\"active_multi\":null,\"active_scroll\":\"auto\",\"active_tap\":\"auto\",\"tools\":[{\"id\":\"1119\",\"type\":\"PanTool\"},{\"id\":\"1120\",\"type\":\"WheelZoomTool\"},{\"id\":\"1121\",\"type\":\"BoxZoomTool\"},{\"id\":\"1122\",\"type\":\"SaveTool\"},{\"id\":\"1123\",\"type\":\"ResetTool\"},{\"id\":\"1124\",\"type\":\"HelpTool\"}]},\"id\":\"1125\",\"type\":\"Toolbar\"},{\"attributes\":{},\"id\":\"1119\",\"type\":\"PanTool\"},{\"attributes\":{\"overlay\":{\"id\":\"1151\",\"type\":\"BoxAnnotation\"}},\"id\":\"1121\",\"type\":\"BoxZoomTool\"},{\"attributes\":{},\"id\":\"1115\",\"type\":\"BasicTicker\"},{\"attributes\":{},\"id\":\"1110\",\"type\":\"BasicTicker\"},{\"attributes\":{\"source\":{\"id\":\"1132\",\"type\":\"ColumnDataSource\"}},\"id\":\"1137\",\"type\":\"CDSView\"},{\"attributes\":{},\"id\":\"1147\",\"type\":\"BasicTickFormatter\"},{\"attributes\":{},\"id\":\"1105\",\"type\":\"LinearScale\"},{\"attributes\":{\"bottom_units\":\"screen\",\"fill_alpha\":{\"value\":0.5},\"fill_color\":{\"value\":\"lightgrey\"},\"left_units\":\"screen\",\"level\":\"overlay\",\"line_alpha\":{\"value\":1.0},\"line_color\":{\"value\":\"black\"},\"line_dash\":[4,4],\"line_width\":{\"value\":2},\"render_mode\":\"css\",\"right_units\":\"screen\",\"top_units\":\"screen\"},\"id\":\"1151\",\"type\":\"BoxAnnotation\"},{\"attributes\":{\"callback\":null},\"id\":\"1103\",\"type\":\"DataRange1d\"},{\"attributes\":{},\"id\":\"1149\",\"type\":\"BasicTickFormatter\"},{\"attributes\":{},\"id\":\"1123\",\"type\":\"ResetTool\"},{\"attributes\":{},\"id\":\"1153\",\"type\":\"UnionRenderers\"},{\"attributes\":{},\"id\":\"1107\",\"type\":\"LinearScale\"},{\"attributes\":{\"axis_label\":\"r (a)\",\"formatter\":{\"id\":\"1149\",\"type\":\"BasicTickFormatter\"},\"ticker\":{\"id\":\"1110\",\"type\":\"BasicTicker\"}},\"id\":\"1109\",\"type\":\"LinearAxis\"},{\"attributes\":{},\"id\":\"1120\",\"type\":\"WheelZoomTool\"},{\"attributes\":{},\"id\":\"1124\",\"type\":\"HelpTool\"},{\"attributes\":{\"callback\":null,\"end\":27.500000000000004,\"start\":-27.500000000000004},\"id\":\"1101\",\"type\":\"Range1d\"},{\"attributes\":{\"ticker\":{\"id\":\"1110\",\"type\":\"BasicTicker\"}},\"id\":\"1113\",\"type\":\"Grid\"},{\"attributes\":{\"formatter\":{\"id\":\"1147\",\"type\":\"BasicTickFormatter\"},\"ticker\":{\"id\":\"1115\",\"type\":\"BasicTicker\"}},\"id\":\"1114\",\"type\":\"LinearAxis\"},{\"attributes\":{},\"id\":\"1122\",\"type\":\"SaveTool\"},{\"attributes\":{\"text\":\"1D atomic chain\"},\"id\":\"1099\",\"type\":\"Title\"},{\"attributes\":{\"callback\":null,\"data\":{\"xVal\":{\"__ndarray__\":\"AAAAAAAAOcAAAAAAAAA4wAAAAAAAADfAAAAAAAAANsAAAAAAAAA1wAAAAAAAADTAAAAAAAAAM8AAAAAAAAAywAAAAAAAADHAAAAAAAAAMMAAAAAAAAAuwAAAAAAAACzAAAAAAAAAKsAAAAAAAAAowAAAAAAAACbAAAAAAAAAJMAAAAAAAAAiwAAAAAAAACDAAAAAAAAAHMAAAAAAAAAYwAAAAAAAABTAAAAAAAAAEMAAAAAAAAAIwAAAAAAAAADAAAAAAAAA8L8AAAAAAAAAAAAAAAAAAPA/AAAAAAAAAEAAAAAAAAAIQAAAAAAAABBAAAAAAAAAFEAAAAAAAAAYQAAAAAAAABxAAAAAAAAAIEAAAAAAAAAiQAAAAAAAACRAAAAAAAAAJkAAAAAAAAAoQAAAAAAAACpAAAAAAAAALEAAAAAAAAAuQAAAAAAAADBAAAAAAAAAMUAAAAAAAAAyQAAAAAAAADNAAAAAAAAANEAAAAAAAAA1QAAAAAAAADZAAAAAAAAAN0AAAAAAAAA4QA==\",\"dtype\":\"float64\",\"shape\":[50]},\"yVal\":{\"__ndarray__\":\"AAAAAAAAAAAAAAAAAAAAAAAAAAAAAAAAAAAAAAAAAAAAAAAAAAAAAAAAAAAAAAAAAAAAAAAAAAAAAAAAAAAAAAAAAAAAAAAAAAAAAAAAAAAAAAAAAAAAAAAAAAAAAAAAAAAAAAAAAAAAAAAAAAAAAAAAAAAAAAAAAAAAAAAAAAAAAAAAAAAAAAAAAAAAAAAAAAAAAAAAAAAAAAAAAAAAAAAAAAAAAAAAAAAAAAAAAAAAAAAAAAAAAAAAAAAAAAAAAAAAAAAAAAAAAAAAAAAAAAAAAAAAAAAAAAAAAAAAAAAAAAAAAAAAAAAAAAAAAAAAAAAAAAAAAAAAAAAAAAAAAAAAAAAAAAAAAAAAAAAAAAAAAAAAAAAAAAAAAAAAAAAAAAAAAAAAAAAAAAAAAAAAAAAAAAAAAAAAAAAAAAAAAAAAAAAAAAAAAAAAAAAAAAAAAAAAAAAAAAAAAAAAAAAAAAAAAAAAAAAAAAAAAAAAAAAAAAAAAAAAAAAAAAAAAAAAAAAAAAAAAAAAAAAAAAAAAA==\",\"dtype\":\"float64\",\"shape\":[50]}},\"selected\":{\"id\":\"1152\",\"type\":\"Selection\"},\"selection_policy\":{\"id\":\"1153\",\"type\":\"UnionRenderers\"}},\"id\":\"1132\",\"type\":\"ColumnDataSource\"},{\"attributes\":{\"fill_color\":{\"value\":\"black\"},\"size\":{\"units\":\"screen\",\"value\":6},\"x\":{\"field\":\"xVal\"},\"y\":{\"field\":\"yVal\"}},\"id\":\"1134\",\"type\":\"Circle\"}],\"root_ids\":[\"1098\"]},\"title\":\"Bokeh Application\",\"version\":\"1.4.0\"}};\n",
       "  var render_items = [{\"docid\":\"1e684d05-8e2c-46fd-90d2-f31420b84d0e\",\"roots\":{\"1098\":\"e5682ab8-b3cc-48b5-a3ef-816b14bcf006\"}}];\n",
       "  root.Bokeh.embed.embed_items_notebook(docs_json, render_items);\n",
       "\n",
       "  }\n",
       "  if (root.Bokeh !== undefined) {\n",
       "    embed_document(root);\n",
       "  } else {\n",
       "    var attempts = 0;\n",
       "    var timer = setInterval(function(root) {\n",
       "      if (root.Bokeh !== undefined) {\n",
       "        clearInterval(timer);\n",
       "        embed_document(root);\n",
       "      } else {\n",
       "        attempts++;\n",
       "        if (attempts > 100) {\n",
       "          clearInterval(timer);\n",
       "          console.log(\"Bokeh: ERROR: Unable to run BokehJS code because BokehJS library is missing\");\n",
       "        }\n",
       "      }\n",
       "    }, 10, root)\n",
       "  }\n",
       "})(window);"
      ],
      "application/vnd.bokehjs_exec.v0+json": ""
     },
     "metadata": {
      "application/vnd.bokehjs_exec.v0+json": {
       "id": "1098"
      }
     },
     "output_type": "display_data"
    }
   ],
   "source": [
    "N = 50; # Number of atomic sites\n",
    "M = int((N)/2); # Number of atomic sites on each side of the origin\n",
    "a = 1.0 # Real space distance between each site\n",
    "lattx = np.arange(-a*M,a*M,a); # \n",
    "latty = np.zeros(lattx.size);\n",
    "lattice = figure(plot_height=100, plot_width=700, title=\"1D atomic chain\",x_range=[-1.1*a*M,1.1*a*M]);\n",
    "source1 = ColumnDataSource(data = {'xVal': lattx, 'yVal': latty});\n",
    "lattice.circle('xVal','yVal',source = source1, size = 6, line_color = 'black', fill_color = 'black');\n",
    "lattice.xaxis.axis_label = 'r (a)';\n",
    "show(lattice)"
   ]
  },
  {
   "cell_type": "markdown",
   "metadata": {},
   "source": [
    "## Eigenvalues\n",
    "The solution for the 1D chain with one atom per unit cell is known since the previous lectures:\n",
    "\n",
    "$$ E(k) = -2\\gamma \\cos (ka) $$\n",
    "\n",
    "The plot below reproduces the corresponsing band structure. Each of the $N$ points on the band corresponds to an eigenvalue of the $N$-site chain with periodic boundary (Born-von karman) condition $\\psi(r) = \\psi(r + Na)$. We will also assume $\\gamma = -1$ in the code for simplicity."
   ]
  },
  {
   "cell_type": "code",
   "execution_count": 5,
   "metadata": {},
   "outputs": [],
   "source": [
    "k0 = 2*np.pi/(N*a); # Calculate the smallest allowed k-vector\n",
    "k = np.linspace(-M*k0,(M-1)*k0,N);\n",
    "energy = -2*np.cos(k);"
   ]
  },
  {
   "cell_type": "code",
   "execution_count": 6,
   "metadata": {},
   "outputs": [
    {
     "data": {
      "text/html": [
       "\n",
       "\n",
       "\n",
       "\n",
       "\n",
       "\n",
       "  <div class=\"bk-root\" id=\"29281932-1787-4b54-a5a6-21b5147d2a17\" data-root-id=\"1202\"></div>\n"
      ]
     },
     "metadata": {},
     "output_type": "display_data"
    },
    {
     "data": {
      "application/javascript": [
       "(function(root) {\n",
       "  function embed_document(root) {\n",
       "    \n",
       "  var docs_json = {\"4c152e84-ac2a-486f-81fc-7c22bda03090\":{\"roots\":{\"references\":[{\"attributes\":{\"below\":[{\"id\":\"1213\",\"type\":\"LinearAxis\"}],\"center\":[{\"id\":\"1217\",\"type\":\"Grid\"},{\"id\":\"1222\",\"type\":\"Grid\"}],\"left\":[{\"id\":\"1218\",\"type\":\"LinearAxis\"}],\"plot_height\":400,\"plot_width\":700,\"renderers\":[{\"id\":\"1240\",\"type\":\"GlyphRenderer\"},{\"id\":\"1245\",\"type\":\"GlyphRenderer\"}],\"title\":{\"id\":\"1203\",\"type\":\"Title\"},\"toolbar\":{\"id\":\"1229\",\"type\":\"Toolbar\"},\"x_range\":{\"id\":\"1205\",\"type\":\"Range1d\"},\"x_scale\":{\"id\":\"1209\",\"type\":\"LinearScale\"},\"y_range\":{\"id\":\"1207\",\"type\":\"Range1d\"},\"y_scale\":{\"id\":\"1211\",\"type\":\"LinearScale\"}},\"id\":\"1202\",\"subtype\":\"Figure\",\"type\":\"Plot\"},{\"attributes\":{\"fill_alpha\":{\"value\":0.1},\"fill_color\":{\"value\":\"#1f77b4\"},\"line_alpha\":{\"value\":0.1},\"line_color\":{\"value\":\"#1f77b4\"},\"size\":{\"units\":\"screen\",\"value\":6},\"x\":{\"field\":\"xVal\"},\"y\":{\"field\":\"yVal\"}},\"id\":\"1239\",\"type\":\"Circle\"},{\"attributes\":{},\"id\":\"1214\",\"type\":\"BasicTicker\"},{\"attributes\":{\"data_source\":{\"id\":\"1236\",\"type\":\"ColumnDataSource\"},\"glyph\":{\"id\":\"1238\",\"type\":\"Circle\"},\"hover_glyph\":null,\"muted_glyph\":null,\"nonselection_glyph\":{\"id\":\"1239\",\"type\":\"Circle\"},\"selection_glyph\":null,\"view\":{\"id\":\"1241\",\"type\":\"CDSView\"}},\"id\":\"1240\",\"type\":\"GlyphRenderer\"},{\"attributes\":{},\"id\":\"1264\",\"type\":\"BasicTickFormatter\"},{\"attributes\":{\"axis_label\":\"Energy/|gamma|\",\"formatter\":{\"id\":\"1264\",\"type\":\"BasicTickFormatter\"},\"ticker\":{\"id\":\"1219\",\"type\":\"BasicTicker\"}},\"id\":\"1218\",\"type\":\"LinearAxis\"},{\"attributes\":{\"source\":{\"id\":\"1236\",\"type\":\"ColumnDataSource\"}},\"id\":\"1241\",\"type\":\"CDSView\"},{\"attributes\":{\"callback\":null,\"end\":2.4,\"start\":-2.4},\"id\":\"1207\",\"type\":\"Range1d\"},{\"attributes\":{},\"id\":\"1228\",\"type\":\"HelpTool\"},{\"attributes\":{},\"id\":\"1227\",\"type\":\"ResetTool\"},{\"attributes\":{\"line_alpha\":0.1,\"line_color\":\"#1f77b4\",\"x\":{\"field\":\"xVal\"},\"y\":{\"field\":\"yVal\"}},\"id\":\"1244\",\"type\":\"Line\"},{\"attributes\":{},\"id\":\"1226\",\"type\":\"SaveTool\"},{\"attributes\":{\"overlay\":{\"id\":\"1268\",\"type\":\"BoxAnnotation\"}},\"id\":\"1225\",\"type\":\"BoxZoomTool\"},{\"attributes\":{\"data_source\":{\"id\":\"1236\",\"type\":\"ColumnDataSource\"},\"glyph\":{\"id\":\"1243\",\"type\":\"Line\"},\"hover_glyph\":null,\"muted_glyph\":null,\"nonselection_glyph\":{\"id\":\"1244\",\"type\":\"Line\"},\"selection_glyph\":null,\"view\":{\"id\":\"1246\",\"type\":\"CDSView\"}},\"id\":\"1245\",\"type\":\"GlyphRenderer\"},{\"attributes\":{\"active_drag\":\"auto\",\"active_inspect\":\"auto\",\"active_multi\":null,\"active_scroll\":\"auto\",\"active_tap\":\"auto\",\"tools\":[{\"id\":\"1223\",\"type\":\"PanTool\"},{\"id\":\"1224\",\"type\":\"WheelZoomTool\"},{\"id\":\"1225\",\"type\":\"BoxZoomTool\"},{\"id\":\"1226\",\"type\":\"SaveTool\"},{\"id\":\"1227\",\"type\":\"ResetTool\"},{\"id\":\"1228\",\"type\":\"HelpTool\"}]},\"id\":\"1229\",\"type\":\"Toolbar\"},{\"attributes\":{\"callback\":null,\"end\":1.1000000000000003,\"start\":-1.1000000000000003},\"id\":\"1205\",\"type\":\"Range1d\"},{\"attributes\":{\"source\":{\"id\":\"1236\",\"type\":\"ColumnDataSource\"}},\"id\":\"1246\",\"type\":\"CDSView\"},{\"attributes\":{},\"id\":\"1269\",\"type\":\"Selection\"},{\"attributes\":{},\"id\":\"1270\",\"type\":\"UnionRenderers\"},{\"attributes\":{},\"id\":\"1266\",\"type\":\"BasicTickFormatter\"},{\"attributes\":{},\"id\":\"1223\",\"type\":\"PanTool\"},{\"attributes\":{\"bottom_units\":\"screen\",\"fill_alpha\":{\"value\":0.5},\"fill_color\":{\"value\":\"lightgrey\"},\"left_units\":\"screen\",\"level\":\"overlay\",\"line_alpha\":{\"value\":1.0},\"line_color\":{\"value\":\"black\"},\"line_dash\":[4,4],\"line_width\":{\"value\":2},\"render_mode\":\"css\",\"right_units\":\"screen\",\"top_units\":\"screen\"},\"id\":\"1268\",\"type\":\"BoxAnnotation\"},{\"attributes\":{\"dimension\":1,\"ticker\":{\"id\":\"1219\",\"type\":\"BasicTicker\"}},\"id\":\"1222\",\"type\":\"Grid\"},{\"attributes\":{},\"id\":\"1209\",\"type\":\"LinearScale\"},{\"attributes\":{\"text\":\"Band structure of the 1D chain and the eigenvalues of the N-site chain\"},\"id\":\"1203\",\"type\":\"Title\"},{\"attributes\":{},\"id\":\"1224\",\"type\":\"WheelZoomTool\"},{\"attributes\":{},\"id\":\"1219\",\"type\":\"BasicTicker\"},{\"attributes\":{\"callback\":null,\"data\":{\"xVal\":{\"__ndarray__\":\"AQAAAAAA8L+5HoXrUbjuv3I9CtejcO2/KlyPwvUo7L/iehSuR+Hqv5uZmZmZmem/U7gehetR6L8M16NwPQrnv8T1KFyPwuW/exSuR+F65L80MzMzMzPjv+xRuB6F6+G/pXA9Ctej4L+6HoXrUbjevypcj8L1KNy/m5mZmZmZ2b8M16NwPQrXv3sUrkfhetS/7lG4HoXr0b+6HoXrUbjOv5+ZmZmZmcm/fhSuR+F6xL+6HoXrUbi+v4MUrkfherS/gxSuR+F6pL8AAAAAAAAAAG8UrkfheqQ/eRSuR+F6tD+6HoXrUbi+P3kUrkfhesQ/mpmZmZmZyT+1HoXrUbjOP+tRuB6F69E/exSuR+F61D8M16NwPQrXP5eZmZmZmdk/J1yPwvUo3D+4HoXrUbjeP6RwPQrXo+A/7FG4HoXr4T8yMzMzMzPjP3oUrkfheuQ/wvUoXI/C5T8K16NwPQrnP1O4HoXrUeg/m5mZmZmZ6T/hehSuR+HqPylcj8L1KOw/cT0K16Nw7T+5HoXrUbjuPw==\",\"dtype\":\"float64\",\"shape\":[50]},\"yVal\":{\"__ndarray__\":\"AAAAAAAAAEAD2YBUZ7//P+EeEB2i/v4/5VrvnbrA/T9ZwIFOtAr8P6r0l5t34/k/F7jSA7ZT9z+/AbX+xmX0P1MrGDx+JfE/nYElyfc/6z9W6S8378bjP4B6A2Uc/Nc/i5PgGwoTwD9kk+AbChPAv3V6A2Uc/Ne/TekvN+/G47+YgSXJ9z/rv1ArGDx+JfG/uQG1/sZl9L8VuNIDtlP3v6b0l5t34/m/WMCBTrQK/L/kWu+dusD9v+AeEB2i/v6/AtmAVGe//78AAAAAAAAAwAPZgFRnv/+/4R4QHaL+/r/kWu+dusD9v1rAgU60Cvy/qPSXm3fj+b8YuNIDtlP3v70Btf7GZfS/UCsYPH4l8b+YgSXJ9z/rv1jpLzfvxuO/hHoDZRz817+Ek+AbChPAv3uT4BsKE8A/gHoDZRz81z9H6S8378bjP5aBJcn3P+s/TysYPH4l8T+8AbX+xmX0Pxe40gO2U/c/qvSXm3fj+T9XwIFOtAr8P+Ra7526wP0/4B4QHaL+/j8D2YBUZ7//Pw==\",\"dtype\":\"float64\",\"shape\":[50]}},\"selected\":{\"id\":\"1269\",\"type\":\"Selection\"},\"selection_policy\":{\"id\":\"1270\",\"type\":\"UnionRenderers\"}},\"id\":\"1236\",\"type\":\"ColumnDataSource\"},{\"attributes\":{\"line_color\":\"#1f77b4\",\"x\":{\"field\":\"xVal\"},\"y\":{\"field\":\"yVal\"}},\"id\":\"1243\",\"type\":\"Line\"},{\"attributes\":{\"ticker\":{\"id\":\"1214\",\"type\":\"BasicTicker\"}},\"id\":\"1217\",\"type\":\"Grid\"},{\"attributes\":{},\"id\":\"1211\",\"type\":\"LinearScale\"},{\"attributes\":{\"axis_label\":\"k ( \\u03c0 / a )\",\"formatter\":{\"id\":\"1266\",\"type\":\"BasicTickFormatter\"},\"ticker\":{\"id\":\"1214\",\"type\":\"BasicTicker\"}},\"id\":\"1213\",\"type\":\"LinearAxis\"},{\"attributes\":{\"fill_color\":{\"value\":\"#1f77b4\"},\"line_color\":{\"value\":\"#1f77b4\"},\"size\":{\"units\":\"screen\",\"value\":6},\"x\":{\"field\":\"xVal\"},\"y\":{\"field\":\"yVal\"}},\"id\":\"1238\",\"type\":\"Circle\"}],\"root_ids\":[\"1202\"]},\"title\":\"Bokeh Application\",\"version\":\"1.4.0\"}};\n",
       "  var render_items = [{\"docid\":\"4c152e84-ac2a-486f-81fc-7c22bda03090\",\"roots\":{\"1202\":\"29281932-1787-4b54-a5a6-21b5147d2a17\"}}];\n",
       "  root.Bokeh.embed.embed_items_notebook(docs_json, render_items);\n",
       "\n",
       "  }\n",
       "  if (root.Bokeh !== undefined) {\n",
       "    embed_document(root);\n",
       "  } else {\n",
       "    var attempts = 0;\n",
       "    var timer = setInterval(function(root) {\n",
       "      if (root.Bokeh !== undefined) {\n",
       "        clearInterval(timer);\n",
       "        embed_document(root);\n",
       "      } else {\n",
       "        attempts++;\n",
       "        if (attempts > 100) {\n",
       "          clearInterval(timer);\n",
       "          console.log(\"Bokeh: ERROR: Unable to run BokehJS code because BokehJS library is missing\");\n",
       "        }\n",
       "      }\n",
       "    }, 10, root)\n",
       "  }\n",
       "})(window);"
      ],
      "application/vnd.bokehjs_exec.v0+json": ""
     },
     "metadata": {
      "application/vnd.bokehjs_exec.v0+json": {
       "id": "1202"
      }
     },
     "output_type": "display_data"
    }
   ],
   "source": [
    "# Calcualte resulting dispersion relation using periodic boundary condition (PC)\n",
    "band = figure(plot_height = 400, plot_width = 700, title='Band structure of the 1D chain and the eigenvalues of the N-site chain', x_range = [-1.1*k0*M/np.pi,1.1*k0*M/np.pi], y_range= [1.2*energy.min(),1.2*energy.max()]);\n",
    "source2 = ColumnDataSource(data = {'xVal': k/np.pi, 'yVal' : energy});\n",
    "band.circle('xVal','yVal',source = source2,size = 6);\n",
    "band.line('xVal','yVal',source = source2);\n",
    "band.xaxis.axis_label='k ( \\u03c0 / a )';\n",
    "band.yaxis.axis_label='Energy/|gamma|';\n",
    "show(band)"
   ]
  },
  {
   "cell_type": "code",
   "execution_count": 7,
   "metadata": {},
   "outputs": [],
   "source": [
    "# define the initial wavefunction (with an artificial Gaussian dist. in k-space)\n",
    "sigm = 3.0*k0; # Distribution width\n",
    "kk0 = 12.0*k0; # Distribution center\n",
    "kk = np.linspace(-M*k0,(M-1)*k0, 200); # Create a smoother grid for illustration purpose\n",
    "phi_k0 = 1/(np.sqrt(2.0*np.pi)*sigm)*np.exp(-1/2*( (kk-kk0)/sigm )**2);"
   ]
  },
  {
   "cell_type": "code",
   "execution_count": 8,
   "metadata": {},
   "outputs": [
    {
     "data": {
      "text/html": [
       "\n",
       "\n",
       "\n",
       "\n",
       "\n",
       "\n",
       "  <div class=\"bk-root\" id=\"9c03cb2a-7d94-4c58-b4b7-950d99004355\" data-root-id=\"1319\"></div>\n"
      ]
     },
     "metadata": {},
     "output_type": "display_data"
    },
    {
     "data": {
      "application/javascript": [
       "(function(root) {\n",
       "  function embed_document(root) {\n",
       "    \n",
       "  var docs_json = {\"ddacad03-5125-4a4c-a5bd-aee71739089f\":{\"roots\":{\"references\":[{\"attributes\":{\"below\":[{\"id\":\"1330\",\"type\":\"LinearAxis\"}],\"center\":[{\"id\":\"1334\",\"type\":\"Grid\"},{\"id\":\"1339\",\"type\":\"Grid\"}],\"left\":[{\"id\":\"1335\",\"type\":\"LinearAxis\"}],\"plot_height\":400,\"plot_width\":700,\"renderers\":[{\"id\":\"1357\",\"type\":\"GlyphRenderer\"},{\"id\":\"1362\",\"type\":\"GlyphRenderer\"}],\"title\":{\"id\":\"1320\",\"type\":\"Title\"},\"toolbar\":{\"id\":\"1346\",\"type\":\"Toolbar\"},\"x_range\":{\"id\":\"1322\",\"type\":\"Range1d\"},\"x_scale\":{\"id\":\"1326\",\"type\":\"LinearScale\"},\"y_range\":{\"id\":\"1324\",\"type\":\"Range1d\"},\"y_scale\":{\"id\":\"1328\",\"type\":\"LinearScale\"}},\"id\":\"1319\",\"subtype\":\"Figure\",\"type\":\"Plot\"},{\"attributes\":{},\"id\":\"1341\",\"type\":\"WheelZoomTool\"},{\"attributes\":{\"overlay\":{\"id\":\"1393\",\"type\":\"BoxAnnotation\"}},\"id\":\"1342\",\"type\":\"BoxZoomTool\"},{\"attributes\":{},\"id\":\"1343\",\"type\":\"SaveTool\"},{\"attributes\":{},\"id\":\"1389\",\"type\":\"BasicTickFormatter\"},{\"attributes\":{},\"id\":\"1340\",\"type\":\"PanTool\"},{\"attributes\":{},\"id\":\"1344\",\"type\":\"ResetTool\"},{\"attributes\":{},\"id\":\"1394\",\"type\":\"Selection\"},{\"attributes\":{\"ticker\":{\"id\":\"1331\",\"type\":\"BasicTicker\"}},\"id\":\"1334\",\"type\":\"Grid\"},{\"attributes\":{},\"id\":\"1345\",\"type\":\"HelpTool\"},{\"attributes\":{},\"id\":\"1336\",\"type\":\"BasicTicker\"},{\"attributes\":{\"active_drag\":\"auto\",\"active_inspect\":\"auto\",\"active_multi\":null,\"active_scroll\":\"auto\",\"active_tap\":\"auto\",\"tools\":[{\"id\":\"1340\",\"type\":\"PanTool\"},{\"id\":\"1341\",\"type\":\"WheelZoomTool\"},{\"id\":\"1342\",\"type\":\"BoxZoomTool\"},{\"id\":\"1343\",\"type\":\"SaveTool\"},{\"id\":\"1344\",\"type\":\"ResetTool\"},{\"id\":\"1345\",\"type\":\"HelpTool\"}]},\"id\":\"1346\",\"type\":\"Toolbar\"},{\"attributes\":{\"line_alpha\":0.1,\"line_color\":\"#1f77b4\",\"x\":{\"field\":\"xVal\"},\"y\":{\"field\":\"yVal\"}},\"id\":\"1356\",\"type\":\"Line\"},{\"attributes\":{\"dimension\":1,\"ticker\":{\"id\":\"1336\",\"type\":\"BasicTicker\"}},\"id\":\"1339\",\"type\":\"Grid\"},{\"attributes\":{\"axis_label\":\"k-space distance (arb. unit)\",\"formatter\":{\"id\":\"1391\",\"type\":\"BasicTickFormatter\"},\"ticker\":{\"id\":\"1331\",\"type\":\"BasicTicker\"}},\"id\":\"1330\",\"type\":\"LinearAxis\"},{\"attributes\":{\"bottom_units\":\"screen\",\"fill_alpha\":{\"value\":0.5},\"fill_color\":{\"value\":\"lightgrey\"},\"left_units\":\"screen\",\"level\":\"overlay\",\"line_alpha\":{\"value\":1.0},\"line_color\":{\"value\":\"black\"},\"line_dash\":[4,4],\"line_width\":{\"value\":2},\"render_mode\":\"css\",\"right_units\":\"screen\",\"top_units\":\"screen\"},\"id\":\"1393\",\"type\":\"BoxAnnotation\"},{\"attributes\":{},\"id\":\"1269\",\"type\":\"Selection\"},{\"attributes\":{\"data_source\":{\"id\":\"1353\",\"type\":\"ColumnDataSource\"},\"glyph\":{\"id\":\"1355\",\"type\":\"Line\"},\"hover_glyph\":null,\"muted_glyph\":null,\"nonselection_glyph\":{\"id\":\"1356\",\"type\":\"Line\"},\"selection_glyph\":null,\"view\":{\"id\":\"1358\",\"type\":\"CDSView\"}},\"id\":\"1357\",\"type\":\"GlyphRenderer\"},{\"attributes\":{},\"id\":\"1331\",\"type\":\"BasicTicker\"},{\"attributes\":{},\"id\":\"1270\",\"type\":\"UnionRenderers\"},{\"attributes\":{},\"id\":\"1326\",\"type\":\"LinearScale\"},{\"attributes\":{\"source\":{\"id\":\"1353\",\"type\":\"ColumnDataSource\"}},\"id\":\"1358\",\"type\":\"CDSView\"},{\"attributes\":{},\"id\":\"1395\",\"type\":\"UnionRenderers\"},{\"attributes\":{\"fill_color\":{\"value\":\"black\"},\"size\":{\"units\":\"screen\",\"value\":6},\"x\":{\"field\":\"xVal\"},\"y\":{\"field\":\"yVal\"}},\"id\":\"1360\",\"type\":\"Circle\"},{\"attributes\":{\"line_color\":\"red\",\"x\":{\"field\":\"xVal\"},\"y\":{\"field\":\"yVal\"}},\"id\":\"1355\",\"type\":\"Line\"},{\"attributes\":{\"callback\":null,\"data\":{\"xVal\":{\"__ndarray__\":\"AQAAAAAA8L9+gDGiUK/vv/wAY0ShXu+/eYGU5vEN77/2AcaIQr3uv3OC9yqTbO6/8AIpzeMb7r9ug1pvNMvtv+sDjBGFeu2/aIS9s9Up7b/kBO9VJtnsv2GFIPh2iOy/3gVSmsc37L9choM8GOfrv9kGtd5oluu/VofmgLlF67/TBxgjCvXqv1CIScVapOq/zgh7Z6tT6r9LiawJ/ALqv8gJ3qtMsum/RYoPTp1h6b/CCkHw7RDpv0CLcpI+wOi/vQukNI9v6L86jNXW3x7ov7cMB3kwzue/NI04G4F957+yDWq90Sznvy+Om18i3Oa/rA7NAXOL5r8pj/6jwzrmv6YPMEYU6uW/JJBh6GSZ5b+hEJOKtUjlvx6RxCwG+OS/mxH2zlan5L8Ykidxp1bkv5QSWRP4BeS/EZOKtUi147+PE7xXmWTjvwyU7fnpE+O/iRQfnDrD4r8GlVA+i3Liv4MVguDbIeK/AZazgizR4b9+FuUkfYDhv/uWFsfNL+G/eBdIaR7f4L/1l3kLb47gv3IYq62/PeC/3jG5nyDa37/ZMhzkwTjfv9Mzfyhjl96/zjTibAT23b/INUWxpVTdv8I2qPVGs9y/vTcLOugR3L+3OG5+iXDbv7A50cIqz9q/qzo0B8wt2r+lO5dLbYzZv588+o8O69i/mj1d1K9J2L+UPsAYUajXv48/I13yBte/iUCGoZNl1r+DQenlNMTVv35CTCrWItW/eEOvbneB1L9zRBKzGODTv21Fdfe5PtO/Z0bYO1ud0r9iRzuA/PvRv1xInsSdWtG/VEkBCT+50L9OSmRN4BfQv5KWjiMD7c6/hphUrEWqzb97mho1iGfMv3Cc4L3KJMu/ZZ6mRg3iyb9aoGzPT5/Iv06iMliSXMe/Q6T44NQZxr84pr5pF9fEvy2ohPJZlMO/IqpKe5xRwr8WrBAE3w7BvxZcrRlDmL+/AGA5K8gSvb/pY8U8TY26v9NnUU7SB7i/vWvdX1eCtb+mb2lx3Pyyv5Bz9YJhd7C/8+4CKc3jq7+y9hpM19imv4X+Mm/hzaG/sAyWJNeFmb+sOIzV1t+Ov/Kv2MP+Z3W/dRFnI7Dvcj9uaVOFr6ONPxCleXzD55g/tcokm9d+oT/iwgx4zYmmPw+79FTDlKs/nlnumNxPsD+0VWKHV9WyP8tR1nXSWrU/4U1KZE3gtz/3Sb5SyGW6Pw5GMkFD67w/JEKmL75wvz8dHw2PHPvAPykdRwbaPcI/NBuBfZeAwz9EGbv0VMPEP08X9WsSBsY/WhUv489Ixz9mE2lajYvIP3ERo9FKzsk/fA/dSAgRyz+HDRfAxVPMP5MLUTeDls0/ngmLrkDZzj/Ug+IS/w3QP9qCf85dr9A/4IEcirxQ0T/lgLlFG/LRP+t/VgF6k9I/8H7zvNg00z/2fZB4N9bTP/x8LTSWd9Q/AXzK7/QY1T8He2erU7rVPw16BGeyW9Y/EnmhIhH91j8YeD7eb57XPx1325nOP9g/I3Z4VS3h2D8pdRURjILZPy50sszqI9o/NHNPiEnF2j85cuxDqGbbPz9xif8GCNw/RXAmu2Wp3D9Kb8N2xErdP1BuYDIj7N0/Wm397YGN3j9gbJqp4C7fP2ZrN2U/0N8/NjVqEM844D+4tDhufongPzs0B8wt2uA/vrPVKd0q4T9BM6SHjHvhP8SycuU7zOE/RjJBQ+sc4j/JsQ+hmm3iP0wx3v5JvuI/z7CsXPkO4z9SMHu6qF/jP9SvSRhYsOM/Vy8YdgcB5D/arubTtlHkP10utTFmouQ/4K2DjxXz5D9iLVLtxEPlP+WsIEt0lOU/aCzvqCPl5T/rq70G0zXmP24rjGSChuY/8KpawjHX5j9zKikg4SfnP/ap932QeOc/eSnG2z/J5z/8qJQ57xnoP34oY5eeaug/Aagx9U276D+EJwBT/QvpPwenzrCsXOk/iiadDlyt6T8NpmtsC/7pP48lOsq6Tuo/EqUIKGqf6j+VJNeFGfDqPxikpePIQOs/myN0QXiR6z8do0KfJ+LrP6AiEf3WMuw/I6LfWoaD7D+oIa64NdTsPyuhfBblJO0/riBLdJR17T8xoBnSQ8btP7Mf6C/zFu4/Np+2jaJn7j+5HoXrUbjuPw==\",\"dtype\":\"float64\",\"shape\":[200]},\"yVal\":{\"__ndarray__\":\"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\",\"dtype\":\"float64\",\"shape\":[200]}},\"selected\":{\"id\":\"1394\",\"type\":\"Selection\"},\"selection_policy\":{\"id\":\"1395\",\"type\":\"UnionRenderers\"}},\"id\":\"1353\",\"type\":\"ColumnDataSource\"},{\"attributes\":{\"fill_alpha\":{\"value\":0.1},\"fill_color\":{\"value\":\"#1f77b4\"},\"line_alpha\":{\"value\":0.1},\"line_color\":{\"value\":\"#1f77b4\"},\"size\":{\"units\":\"screen\",\"value\":6},\"x\":{\"field\":\"xVal\"},\"y\":{\"field\":\"yVal\"}},\"id\":\"1361\",\"type\":\"Circle\"},{\"attributes\":{\"text\":\"Initial wavefunction in real space\"},\"id\":\"1320\",\"type\":\"Title\"},{\"attributes\":{\"callback\":null,\"end\":2.4,\"start\":-2.4},\"id\":\"1324\",\"type\":\"Range1d\"},{\"attributes\":{\"data_source\":{\"id\":\"1236\",\"type\":\"ColumnDataSource\"},\"glyph\":{\"id\":\"1360\",\"type\":\"Circle\"},\"hover_glyph\":null,\"muted_glyph\":null,\"nonselection_glyph\":{\"id\":\"1361\",\"type\":\"Circle\"},\"selection_glyph\":null,\"view\":{\"id\":\"1363\",\"type\":\"CDSView\"}},\"id\":\"1362\",\"type\":\"GlyphRenderer\"},{\"attributes\":{\"callback\":null,\"data\":{\"xVal\":{\"__ndarray__\":\"AQAAAAAA8L+5HoXrUbjuv3I9CtejcO2/KlyPwvUo7L/iehSuR+Hqv5uZmZmZmem/U7gehetR6L8M16NwPQrnv8T1KFyPwuW/exSuR+F65L80MzMzMzPjv+xRuB6F6+G/pXA9Ctej4L+6HoXrUbjevypcj8L1KNy/m5mZmZmZ2b8M16NwPQrXv3sUrkfhetS/7lG4HoXr0b+6HoXrUbjOv5+ZmZmZmcm/fhSuR+F6xL+6HoXrUbi+v4MUrkfherS/gxSuR+F6pL8AAAAAAAAAAG8UrkfheqQ/eRSuR+F6tD+6HoXrUbi+P3kUrkfhesQ/mpmZmZmZyT+1HoXrUbjOP+tRuB6F69E/exSuR+F61D8M16NwPQrXP5eZmZmZmdk/J1yPwvUo3D+4HoXrUbjeP6RwPQrXo+A/7FG4HoXr4T8yMzMzMzPjP3oUrkfheuQ/wvUoXI/C5T8K16NwPQrnP1O4HoXrUeg/m5mZmZmZ6T/hehSuR+HqPylcj8L1KOw/cT0K16Nw7T+5HoXrUbjuPw==\",\"dtype\":\"float64\",\"shape\":[50]},\"yVal\":{\"__ndarray__\":\"AAAAAAAAAEAD2YBUZ7//P+EeEB2i/v4/5VrvnbrA/T9ZwIFOtAr8P6r0l5t34/k/F7jSA7ZT9z+/AbX+xmX0P1MrGDx+JfE/nYElyfc/6z9W6S8378bjP4B6A2Uc/Nc/i5PgGwoTwD9kk+AbChPAv3V6A2Uc/Ne/TekvN+/G47+YgSXJ9z/rv1ArGDx+JfG/uQG1/sZl9L8VuNIDtlP3v6b0l5t34/m/WMCBTrQK/L/kWu+dusD9v+AeEB2i/v6/AtmAVGe//78AAAAAAAAAwAPZgFRnv/+/4R4QHaL+/r/kWu+dusD9v1rAgU60Cvy/qPSXm3fj+b8YuNIDtlP3v70Btf7GZfS/UCsYPH4l8b+YgSXJ9z/rv1jpLzfvxuO/hHoDZRz817+Ek+AbChPAv3uT4BsKE8A/gHoDZRz81z9H6S8378bjP5aBJcn3P+s/TysYPH4l8T+8AbX+xmX0Pxe40gO2U/c/qvSXm3fj+T9XwIFOtAr8P+Ra7526wP0/4B4QHaL+/j8D2YBUZ7//Pw==\",\"dtype\":\"float64\",\"shape\":[50]}},\"selected\":{\"id\":\"1269\",\"type\":\"Selection\"},\"selection_policy\":{\"id\":\"1270\",\"type\":\"UnionRenderers\"}},\"id\":\"1236\",\"type\":\"ColumnDataSource\"},{\"attributes\":{},\"id\":\"1391\",\"type\":\"BasicTickFormatter\"},{\"attributes\":{\"source\":{\"id\":\"1236\",\"type\":\"ColumnDataSource\"}},\"id\":\"1363\",\"type\":\"CDSView\"},{\"attributes\":{\"axis_label\":\"Probability density\",\"formatter\":{\"id\":\"1389\",\"type\":\"BasicTickFormatter\"},\"ticker\":{\"id\":\"1336\",\"type\":\"BasicTicker\"}},\"id\":\"1335\",\"type\":\"LinearAxis\"},{\"attributes\":{\"callback\":null,\"end\":1.1000000000000003,\"start\":-1.1000000000000003},\"id\":\"1322\",\"type\":\"Range1d\"},{\"attributes\":{},\"id\":\"1328\",\"type\":\"LinearScale\"}],\"root_ids\":[\"1319\"]},\"title\":\"Bokeh Application\",\"version\":\"1.4.0\"}};\n",
       "  var render_items = [{\"docid\":\"ddacad03-5125-4a4c-a5bd-aee71739089f\",\"roots\":{\"1319\":\"9c03cb2a-7d94-4c58-b4b7-950d99004355\"}}];\n",
       "  root.Bokeh.embed.embed_items_notebook(docs_json, render_items);\n",
       "\n",
       "  }\n",
       "  if (root.Bokeh !== undefined) {\n",
       "    embed_document(root);\n",
       "  } else {\n",
       "    var attempts = 0;\n",
       "    var timer = setInterval(function(root) {\n",
       "      if (root.Bokeh !== undefined) {\n",
       "        clearInterval(timer);\n",
       "        embed_document(root);\n",
       "      } else {\n",
       "        attempts++;\n",
       "        if (attempts > 100) {\n",
       "          clearInterval(timer);\n",
       "          console.log(\"Bokeh: ERROR: Unable to run BokehJS code because BokehJS library is missing\");\n",
       "        }\n",
       "      }\n",
       "    }, 10, root)\n",
       "  }\n",
       "})(window);"
      ],
      "application/vnd.bokehjs_exec.v0+json": ""
     },
     "metadata": {
      "application/vnd.bokehjs_exec.v0+json": {
       "id": "1319"
      }
     },
     "output_type": "display_data"
    }
   ],
   "source": [
    "# Initialize an electron at the center of the 1D chain with a gaussian distribution to indicates its probability density\n",
    "dist0 = figure(plot_height = 400, plot_width = 700, title='Initial wavefunction in real space', x_range = [-1.1*k0*M/np.pi,1.1*k0*M/np.pi], y_range= [1.2*energy.min(),1.2*energy.max()]);\n",
    "source3 = ColumnDataSource(data = {'xVal': kk/np.pi, 'yVal': phi_k0/phi_k0.max()});\n",
    "dist0.line('xVal','yVal', source = source3, line_color = 'red');\n",
    "dist0.circle('xVal','yVal',source = source2, size = 6, line_color = 'black', fill_color = 'black');\n",
    "dist0.xaxis.axis_label='k-space distance (arb. unit)';\n",
    "dist0.yaxis.axis_label='Probability density';\n",
    "show(dist0)"
   ]
  },
  {
   "cell_type": "code",
   "execution_count": 9,
   "metadata": {},
   "outputs": [],
   "source": [
    "# Construct hamiltonian using occupation number basis and set initial wavefunction\n",
    "asd = np.zeros((N-1,N-1),complex);\n",
    "np.fill_diagonal(asd,-1);\n",
    "b = np.append(asd,np.zeros((N-1,1),complex), axis = 1);\n",
    "c = np.append(np.zeros((1,N),complex),b,axis = 0);\n",
    "hamil = c + np.transpose(c);\n",
    "np.fill_diagonal(hamil,0);\n",
    "psi0 = np.zeros((N,1),complex);\n",
    "rho0 = np.zeros((N,1), float);\n",
    "\n",
    "phi_k0 = 1/(np.sqrt(2*np.pi)*sigm)*np.exp(-1/2*( (k-kk0)/sigm )**2); # Calculate the initial wavefunction using really k points ('k' instead of 'kk').\n",
    "for nn in range(0,psi0.size):\n",
    "    psi_temp = 0.0;\n",
    "    for kn in range(k.size):\n",
    "        psi_temp = psi_temp + phi_k0[kn]*np.exp(-1j*(k[kn]*(nn-M)*a));\n",
    "    psi0[nn] = psi_temp;\n",
    "    rho0[nn] = np.abs(psi0[nn]);\n",
    "\n",
    "hamil[N-1][0] = -1; #Apply periodic boundry condition\n",
    "hamil[0][N-1] = -1;"
   ]
  },
  {
   "cell_type": "code",
   "execution_count": 10,
   "metadata": {},
   "outputs": [],
   "source": [
    "# Define time evolution operator\n",
    "dt = 0.1; # Define time step (has to be small if using asymptotic exponential for evolution operator)\n",
    "endt = 5000;\n",
    "\n",
    "# Option 1: Use first order Taylor expansion to approximate the evolution operator\n",
    "diaganol = np.ones(N);\n",
    "evol = np.diag(diaganol)+1.j*hamil*dt; # first order Taylor expansion\n",
    "\n",
    "## Option 2: Use Pade approximation in scipy package to approximate the evolution operator\n",
    "# evol = expm(1.j*hamil*dt);\n",
    "\n",
    "ts = np.arange(0,endt*dt,dt);\n",
    "psis = np.empty(ts.size,dtype = object); # Initiate a container for the wavefunctions at different time slice\n",
    "phis = np.empty(ts.size,dtype = object); # Initiate a container for the phase at different time slice\n",
    "rhos = np.empty(ts.size,dtype = object); # Initiate a container for the probability density at different time slice\n",
    "psis[0]=psi0;\n",
    "for ii in range(0,ts.size-1):\n",
    "    psis[ii+1] = np.dot(evol,psis[ii]);\n",
    "for ii in range(0,ts.size-1):\n",
    "    phis[ii] = np.angle((psis[ii]));\n",
    "    rhos[ii] = np.abs(psis[ii]);"
   ]
  },
  {
   "cell_type": "code",
   "execution_count": 11,
   "metadata": {},
   "outputs": [
    {
     "data": {
      "text/html": [
       "\n",
       "\n",
       "\n",
       "\n",
       "\n",
       "\n",
       "  <div class=\"bk-root\" id=\"816dacf8-fb2b-4dfd-b4e1-0e0bbe725349\" data-root-id=\"1458\"></div>\n"
      ]
     },
     "metadata": {},
     "output_type": "display_data"
    },
    {
     "data": {
      "application/javascript": [
       "(function(root) {\n",
       "  function embed_document(root) {\n",
       "    \n",
       "  var docs_json = {\"696a2df9-2713-4d05-bb3c-cd0ffc0d7073\":{\"roots\":{\"references\":[{\"attributes\":{\"below\":[{\"id\":\"1469\",\"type\":\"LinearAxis\"},{\"id\":\"1505\",\"type\":\"ColorBar\"}],\"center\":[{\"id\":\"1473\",\"type\":\"Grid\"},{\"id\":\"1478\",\"type\":\"Grid\"}],\"left\":[{\"id\":\"1474\",\"type\":\"LinearAxis\"}],\"plot_height\":300,\"plot_width\":700,\"renderers\":[{\"id\":\"1498\",\"type\":\"GlyphRenderer\"},{\"id\":\"1503\",\"type\":\"GlyphRenderer\"}],\"title\":{\"id\":\"1459\",\"type\":\"Title\"},\"toolbar\":{\"id\":\"1485\",\"type\":\"Toolbar\"},\"x_range\":{\"id\":\"1461\",\"type\":\"Range1d\"},\"x_scale\":{\"id\":\"1465\",\"type\":\"LinearScale\"},\"y_range\":{\"id\":\"1463\",\"type\":\"DataRange1d\"},\"y_scale\":{\"id\":\"1467\",\"type\":\"LinearScale\"}},\"id\":\"1458\",\"subtype\":\"Figure\",\"type\":\"Plot\"},{\"attributes\":{\"line_alpha\":0.1,\"line_color\":\"#1f77b4\",\"x\":{\"field\":\"xVal_s\"},\"y\":{\"field\":\"yVal_s\"}},\"id\":\"1502\",\"type\":\"Line\"},{\"attributes\":{\"dimension\":1,\"ticker\":{\"id\":\"1475\",\"type\":\"BasicTicker\"}},\"id\":\"1478\",\"type\":\"Grid\"},{\"attributes\":{\"data_source\":{\"id\":\"1493\",\"type\":\"ColumnDataSource\"},\"glyph\":{\"id\":\"1501\",\"type\":\"Line\"},\"hover_glyph\":null,\"muted_glyph\":null,\"nonselection_glyph\":{\"id\":\"1502\",\"type\":\"Line\"},\"selection_glyph\":null,\"view\":{\"id\":\"1504\",\"type\":\"CDSView\"}},\"id\":\"1503\",\"type\":\"GlyphRenderer\"},{\"attributes\":{\"data_source\":{\"id\":\"1492\",\"type\":\"ColumnDataSource\"},\"glyph\":{\"id\":\"1496\",\"type\":\"Circle\"},\"hover_glyph\":null,\"muted_glyph\":null,\"nonselection_glyph\":{\"id\":\"1497\",\"type\":\"Circle\"},\"selection_glyph\":null,\"view\":{\"id\":\"1499\",\"type\":\"CDSView\"}},\"id\":\"1498\",\"type\":\"GlyphRenderer\"},{\"attributes\":{\"source\":{\"id\":\"1493\",\"type\":\"ColumnDataSource\"}},\"id\":\"1504\",\"type\":\"CDSView\"},{\"attributes\":{\"callback\":null,\"data\":{\"xVal_s\":{\"__ndarray__\":\"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\",\"dtype\":\"float64\",\"shape\":[200]},\"yVal_s\":{\"__ndarray__\":\"IPVPAGgF4z6RUvmoxgXjPlY5OyniBuM+AKmyvroI4z4uofymUAvjPnkhth+kDuM+dCl8ZrUS4z69uOu4hBfjPufOoVQSHeM+DK29i14j4z6GUzInairjPm1NpBo2MuM+UmnGWcM64z4K3Xi0EkTjPuvXTv8jTuM+T6lHo/ZY4z4YK/oIimTjPgAVJRHecOM+bxy3oPZ94z76eqem2YvjPnPFBhaNmuM+RKdPjBWq4z41NgKUabrjPhRasEZ3y+M+TxOXoCzd4z41pdNse+/jPkfjna2HAuQ+TvHq25gW5D7GYogv9yvkPnFYW8LgQuQ+Y4vsv+la5D4y9exSGXPkPgZ/b2FyiuQ+MfPLIhCg5D72yH4xI7XkPjfiNYjjzOQ+qFtXpZ7q5D6Xar0WVhHlPsWqw51CO+U+wS6gyZNY5T7h/V7J7FjlPh9cZU4MLeU+mRqUswf05D4Sjv98HwvlPq3jmjLw0+U+vWLdrnCu5z4qIEQ8vpLqPmkTgzcK1e0+KC1zKYld8D6TkdrQ9EbxPjJD6551+fE+X1QdDQwM9D47AFXbHTn5PqWTfMoTngE/jOxonPpVCj+QrEOYxIAUP7aanx8p/x8/cAyuvaJqKD8j/ddF2TQyPxfrMrwy3Do/hmA8diiNQz8ujrVuGe9LP813/0uboFM/kHNfJL5sWz+th4OOuAtjP+lczxUYLmo/IlJ94JbJcT9rjW9MYQV4PwXL+NZzHoA//FAbMlNxhT/40BD5KTyMPwM7lyYgcZI/FEkC/Evolz/j9sp0GbqePzfXJPftj6M/hMp0PCGxqD/s0O2hl+euPxoYbGMhLbM/CJlUWNGXtz80LhMapsW8P77Em5HpY8E/Ve8lwcXXxD/NyPS5Q8bIP50pGzBUMc0/shRdTwgM0T+zoWP0xrzTP3bboybpqdY/Q8XrokDN2T/AlWqarB3dP7W+nMoBSeA/FWs2/F4Q4j85+h786t3jP60DXCgiqeU/BQ9V0Hlp5z8hgOj6ZRbpP4kSk9hGp+o/9DCm/2wT7D+MYa+aKFLtP8hPtqHpWu4/f1DtMZwn7z/SgAq3d7TvP9iptaDJ/e8/AAAAAAAA8D87hJdi77rvP2uAzDUbMu8/cCv3CTZp7j80QSnpAGTtP32MC2FVKOw/8BuzJbe+6j9iaZIM1i/pP5OE7ahhhOc/uAoAdvvE5T+GdsrdL/rjP1dA5ZCJLOI/oIThTo9k4D8oeF7f4FLdP4yTqYr+/9k/0yqLF6HZ1j9ijn/K7ejTP5p03vpwNNE/KbjdzJp6zT84Dmw38QfJP0R+AY7OEcU/SAO1+KOWwT/fEu6vix29P8DtBEk147c/HwzFkxFtsz++djEW2FKvP4uq2yYkCqk/9m1AuhXZoz/pJI1zdjGfP4Qqw8eqSJg/iJzEAte9kj9dLSBZ9LSMPyVqSJom0IU/xovn/V5ogD//i0uFaXZ4PzZeNmjTHnI/k7C4iv6uaj8FJLx6Vm1jP7QTBJ/p/Fs/RQyC7jAJVD9EussODohMPyhYEuOw/kM/Z4mpD0B/Oz+9NIA/hKYyP3mCL1Z2CCk/T984VlNuID/amsHPPRMVP+2HSs/3CQs/FRfSLy8GAj+etpSG7a35Pnmz0TfYQfQ+FJ9BMFQL8j61QACw+0/xPr4pXnSscPA+rUZD8gMH7j6elc7IA8XqPnQQErqa1ec+s1Wvdi/o5T67LndwURHlPuwZaT8m8uQ+Ly2SWxEp5T7bFjTQo1flPkqEDPKYWeU+mid+cpU95T5U/3si9hPlPgBA2zu17OQ+U5iS7oDO5D4HoIgre7bkPrPfWnRWoeQ+ZZFktNOL5D52BR0BkHTkPuE4VkpmXOQ+YqfvqVNE5D5nYrmJUi3kPiENsXfdF+Q+G/n69rkD5D74WfzPn/DjPtqjijlH3uM+5gK9MojM4z6GyHi4b7vjPstyw80Pq+M+tCKgZnqb4z7ev5L/uYzjPit1RWDKfuM+l+xqmKVx4z7TDW25RWXjPne1EJmmWeM+BPHNLchO4z7cbL4Eq0TjPl+04KpPO+M+ULj/W7Yy4z5/H+Vx3irjPoDDWB/HI+M+5H0il28d4z4+KAoM1xfjPiGc17D8EuM+HbNSuN8O4z7HRkNVfwvjPg==\",\"dtype\":\"float64\",\"shape\":[200]}},\"selected\":{\"id\":\"1550\",\"type\":\"Selection\"},\"selection_policy\":{\"id\":\"1551\",\"type\":\"UnionRenderers\"}},\"id\":\"1493\",\"type\":\"ColumnDataSource\"},{\"attributes\":{\"text\":\"Electron wavefunction\"},\"id\":\"1459\",\"type\":\"Title\"},{\"attributes\":{\"active_drag\":\"auto\",\"active_inspect\":\"auto\",\"active_multi\":null,\"active_scroll\":\"auto\",\"active_tap\":\"auto\",\"tools\":[{\"id\":\"1479\",\"type\":\"PanTool\"},{\"id\":\"1480\",\"type\":\"WheelZoomTool\"},{\"id\":\"1481\",\"type\":\"BoxZoomTool\"},{\"id\":\"1482\",\"type\":\"SaveTool\"},{\"id\":\"1483\",\"type\":\"ResetTool\"},{\"id\":\"1484\",\"type\":\"HelpTool\"}]},\"id\":\"1485\",\"type\":\"Toolbar\"},{\"attributes\":{},\"id\":\"1479\",\"type\":\"PanTool\"},{\"attributes\":{},\"id\":\"1543\",\"type\":\"BasicTickFormatter\"},{\"attributes\":{\"high\":3.117931304092257,\"low\":-3.117931304092257,\"palette\":[\"#313695\",\"#4575b4\",\"#74add1\",\"#abd9e9\",\"#e0f3f8\",\"#ffffbf\",\"#fee090\",\"#fdae61\",\"#f46d43\",\"#d73027\",\"#a50026\"]},\"id\":\"1494\",\"type\":\"LinearColorMapper\"},{\"attributes\":{},\"id\":\"1480\",\"type\":\"WheelZoomTool\"},{\"attributes\":{\"callback\":null,\"data\":{\"cVal\":{\"__ndarray__\":\"CQlihH4/s73LAbL3hfEIwLRHuDUPH6g/up5AplaSCMAkAqbIeq+3P3f4k7xwOAjAwRHoAkE1wT/39ONWq+cHwARX/jJ+4cU/Jc8QesyhB8A7KsqdIPjIP9HCQIxmBwjAvoVDcqNC2j+uzSZHidfwv8bnzNyWxwHAXjVMqvkwBEBcZAxxswrwP62CYhcBHOC/Y4uyABAVAMCKKmTFFR4GQGd+3krlGvQ/6urqaAEW0L/iL0m/9CX8vy/xhTmhIAhAJssMeo8g+D8AAAAAAAAAACbLDHqPIPi/L/GFOaEgCMDiL0m/9CX8P+rq6mgBFtA/Z37eSuUa9L+KKmTFFR4GwGOLsgAQFQBArYJiFwEc4D9cZAxxswrwv141TKr5MATAxufM3JbHAUCuzSZHidfwP76FQ3KjQtq/0cJAjGYHCEA7KsqdIPjIvyXPEHrMoQdABFf+Mn7hxb/39ONWq+cHQMER6AJBNcG/d/iTvHA4CEAkAqbIeq+3v7qeQKZWkghAtEe4NQ8fqL/LAbL3hfEIQA==\",\"dtype\":\"float64\",\"shape\":[50]},\"xVal\":{\"__ndarray__\":\"AAAAAAAAOcAAAAAAAAA4wAAAAAAAADfAAAAAAAAANsAAAAAAAAA1wAAAAAAAADTAAAAAAAAAM8AAAAAAAAAywAAAAAAAADHAAAAAAAAAMMAAAAAAAAAuwAAAAAAAACzAAAAAAAAAKsAAAAAAAAAowAAAAAAAACbAAAAAAAAAJMAAAAAAAAAiwAAAAAAAACDAAAAAAAAAHMAAAAAAAAAYwAAAAAAAABTAAAAAAAAAEMAAAAAAAAAIwAAAAAAAAADAAAAAAAAA8L8AAAAAAAAAAAAAAAAAAPA/AAAAAAAAAEAAAAAAAAAIQAAAAAAAABBAAAAAAAAAFEAAAAAAAAAYQAAAAAAAABxAAAAAAAAAIEAAAAAAAAAiQAAAAAAAACRAAAAAAAAAJkAAAAAAAAAoQAAAAAAAACpAAAAAAAAALEAAAAAAAAAuQAAAAAAAADBAAAAAAAAAMUAAAAAAAAAyQAAAAAAAADNAAAAAAAAANEAAAAAAAAA1QAAAAAAAADZAAAAAAAAAN0AAAAAAAAA4QA==\",\"dtype\":\"float64\",\"shape\":[50]},\"yVal\":{\"__ndarray__\":\"AAAAAAAAAAAAAAAAAAAAAAAAAAAAAAAAAAAAAAAAAAAAAAAAAAAAAAAAAAAAAAAAAAAAAAAAAAAAAAAAAAAAAAAAAAAAAAAAAAAAAAAAAAAAAAAAAAAAAAAAAAAAAAAAAAAAAAAAAAAAAAAAAAAAAAAAAAAAAAAAAAAAAAAAAAAAAAAAAAAAAAAAAAAAAAAAAAAAAAAAAAAAAAAAAAAAAAAAAAAAAAAAAAAAAAAAAAAAAAAAAAAAAAAAAAAAAAAAAAAAAAAAAAAAAAAAAAAAAAAAAAAAAAAAAAAAAAAAAAAAAAAAAAAAAAAAAAAAAAAAAAAAAAAAAAAAAAAAAAAAAAAAAAAAAAAAAAAAAAAAAAAAAAAAAAAAAAAAAAAAAAAAAAAAAAAAAAAAAAAAAAAAAAAAAAAAAAAAAAAAAAAAAAAAAAAAAAAAAAAAAAAAAAAAAAAAAAAAAAAAAAAAAAAAAAAAAAAAAAAAAAAAAAAAAAAAAAAAAAAAAAAAAAAAAAAAAAAAAAAAAAAAAAAAAAAAAA==\",\"dtype\":\"float64\",\"shape\":[50]}},\"selected\":{\"id\":\"1548\",\"type\":\"Selection\"},\"selection_policy\":{\"id\":\"1549\",\"type\":\"UnionRenderers\"}},\"id\":\"1492\",\"type\":\"ColumnDataSource\"},{\"attributes\":{},\"id\":\"1545\",\"type\":\"BasicTickFormatter\"},{\"attributes\":{\"overlay\":{\"id\":\"1547\",\"type\":\"BoxAnnotation\"}},\"id\":\"1481\",\"type\":\"BoxZoomTool\"},{\"attributes\":{},\"id\":\"1546\",\"type\":\"BasicTicker\"},{\"attributes\":{},\"id\":\"1482\",\"type\":\"SaveTool\"},{\"attributes\":{\"bottom_units\":\"screen\",\"fill_alpha\":{\"value\":0.5},\"fill_color\":{\"value\":\"lightgrey\"},\"left_units\":\"screen\",\"level\":\"overlay\",\"line_alpha\":{\"value\":1.0},\"line_color\":{\"value\":\"black\"},\"line_dash\":[4,4],\"line_width\":{\"value\":2},\"render_mode\":\"css\",\"right_units\":\"screen\",\"top_units\":\"screen\"},\"id\":\"1547\",\"type\":\"BoxAnnotation\"},{\"attributes\":{},\"id\":\"1483\",\"type\":\"ResetTool\"},{\"attributes\":{\"callback\":null},\"id\":\"1463\",\"type\":\"DataRange1d\"},{\"attributes\":{},\"id\":\"1548\",\"type\":\"Selection\"},{\"attributes\":{},\"id\":\"1484\",\"type\":\"HelpTool\"},{\"attributes\":{\"callback\":null,\"end\":27.500000000000004,\"start\":-27.500000000000004},\"id\":\"1461\",\"type\":\"Range1d\"},{\"attributes\":{},\"id\":\"1549\",\"type\":\"UnionRenderers\"},{\"attributes\":{},\"id\":\"1465\",\"type\":\"LinearScale\"},{\"attributes\":{},\"id\":\"1541\",\"type\":\"BasicTickFormatter\"},{\"attributes\":{},\"id\":\"1550\",\"type\":\"Selection\"},{\"attributes\":{},\"id\":\"1551\",\"type\":\"UnionRenderers\"},{\"attributes\":{},\"id\":\"1467\",\"type\":\"LinearScale\"},{\"attributes\":{\"fill_color\":{\"field\":\"cVal\",\"transform\":{\"id\":\"1494\",\"type\":\"LinearColorMapper\"}},\"line_color\":{\"field\":\"cVal\",\"transform\":{\"id\":\"1494\",\"type\":\"LinearColorMapper\"}},\"size\":{\"units\":\"screen\",\"value\":6},\"x\":{\"field\":\"xVal\"},\"y\":{\"field\":\"yVal\"}},\"id\":\"1496\",\"type\":\"Circle\"},{\"attributes\":{\"formatter\":{\"id\":\"1543\",\"type\":\"BasicTickFormatter\"},\"ticker\":{\"id\":\"1470\",\"type\":\"BasicTicker\"}},\"id\":\"1469\",\"type\":\"LinearAxis\"},{\"attributes\":{\"fill_alpha\":{\"value\":0.1},\"fill_color\":{\"value\":\"#1f77b4\"},\"line_alpha\":{\"value\":0.1},\"line_color\":{\"value\":\"#1f77b4\"},\"size\":{\"units\":\"screen\",\"value\":6},\"x\":{\"field\":\"xVal\"},\"y\":{\"field\":\"yVal\"}},\"id\":\"1497\",\"type\":\"Circle\"},{\"attributes\":{},\"id\":\"1470\",\"type\":\"BasicTicker\"},{\"attributes\":{\"source\":{\"id\":\"1492\",\"type\":\"ColumnDataSource\"}},\"id\":\"1499\",\"type\":\"CDSView\"},{\"attributes\":{\"ticker\":{\"id\":\"1470\",\"type\":\"BasicTicker\"}},\"id\":\"1473\",\"type\":\"Grid\"},{\"attributes\":{\"color_mapper\":{\"id\":\"1494\",\"type\":\"LinearColorMapper\"},\"formatter\":{\"id\":\"1545\",\"type\":\"BasicTickFormatter\"},\"location\":[150,0],\"orientation\":\"horizontal\",\"ticker\":{\"id\":\"1546\",\"type\":\"BasicTicker\"},\"width\":300},\"id\":\"1505\",\"type\":\"ColorBar\"},{\"attributes\":{\"formatter\":{\"id\":\"1541\",\"type\":\"BasicTickFormatter\"},\"ticker\":{\"id\":\"1475\",\"type\":\"BasicTicker\"}},\"id\":\"1474\",\"type\":\"LinearAxis\"},{\"attributes\":{\"line_color\":\"red\",\"x\":{\"field\":\"xVal_s\"},\"y\":{\"field\":\"yVal_s\"}},\"id\":\"1501\",\"type\":\"Line\"},{\"attributes\":{},\"id\":\"1475\",\"type\":\"BasicTicker\"}],\"root_ids\":[\"1458\"]},\"title\":\"Bokeh Application\",\"version\":\"1.4.0\"}};\n",
       "  var render_items = [{\"docid\":\"696a2df9-2713-4d05-bb3c-cd0ffc0d7073\",\"roots\":{\"1458\":\"816dacf8-fb2b-4dfd-b4e1-0e0bbe725349\"}}];\n",
       "  root.Bokeh.embed.embed_items_notebook(docs_json, render_items);\n",
       "\n",
       "  }\n",
       "  if (root.Bokeh !== undefined) {\n",
       "    embed_document(root);\n",
       "  } else {\n",
       "    var attempts = 0;\n",
       "    var timer = setInterval(function(root) {\n",
       "      if (root.Bokeh !== undefined) {\n",
       "        clearInterval(timer);\n",
       "        embed_document(root);\n",
       "      } else {\n",
       "        attempts++;\n",
       "        if (attempts > 100) {\n",
       "          clearInterval(timer);\n",
       "          console.log(\"Bokeh: ERROR: Unable to run BokehJS code because BokehJS library is missing\");\n",
       "        }\n",
       "      }\n",
       "    }, 10, root)\n",
       "  }\n",
       "})(window);"
      ],
      "application/vnd.bokehjs_exec.v0+json": ""
     },
     "metadata": {
      "application/vnd.bokehjs_exec.v0+json": {
       "id": "1458"
      }
     },
     "output_type": "display_data"
    }
   ],
   "source": [
    "# Plot the phase of the wavefunction at time = t*dt\n",
    "t = 0;\n",
    "phi_t = np.squeeze(phis[t]);\n",
    "rho_t = interp1d(lattx,np.squeeze(rhos[t]), kind = 'cubic');\n",
    "wavefunc_t = figure(plot_height=300, plot_width=700, title=\"Electron wavefunction\",x_range=[-1.1*a*M,1.1*a*M]);\n",
    "source4 = ColumnDataSource(data = {'xVal': lattx, 'yVal' : latty, 'cVal': phi_t});\n",
    "lattx_smooth = np.linspace(-a*M,a*(M-1),num = 200, endpoint = True);\n",
    "source5 = ColumnDataSource(data = {'xVal_s': lattx_smooth, 'yVal_s': rho_t(lattx_smooth)/rho_t(lattx_smooth).max()});\n",
    "\n",
    "#phis_smooth = np.empty(ts.size,dtype = object); # Initiate a container for the phase at different time slice\n",
    "#for ii in range(0,ts.size-1): # Option 1: use smoothed curve to show phase variation\n",
    "#    phis_smooth[ii] = interp1d(lattx,np.squeeze(phis[ii]), kind = 'cubic');\n",
    "#wavefunc_t.line('xVal','yVal', source = source4); \n",
    "\n",
    "mapper = linear_cmap(field_name = 'cVal', palette = RdYlBu11, low = min(phi_t), high = max(phi_t));\n",
    "wavefunc_t.circle('xVal','yVal',source = source4, size = 6, line_color = mapper, fill_color = mapper);\n",
    "wavefunc_t.line('xVal_s','yVal_s',source = source5, line_color = 'red');\n",
    "color_bar = ColorBar(color_mapper = mapper['transform'], width = 300, location = (150,0), orientation = \"horizontal\");\n",
    "wavefunc_t.add_layout(color_bar, 'below');\n",
    "show(wavefunc_t)"
   ]
  },
  {
   "cell_type": "code",
   "execution_count": 12,
   "metadata": {},
   "outputs": [],
   "source": [
    "def update(time):\n",
    "    time = int(time/dt);\n",
    "    rho_t = interp1d(lattx,np.squeeze(rhos[time]), kind = 'cubic');\n",
    "    source4.data['cVal'] = np.squeeze(phis[time]);\n",
    "    source5.data['yVal_s'] = rho_t(lattx_smooth)/rho_t(lattx_smooth).max();\n",
    "    \n",
    "    push_notebook(wavefunc_t)"
   ]
  },
  {
   "cell_type": "code",
   "execution_count": 13,
   "metadata": {},
   "outputs": [
    {
     "data": {
      "text/html": [
       "\n",
       "\n",
       "\n",
       "\n",
       "\n",
       "\n",
       "  <div class=\"bk-root\" id=\"4ffe0bfc-e14d-48c9-beee-1e2f284a41de\" data-root-id=\"1458\"></div>\n"
      ]
     },
     "metadata": {},
     "output_type": "display_data"
    },
    {
     "data": {
      "application/javascript": [
       "(function(root) {\n",
       "  function embed_document(root) {\n",
       "    \n",
       "  var docs_json = {\"83736a80-d033-4a82-856a-fd65d993a5f2\":{\"roots\":{\"references\":[{\"attributes\":{\"below\":[{\"id\":\"1469\",\"type\":\"LinearAxis\"},{\"id\":\"1505\",\"type\":\"ColorBar\"}],\"center\":[{\"id\":\"1473\",\"type\":\"Grid\"},{\"id\":\"1478\",\"type\":\"Grid\"}],\"left\":[{\"id\":\"1474\",\"type\":\"LinearAxis\"}],\"plot_height\":300,\"plot_width\":700,\"renderers\":[{\"id\":\"1498\",\"type\":\"GlyphRenderer\"},{\"id\":\"1503\",\"type\":\"GlyphRenderer\"}],\"title\":{\"id\":\"1459\",\"type\":\"Title\"},\"toolbar\":{\"id\":\"1485\",\"type\":\"Toolbar\"},\"x_range\":{\"id\":\"1461\",\"type\":\"Range1d\"},\"x_scale\":{\"id\":\"1465\",\"type\":\"LinearScale\"},\"y_range\":{\"id\":\"1463\",\"type\":\"DataRange1d\"},\"y_scale\":{\"id\":\"1467\",\"type\":\"LinearScale\"}},\"id\":\"1458\",\"subtype\":\"Figure\",\"type\":\"Plot\"},{\"attributes\":{\"line_alpha\":0.1,\"line_color\":\"#1f77b4\",\"x\":{\"field\":\"xVal_s\"},\"y\":{\"field\":\"yVal_s\"}},\"id\":\"1502\",\"type\":\"Line\"},{\"attributes\":{\"dimension\":1,\"ticker\":{\"id\":\"1475\",\"type\":\"BasicTicker\"}},\"id\":\"1478\",\"type\":\"Grid\"},{\"attributes\":{\"data_source\":{\"id\":\"1493\",\"type\":\"ColumnDataSource\"},\"glyph\":{\"id\":\"1501\",\"type\":\"Line\"},\"hover_glyph\":null,\"muted_glyph\":null,\"nonselection_glyph\":{\"id\":\"1502\",\"type\":\"Line\"},\"selection_glyph\":null,\"view\":{\"id\":\"1504\",\"type\":\"CDSView\"}},\"id\":\"1503\",\"type\":\"GlyphRenderer\"},{\"attributes\":{\"data_source\":{\"id\":\"1492\",\"type\":\"ColumnDataSource\"},\"glyph\":{\"id\":\"1496\",\"type\":\"Circle\"},\"hover_glyph\":null,\"muted_glyph\":null,\"nonselection_glyph\":{\"id\":\"1497\",\"type\":\"Circle\"},\"selection_glyph\":null,\"view\":{\"id\":\"1499\",\"type\":\"CDSView\"}},\"id\":\"1498\",\"type\":\"GlyphRenderer\"},{\"attributes\":{\"source\":{\"id\":\"1493\",\"type\":\"ColumnDataSource\"}},\"id\":\"1504\",\"type\":\"CDSView\"},{\"attributes\":{\"callback\":null,\"data\":{\"xVal_s\":{\"__ndarray__\":\"AAAAAAAAOcBirLb+9sA4wMRYbf3tgTjAJQUk/ORCOMCHsdr62wM4wOldkfnSxDfASwpI+MmFN8Cstv72wEY3wA5jtfW3BzfAcA9s9K7INsDSuyLzpYk2wDNo2fGcSjbAlRSQ8JMLNsD3wEbvisw1wFlt/e2BjTXAuhm07HhONcAcxmrrbw81wH5yIepm0DTA4B7Y6F2RNMBCy47nVFI0wKN3ReZLEzTABST85ELUM8Bn0LLjOZUzwMh8aeIwVjPAKikg4ScXM8CM1dbfHtgywO6Bjd4VmTLAUC5E3QxaMsCy2vrbAxsywBOHsdr62zHAdTNo2fGcMcDX3x7Y6F0xwDiM1dbfHjHAmjiM1dbfMMD85ELUzaAwwF6R+dLEYTDAwD2w0bsiMMBD1M2gZccvwAYtO55TSS/AyoWom0HLLsCN3hWZL00uwFE3g5Ydzy3AFJDwkwtRLcDY6F2R+dIswJtBy47nVCzAX5o4jNXWK8Ai86WJw1grwOZLE4ex2irAqqSAhJ9cKsBt/e2Bjd4pwDFWW397YCnA9K7IfGniKMC4BzZ6V2QowHtgo3dF5ifAP7kQdTNoJ8ACEn5yIeomwMZq628PbCbAicNYbf3tJcBNHMZq628lwBB1M2jZ8STA1M2gZcdzJMCXJg5jtfUjwFt/e2CjdyPAHtjoXZH5IsDiMFZbf3siwKaJw1ht/SHAauIwVlt/IcAsO55TSQEhwPCTC1E3gyDAtOx4TiUFIMDwisyXJg4fwHQ8p5ICEh7A/O2Bjd4VHcCEn1yIuhkcwAxRN4OWHRvAkAISfnIhGsAYtOx4TiUZwKBlx3MqKRjAKBeibgYtF8CsyHxp4jAWwDR6V2S+NBXAvCsyX5o4FMBE3QxadjwTwMyO51RSQBLAUEDCTy5EEcDY8ZxKCkgQwMBG74rMlw7A0KmkgISfDMDYDFp2PKcKwOhvD2z0rgjA+NLEYay2BsAINnpXZL4EwBCZL00cxgLAIPzkQtTNAMBgvjRxGKv9v4CEn1yIuvm/oEoKSPjJ9b+wEHUzaNnxv6Ctvz2w0eu/4DmVFJDw479AjNXW3x7YvwBJAQk/ucC/AAxRN4OWvT+AKikg4SfXPwAJP7kQdeM/4Hxp4jBW6z9Q+MmFqJvxPzAyX5o4jPU/EGz0rsh8+T8AponDWG39P/BvD2z0rgBA4AxadjynAkDQqaSAhJ8EQMBG74rMlwZAuOM5lRSQCECogISfXIgKQJgdz6mkgAxAiLoZtOx4DkDAKzJfmjgQQDh6V2S+NBFAsMh8aeIwEkAoF6JuBi0TQKRlx3MqKRRAHLTseE4lFUCUAhJ+ciEWQAxRN4OWHRdAiJ9ciLoZGEAA7oGN3hUZQHg8p5ICEhpA8IrMlyYOG0Bo2fGcSgocQOAnF6JuBh1AWHY8p5ICHkDYxGGstv4eQFATh7Ha+h9A5DBWW397IEAg2OhdkfkgQFx/e2CjdyFAmCYOY7X1IUDUzaBlx3MiQBB1M2jZ8SJAUBzGautvI0CMw1ht/e0jQMhq628PbCRABBJ+ciHqJEBAuRB1M2glQHxgo3dF5iVAuAc2eldkJkD0rsh8aeImQDBWW397YCdAcP3tgY3eJ0CspICEn1woQOhLE4ex2ihAJPOlicNYKUBgmjiM1dYpQJxBy47nVCpA2OhdkfnSKkAUkPCTC1ErQFQ3g5YdzytAkN4VmS9NLEDMhaibQcssQAgtO55TSS1ARNTNoGXHLUCAe2Cjd0UuQLwi86WJwy5A+MmFqJtBL0A0cRirrb8vQDqM1dbfHjBA2N8e2OhdMEB2M2jZ8ZwwQBSHsdr62zBAstr62wMbMUBQLkTdDFoxQO6Bjd4VmTFAjNXW3x7YMUAsKSDhJxcyQMp8aeIwVjJAaNCy4zmVMkAGJPzkQtQyQKR3ReZLEzNAQsuO51RSM0DgHtjoXZEzQH5yIepm0DNAHMZq628PNEC8GbTseE40QFpt/e2BjTRA+MBG74rMNECWFJDwkws1QDRo2fGcSjVA0rsi86WJNUBwD2z0rsg1QA5jtfW3BzZArLb+9sBGNkBMCkj4yYU2QOpdkfnSxDZAiLHa+tsDN0AmBST85EI3QMRYbf3tgTdAYqy2/vbAN0AAAAAAAAA4QA==\",\"dtype\":\"float64\",\"shape\":[200]},\"yVal_s\":{\"__ndarray__\":\"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\",\"dtype\":\"float64\",\"shape\":[200]}},\"selected\":{\"id\":\"1550\",\"type\":\"Selection\"},\"selection_policy\":{\"id\":\"1551\",\"type\":\"UnionRenderers\"}},\"id\":\"1493\",\"type\":\"ColumnDataSource\"},{\"attributes\":{\"text\":\"Electron wavefunction\"},\"id\":\"1459\",\"type\":\"Title\"},{\"attributes\":{\"active_drag\":\"auto\",\"active_inspect\":\"auto\",\"active_multi\":null,\"active_scroll\":\"auto\",\"active_tap\":\"auto\",\"tools\":[{\"id\":\"1479\",\"type\":\"PanTool\"},{\"id\":\"1480\",\"type\":\"WheelZoomTool\"},{\"id\":\"1481\",\"type\":\"BoxZoomTool\"},{\"id\":\"1482\",\"type\":\"SaveTool\"},{\"id\":\"1483\",\"type\":\"ResetTool\"},{\"id\":\"1484\",\"type\":\"HelpTool\"}]},\"id\":\"1485\",\"type\":\"Toolbar\"},{\"attributes\":{},\"id\":\"1479\",\"type\":\"PanTool\"},{\"attributes\":{},\"id\":\"1543\",\"type\":\"BasicTickFormatter\"},{\"attributes\":{\"high\":3.117931304092257,\"low\":-3.117931304092257,\"palette\":[\"#313695\",\"#4575b4\",\"#74add1\",\"#abd9e9\",\"#e0f3f8\",\"#ffffbf\",\"#fee090\",\"#fdae61\",\"#f46d43\",\"#d73027\",\"#a50026\"]},\"id\":\"1494\",\"type\":\"LinearColorMapper\"},{\"attributes\":{},\"id\":\"1480\",\"type\":\"WheelZoomTool\"},{\"attributes\":{\"callback\":null,\"data\":{\"cVal\":{\"__ndarray__\":\"CQlihH4/s73LAbL3hfEIwLRHuDUPH6g/up5AplaSCMAkAqbIeq+3P3f4k7xwOAjAwRHoAkE1wT/39ONWq+cHwARX/jJ+4cU/Jc8QesyhB8A7KsqdIPjIP9HCQIxmBwjAvoVDcqNC2j+uzSZHidfwv8bnzNyWxwHAXjVMqvkwBEBcZAxxswrwP62CYhcBHOC/Y4uyABAVAMCKKmTFFR4GQGd+3krlGvQ/6urqaAEW0L/iL0m/9CX8vy/xhTmhIAhAJssMeo8g+D8AAAAAAAAAACbLDHqPIPi/L/GFOaEgCMDiL0m/9CX8P+rq6mgBFtA/Z37eSuUa9L+KKmTFFR4GwGOLsgAQFQBArYJiFwEc4D9cZAxxswrwv141TKr5MATAxufM3JbHAUCuzSZHidfwP76FQ3KjQtq/0cJAjGYHCEA7KsqdIPjIvyXPEHrMoQdABFf+Mn7hxb/39ONWq+cHQMER6AJBNcG/d/iTvHA4CEAkAqbIeq+3v7qeQKZWkghAtEe4NQ8fqL/LAbL3hfEIQA==\",\"dtype\":\"float64\",\"shape\":[50]},\"xVal\":{\"__ndarray__\":\"AAAAAAAAOcAAAAAAAAA4wAAAAAAAADfAAAAAAAAANsAAAAAAAAA1wAAAAAAAADTAAAAAAAAAM8AAAAAAAAAywAAAAAAAADHAAAAAAAAAMMAAAAAAAAAuwAAAAAAAACzAAAAAAAAAKsAAAAAAAAAowAAAAAAAACbAAAAAAAAAJMAAAAAAAAAiwAAAAAAAACDAAAAAAAAAHMAAAAAAAAAYwAAAAAAAABTAAAAAAAAAEMAAAAAAAAAIwAAAAAAAAADAAAAAAAAA8L8AAAAAAAAAAAAAAAAAAPA/AAAAAAAAAEAAAAAAAAAIQAAAAAAAABBAAAAAAAAAFEAAAAAAAAAYQAAAAAAAABxAAAAAAAAAIEAAAAAAAAAiQAAAAAAAACRAAAAAAAAAJkAAAAAAAAAoQAAAAAAAACpAAAAAAAAALEAAAAAAAAAuQAAAAAAAADBAAAAAAAAAMUAAAAAAAAAyQAAAAAAAADNAAAAAAAAANEAAAAAAAAA1QAAAAAAAADZAAAAAAAAAN0AAAAAAAAA4QA==\",\"dtype\":\"float64\",\"shape\":[50]},\"yVal\":{\"__ndarray__\":\"AAAAAAAAAAAAAAAAAAAAAAAAAAAAAAAAAAAAAAAAAAAAAAAAAAAAAAAAAAAAAAAAAAAAAAAAAAAAAAAAAAAAAAAAAAAAAAAAAAAAAAAAAAAAAAAAAAAAAAAAAAAAAAAAAAAAAAAAAAAAAAAAAAAAAAAAAAAAAAAAAAAAAAAAAAAAAAAAAAAAAAAAAAAAAAAAAAAAAAAAAAAAAAAAAAAAAAAAAAAAAAAAAAAAAAAAAAAAAAAAAAAAAAAAAAAAAAAAAAAAAAAAAAAAAAAAAAAAAAAAAAAAAAAAAAAAAAAAAAAAAAAAAAAAAAAAAAAAAAAAAAAAAAAAAAAAAAAAAAAAAAAAAAAAAAAAAAAAAAAAAAAAAAAAAAAAAAAAAAAAAAAAAAAAAAAAAAAAAAAAAAAAAAAAAAAAAAAAAAAAAAAAAAAAAAAAAAAAAAAAAAAAAAAAAAAAAAAAAAAAAAAAAAAAAAAAAAAAAAAAAAAAAAAAAAAAAAAAAAAAAAAAAAAAAAAAAAAAAAAAAAAAAAAAAAAAAA==\",\"dtype\":\"float64\",\"shape\":[50]}},\"selected\":{\"id\":\"1548\",\"type\":\"Selection\"},\"selection_policy\":{\"id\":\"1549\",\"type\":\"UnionRenderers\"}},\"id\":\"1492\",\"type\":\"ColumnDataSource\"},{\"attributes\":{},\"id\":\"1545\",\"type\":\"BasicTickFormatter\"},{\"attributes\":{\"overlay\":{\"id\":\"1547\",\"type\":\"BoxAnnotation\"}},\"id\":\"1481\",\"type\":\"BoxZoomTool\"},{\"attributes\":{},\"id\":\"1546\",\"type\":\"BasicTicker\"},{\"attributes\":{},\"id\":\"1482\",\"type\":\"SaveTool\"},{\"attributes\":{\"bottom_units\":\"screen\",\"fill_alpha\":{\"value\":0.5},\"fill_color\":{\"value\":\"lightgrey\"},\"left_units\":\"screen\",\"level\":\"overlay\",\"line_alpha\":{\"value\":1.0},\"line_color\":{\"value\":\"black\"},\"line_dash\":[4,4],\"line_width\":{\"value\":2},\"render_mode\":\"css\",\"right_units\":\"screen\",\"top_units\":\"screen\"},\"id\":\"1547\",\"type\":\"BoxAnnotation\"},{\"attributes\":{},\"id\":\"1483\",\"type\":\"ResetTool\"},{\"attributes\":{\"callback\":null},\"id\":\"1463\",\"type\":\"DataRange1d\"},{\"attributes\":{},\"id\":\"1548\",\"type\":\"Selection\"},{\"attributes\":{},\"id\":\"1484\",\"type\":\"HelpTool\"},{\"attributes\":{\"callback\":null,\"end\":27.500000000000004,\"start\":-27.500000000000004},\"id\":\"1461\",\"type\":\"Range1d\"},{\"attributes\":{},\"id\":\"1549\",\"type\":\"UnionRenderers\"},{\"attributes\":{},\"id\":\"1465\",\"type\":\"LinearScale\"},{\"attributes\":{},\"id\":\"1541\",\"type\":\"BasicTickFormatter\"},{\"attributes\":{},\"id\":\"1550\",\"type\":\"Selection\"},{\"attributes\":{},\"id\":\"1551\",\"type\":\"UnionRenderers\"},{\"attributes\":{},\"id\":\"1467\",\"type\":\"LinearScale\"},{\"attributes\":{\"fill_color\":{\"field\":\"cVal\",\"transform\":{\"id\":\"1494\",\"type\":\"LinearColorMapper\"}},\"line_color\":{\"field\":\"cVal\",\"transform\":{\"id\":\"1494\",\"type\":\"LinearColorMapper\"}},\"size\":{\"units\":\"screen\",\"value\":6},\"x\":{\"field\":\"xVal\"},\"y\":{\"field\":\"yVal\"}},\"id\":\"1496\",\"type\":\"Circle\"},{\"attributes\":{\"formatter\":{\"id\":\"1543\",\"type\":\"BasicTickFormatter\"},\"ticker\":{\"id\":\"1470\",\"type\":\"BasicTicker\"}},\"id\":\"1469\",\"type\":\"LinearAxis\"},{\"attributes\":{\"fill_alpha\":{\"value\":0.1},\"fill_color\":{\"value\":\"#1f77b4\"},\"line_alpha\":{\"value\":0.1},\"line_color\":{\"value\":\"#1f77b4\"},\"size\":{\"units\":\"screen\",\"value\":6},\"x\":{\"field\":\"xVal\"},\"y\":{\"field\":\"yVal\"}},\"id\":\"1497\",\"type\":\"Circle\"},{\"attributes\":{},\"id\":\"1470\",\"type\":\"BasicTicker\"},{\"attributes\":{\"source\":{\"id\":\"1492\",\"type\":\"ColumnDataSource\"}},\"id\":\"1499\",\"type\":\"CDSView\"},{\"attributes\":{\"ticker\":{\"id\":\"1470\",\"type\":\"BasicTicker\"}},\"id\":\"1473\",\"type\":\"Grid\"},{\"attributes\":{\"color_mapper\":{\"id\":\"1494\",\"type\":\"LinearColorMapper\"},\"formatter\":{\"id\":\"1545\",\"type\":\"BasicTickFormatter\"},\"location\":[150,0],\"orientation\":\"horizontal\",\"ticker\":{\"id\":\"1546\",\"type\":\"BasicTicker\"},\"width\":300},\"id\":\"1505\",\"type\":\"ColorBar\"},{\"attributes\":{\"formatter\":{\"id\":\"1541\",\"type\":\"BasicTickFormatter\"},\"ticker\":{\"id\":\"1475\",\"type\":\"BasicTicker\"}},\"id\":\"1474\",\"type\":\"LinearAxis\"},{\"attributes\":{\"line_color\":\"red\",\"x\":{\"field\":\"xVal_s\"},\"y\":{\"field\":\"yVal_s\"}},\"id\":\"1501\",\"type\":\"Line\"},{\"attributes\":{},\"id\":\"1475\",\"type\":\"BasicTicker\"}],\"root_ids\":[\"1458\"]},\"title\":\"Bokeh Application\",\"version\":\"1.4.0\"}};\n",
       "  var render_items = [{\"docid\":\"83736a80-d033-4a82-856a-fd65d993a5f2\",\"notebook_comms_target\":\"1624\",\"roots\":{\"1458\":\"4ffe0bfc-e14d-48c9-beee-1e2f284a41de\"}}];\n",
       "  root.Bokeh.embed.embed_items_notebook(docs_json, render_items);\n",
       "\n",
       "  }\n",
       "  if (root.Bokeh !== undefined) {\n",
       "    embed_document(root);\n",
       "  } else {\n",
       "    var attempts = 0;\n",
       "    var timer = setInterval(function(root) {\n",
       "      if (root.Bokeh !== undefined) {\n",
       "        clearInterval(timer);\n",
       "        embed_document(root);\n",
       "      } else {\n",
       "        attempts++;\n",
       "        if (attempts > 100) {\n",
       "          clearInterval(timer);\n",
       "          console.log(\"Bokeh: ERROR: Unable to run BokehJS code because BokehJS library is missing\");\n",
       "        }\n",
       "      }\n",
       "    }, 10, root)\n",
       "  }\n",
       "})(window);"
      ],
      "application/vnd.bokehjs_exec.v0+json": ""
     },
     "metadata": {
      "application/vnd.bokehjs_exec.v0+json": {
       "id": "1458"
      }
     },
     "output_type": "display_data"
    }
   ],
   "source": [
    "show(wavefunc_t, notebook_handle = True);"
   ]
  },
  {
   "cell_type": "code",
   "execution_count": 14,
   "metadata": {},
   "outputs": [
    {
     "data": {
      "application/vnd.jupyter.widget-view+json": {
       "model_id": "9f7db5b111f044a0963cc1e3ec4eada6",
       "version_major": 2,
       "version_minor": 0
      },
      "text/plain": [
       "interactive(children=(FloatSlider(value=0.0, description='time', max=499.8), Output()), _dom_classes=('widget-…"
      ]
     },
     "metadata": {},
     "output_type": "display_data"
    }
   ],
   "source": [
    "interact(update, time = ipw.FloatSlider(min = 0, max = (endt-2)*dt, step = dt, value = 0));"
   ]
  },
  {
   "cell_type": "markdown",
   "metadata": {},
   "source": [
    "# Questions\n",
    "\n",
    "When answering the following questions, please think of the answer first and then modify and run the code\n",
    "\n",
    "- What happens upon changing the sign of $k_0$?\n",
    "- Explain the behavior of wavepacket when $k_0 = 0$.\n",
    "- Explain the changes of the wavepacket at sufficient large $t$.  \n",
    "- How does the evolution of the wavepacket change if periodic boundary condition are removed (i.e. break the bond between sites 1 and $N$)?\n",
    "- What happens if a different on-siter energy $E$ is set for one of the sites?"
   ]
  },
  {
   "cell_type": "code",
   "execution_count": null,
   "metadata": {},
   "outputs": [],
   "source": [
    "# # This animation is not functioning due to the current incompatibility between bokeh and tornado, should be resolved in furture updates.\n",
    "\n",
    "# def auto_update():\n",
    "#     global time;\n",
    "#     source_tt.data['cVal'] = np.squeeze(phis[t])\n",
    "#     source_tt.data['yVal'] = interp1d(lattice,np.squeeze(rhos[t]), kind = 'cubic')\n",
    "#     source_tt.trigger('data', source_tt.data, source_tt.data)\n",
    "#     if time < endt.size - 1:\n",
    "#         time = time + 1\n",
    "#     else:\n",
    "#         time = 0\n",
    "#         source_tt.data['cVal'] = np.squeeze(phis[0])\n",
    "#         source_tt.data['yVal'] = interp1d(lattice,np.squeeze(rhos[0]), kind = 'cubic')"
   ]
  },
  {
   "cell_type": "code",
   "execution_count": null,
   "metadata": {},
   "outputs": [],
   "source": [
    "# # This animation is not functioning due to the current incompatibility between bokeh and tornado, should be resolved in furture updates.\n",
    "\n",
    "# session = push_session(curdoc())\n",
    "# time = 0; # set initial frame\n",
    "# source_tt = ColumnDataSource(data = {'xVal': lattx, 'yVal' : rhos[0], 'cVal': np.zeros(lattx.size)})\n",
    "# wavefunc_tt = figure(plot_height=300, plot_width=700, title=\"Evolution of electron wavefunction\",x_range=[-1.1*a*M,1.1*a*M]);\n",
    "\n",
    "# mapper = linear_cmap(field_name = 'cVal', palette = Spectral6, low = 0, high = 1);\n",
    "# wavefunc_tt.line(x = 'xVal', y = 'yVal', source = source_tt, line_color = 'red');\n",
    "# wavefunc_tt.circle('xPos','yPos',source = source4, size = 10, line_color = mapper, fill_color = mapper);\n",
    "\n",
    "# curdoc().add_periodic_callback(auto_update, 67)\n",
    "\n",
    "# session.show()\n",
    "# session.loop_until_closed()"
   ]
  },
  {
   "cell_type": "code",
   "execution_count": null,
   "metadata": {},
   "outputs": [],
   "source": []
  }
 ],
 "metadata": {
  "kernelspec": {
   "display_name": "Python 3",
   "language": "python",
   "name": "python3"
  },
  "language_info": {
   "codemirror_mode": {
    "name": "ipython",
    "version": 3
   },
   "file_extension": ".py",
   "mimetype": "text/x-python",
   "name": "python",
   "nbconvert_exporter": "python",
   "pygments_lexer": "ipython3",
   "version": "3.6.9"
  }
 },
 "nbformat": 4,
 "nbformat_minor": 4
}
