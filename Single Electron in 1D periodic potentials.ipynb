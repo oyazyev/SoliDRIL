{
 "cells": [
  {
   "cell_type": "code",
   "execution_count": null,
   "metadata": {},
   "outputs": [],
   "source": [
    "import numpy as np\n",
    "import pandas as pd\n",
    "import ipywidgets as ipw\n",
    "\n",
    "from scipy.interpolate import interp1d\n",
    "from scipy.linalg import expm\n",
    "from bokeh.palettes import RdYlBu11\n",
    "from bokeh.transform import linear_cmap\n",
    "from bokeh.io import push_notebook, output_notebook, show\n",
    "from bokeh.layouts import row, column\n",
    "from bokeh.plotting import figure, curdoc\n",
    "from bokeh.models import ColumnDataSource, ColorBar, BasicTickFormatter, BasicTicker, FixedTicker, FuncTickFormatter\n",
    "from bokeh.client import push_session\n",
    "\n",
    "from ipywidgets import interact\n",
    "\n",
    "import matplotlib.pyplot as plt\n",
    "import matplotlib.animation as anim\n",
    "output_notebook()"
   ]
  },
  {
   "cell_type": "markdown",
   "metadata": {},
   "source": [
    "# Wavepacket construction and propagation along the 1D chain \n",
    "\n",
    "## Introduction\n",
    "In this notebook, we demonstrate the wavepacket construction and propagation, which is at the heart of the semiclassical approximation. For simplicty, we will consider the familiar 1D chain described using the tight-binding Hamiltonian. We will have to take a sufficiently large number of sites $N$ and impose periodic boundary conditions. For simplicity, in the code below we assume lattice constant $a = 1$.\n"
   ]
  },
  {
   "cell_type": "code",
   "execution_count": null,
   "metadata": {},
   "outputs": [],
   "source": [
    "N = 50; # Number of atomic sites\n",
    "M = int((N)/2); # Number of atomic sites on each side of the origin\n",
    "a = 1.0 # Real space distance between each site\n",
    "lattx = np.arange(-a*M,a*M,a); # \n",
    "latty = np.zeros(lattx.size);\n",
    "lattice = figure(plot_height=100, plot_width=700, title=\"1D atomic chain\",x_range=[-1.1*a*M,1.1*a*M]);\n",
    "source1 = ColumnDataSource(data = {'xVal': lattx, 'yVal': latty});\n",
    "lattice.circle('xVal','yVal',source = source1, size = 6, line_color = 'black', fill_color = 'black');\n",
    "lattice.xaxis.axis_label = 'r (a)';\n",
    "show(lattice)"
   ]
  },
  {
   "cell_type": "markdown",
   "metadata": {},
   "source": [
    "## Eigenvalues\n",
    "The solution for the 1D chain with one atom per unit cell is known since the previous lectures:\n",
    "\n",
    "$$ E(k) = -2\\gamma \\cos (ka) $$\n",
    "\n",
    "The plot below reproduces the corresponsing band structure. Each of the $N$ points on the band corresponds to an eigenvalue of the $N$-site chain with periodic boundary (Born-von karman) condition $\\psi(r) = \\psi(r + Na)$. We will also assume $\\gamma = -1$ in the code for simplicity."
   ]
  },
  {
   "cell_type": "code",
   "execution_count": null,
   "metadata": {},
   "outputs": [],
   "source": [
    "k0 = 2*np.pi/(N*a); # Calculate the smallest allowed k-vector\n",
    "k = np.linspace(-M*k0,(M-1)*k0,N);\n",
    "energy = -2*np.cos(k);"
   ]
  },
  {
   "cell_type": "code",
   "execution_count": null,
   "metadata": {},
   "outputs": [],
   "source": [
    "# Calcualte resulting dispersion relation using periodic boundary condition (PC)\n",
    "band = figure(plot_height = 400, plot_width = 700, title='Band structure of the 1D chain and the eigenvalues of the N-site chain', x_range = [-1.1*k0*M/np.pi,1.1*k0*M/np.pi], y_range= [1.2*energy.min(),1.2*energy.max()]);\n",
    "source2 = ColumnDataSource(data = {'xVal': k/np.pi, 'yVal' : energy});\n",
    "band.circle('xVal','yVal',source = source2,size = 6);\n",
    "band.line('xVal','yVal',source = source2);\n",
    "band.xaxis.axis_label='k ( \\u03c0 / a )';\n",
    "band.yaxis.axis_label='Energy/|gamma|';\n",
    "show(band)"
   ]
  },
  {
   "cell_type": "code",
   "execution_count": null,
   "metadata": {},
   "outputs": [],
   "source": [
    "# define the initial wavefunction (with an artificial Gaussian dist. in k-space)\n",
    "sigm = 3.0*k0; # Distribution width\n",
    "kk0 = 12.0*k0; # Distribution center\n",
    "kk = np.linspace(-M*k0,(M-1)*k0, 200); # Create a smoother grid for illustration purpose\n",
    "phi_k0 = 1/(np.sqrt(2.0*np.pi)*sigm)*np.exp(-1/2*( (kk-kk0)/sigm )**2);"
   ]
  },
  {
   "cell_type": "code",
   "execution_count": null,
   "metadata": {},
   "outputs": [],
   "source": [
    "# Initialize an electron at the center of the 1D chain with a gaussian distribution to indicates its probability density\n",
    "dist0 = figure(plot_height = 400, plot_width = 700, title='Initial wavefunction in real space', x_range = [-1.1*k0*M/np.pi,1.1*k0*M/np.pi], y_range= [1.2*energy.min(),1.2*energy.max()]);\n",
    "source3 = ColumnDataSource(data = {'xVal': kk/np.pi, 'yVal': phi_k0/phi_k0.max()});\n",
    "dist0.line('xVal','yVal', source = source3, line_color = 'red');\n",
    "dist0.circle('xVal','yVal',source = source2, size = 6, line_color = 'black', fill_color = 'black');\n",
    "dist0.xaxis.axis_label='k-space distance (arb. unit)';\n",
    "dist0.yaxis.axis_label='Probability density';\n",
    "show(dist0)"
   ]
  },
  {
   "cell_type": "code",
   "execution_count": null,
   "metadata": {},
   "outputs": [],
   "source": [
    "# Construct hamiltonian using occupation number basis and set initial wavefunction\n",
    "asd = np.zeros((N-1,N-1),complex);\n",
    "np.fill_diagonal(asd,-1);\n",
    "b = np.append(asd,np.zeros((N-1,1),complex), axis = 1);\n",
    "c = np.append(np.zeros((1,N),complex),b,axis = 0);\n",
    "hamil = c + np.transpose(c);\n",
    "np.fill_diagonal(hamil,0);\n",
    "psi0 = np.zeros((N,1),complex);\n",
    "rho0 = np.zeros((N,1), float);\n",
    "\n",
    "phi_k0 = 1/(np.sqrt(2*np.pi)*sigm)*np.exp(-1/2*( (k-kk0)/sigm )**2); # Calculate the initial wavefunction using really k points ('k' instead of 'kk').\n",
    "for nn in range(0,psi0.size):\n",
    "    psi_temp = 0.0;\n",
    "    for kn in range(k.size):\n",
    "        psi_temp = psi_temp + phi_k0[kn]*np.exp(-1j*(k[kn]*(nn-M)*a));\n",
    "    psi0[nn] = psi_temp;\n",
    "    rho0[nn] = np.abs(psi0[nn]);\n",
    "\n",
    "hamil[N-1][0] = -1; #Apply periodic boundry condition\n",
    "hamil[0][N-1] = -1;"
   ]
  },
  {
   "cell_type": "code",
   "execution_count": null,
   "metadata": {},
   "outputs": [],
   "source": [
    "# Define time evolution operator\n",
    "dt = 0.1; # Define time step (has to be small if using asymptotic exponential for evolution operator)\n",
    "endt = 5000;\n",
    "\n",
    "# Option 1: Use first order Taylor expansion to approximate the evolution operator\n",
    "diaganol = np.ones(N);\n",
    "evol = np.diag(diaganol)+1.j*hamil*dt; # first order Taylor expansion\n",
    "\n",
    "## Option 2: Use Pade approximation in scipy package to approximate the evolution operator\n",
    "# evol = expm(1.j*hamil*dt);\n",
    "\n",
    "ts = np.arange(0,endt*dt,dt);\n",
    "psis = np.empty(ts.size,dtype = object); # Initiate a container for the wavefunctions at different time slice\n",
    "phis = np.empty(ts.size,dtype = object); # Initiate a container for the phase at different time slice\n",
    "rhos = np.empty(ts.size,dtype = object); # Initiate a container for the probability density at different time slice\n",
    "psis[0]=psi0;\n",
    "for ii in range(0,ts.size-1):\n",
    "    psis[ii+1] = np.dot(evol,psis[ii]);\n",
    "for ii in range(0,ts.size-1):\n",
    "    phis[ii] = np.angle((psis[ii]));\n",
    "    rhos[ii] = np.abs(psis[ii]);"
   ]
  },
  {
   "cell_type": "code",
   "execution_count": null,
   "metadata": {},
   "outputs": [],
   "source": [
    "# Plot the phase of the wavefunction at time = t*dt\n",
    "t = 0;\n",
    "phi_t = np.squeeze(phis[t]);\n",
    "rho_t = interp1d(lattx,np.squeeze(rhos[t]), kind = 'cubic');\n",
    "wavefunc_t = figure(plot_height=300, plot_width=700, title=\"Electron wavefunction\",x_range=[-1.1*a*M,1.1*a*M]);\n",
    "source4 = ColumnDataSource(data = {'xVal': lattx, 'yVal' : latty, 'cVal': phi_t});\n",
    "lattx_smooth = np.linspace(-a*M,a*(M-1),num = 200, endpoint = True);\n",
    "source5 = ColumnDataSource(data = {'xVal_s': lattx_smooth, 'yVal_s': rho_t(lattx_smooth)/rho_t(lattx_smooth).max()});\n",
    "\n",
    "#phis_smooth = np.empty(ts.size,dtype = object); # Initiate a container for the phase at different time slice\n",
    "#for ii in range(0,ts.size-1): # Option 1: use smoothed curve to show phase variation\n",
    "#    phis_smooth[ii] = interp1d(lattx,np.squeeze(phis[ii]), kind = 'cubic');\n",
    "#wavefunc_t.line('xVal','yVal', source = source4); \n",
    "\n",
    "mapper = linear_cmap(field_name = 'cVal', palette = RdYlBu11, low = min(phi_t), high = max(phi_t));\n",
    "wavefunc_t.circle('xVal','yVal',source = source4, size = 6, line_color = mapper, fill_color = mapper);\n",
    "wavefunc_t.line('xVal_s','yVal_s',source = source5, line_color = 'red');\n",
    "color_bar = ColorBar(color_mapper = mapper['transform'], width = 300, location = (150,0), orientation = \"horizontal\");\n",
    "wavefunc_t.add_layout(color_bar, 'below');\n",
    "show(wavefunc_t)"
   ]
  },
  {
   "cell_type": "code",
   "execution_count": null,
   "metadata": {},
   "outputs": [],
   "source": [
    "def update(time):\n",
    "    time = int(time/dt);\n",
    "    rho_t = interp1d(lattx,np.squeeze(rhos[time]), kind = 'cubic');\n",
    "    source4.data['cVal'] = np.squeeze(phis[time]);\n",
    "    source5.data['yVal_s'] = rho_t(lattx_smooth)/rho_t(lattx_smooth).max();\n",
    "    \n",
    "    push_notebook(handle = handle)"
   ]
  },
  {
   "cell_type": "code",
   "execution_count": null,
   "metadata": {},
   "outputs": [],
   "source": [
    "handle = show(wavefunc_t, notebook_handle = True);"
   ]
  },
  {
   "cell_type": "code",
   "execution_count": null,
   "metadata": {},
   "outputs": [],
   "source": [
    "interact(update, time = ipw.FloatSlider(min = 0, max = (endt-2)*dt, step = dt, value = 0));"
   ]
  },
  {
   "cell_type": "markdown",
   "metadata": {},
   "source": [
    "# Questions\n",
    "\n",
    "When answering the following questions, please think of the answer first and then modify and run the code\n",
    "\n",
    "- What happens upon changing the sign of $k_0$?\n",
    "- Explain the behavior of wavepacket when $k_0 = 0$.\n",
    "- Explain the changes of the wavepacket at sufficient large $t$.  \n",
    "- How does the evolution of the wavepacket change if periodic boundary condition are removed (i.e. break the bond between sites 1 and $N$)?\n",
    "- What happens if a different on-siter energy $E$ is set for one of the sites?"
   ]
  },
  {
   "cell_type": "code",
   "execution_count": null,
   "metadata": {},
   "outputs": [],
   "source": [
    "# # This animation is not functioning due to the current incompatibility between bokeh and tornado, should be resolved in furture updates.\n",
    "\n",
    "# def auto_update():\n",
    "#     global time;\n",
    "#     source_tt.data['cVal'] = np.squeeze(phis[t])\n",
    "#     source_tt.data['yVal'] = interp1d(lattice,np.squeeze(rhos[t]), kind = 'cubic')\n",
    "#     source_tt.trigger('data', source_tt.data, source_tt.data)\n",
    "#     if time < endt.size - 1:\n",
    "#         time = time + 1\n",
    "#     else:\n",
    "#         time = 0\n",
    "#         source_tt.data['cVal'] = np.squeeze(phis[0])\n",
    "#         source_tt.data['yVal'] = interp1d(lattice,np.squeeze(rhos[0]), kind = 'cubic')"
   ]
  },
  {
   "cell_type": "code",
   "execution_count": null,
   "metadata": {},
   "outputs": [],
   "source": [
    "# # This animation is not functioning due to the current incompatibility between bokeh and tornado, should be resolved in furture updates.\n",
    "\n",
    "# session = push_session(curdoc())\n",
    "# time = 0; # set initial frame\n",
    "# source_tt = ColumnDataSource(data = {'xVal': lattx, 'yVal' : rhos[0], 'cVal': np.zeros(lattx.size)})\n",
    "# wavefunc_tt = figure(plot_height=300, plot_width=700, title=\"Evolution of electron wavefunction\",x_range=[-1.1*a*M,1.1*a*M]);\n",
    "\n",
    "# mapper = linear_cmap(field_name = 'cVal', palette = Spectral6, low = 0, high = 1);\n",
    "# wavefunc_tt.line(x = 'xVal', y = 'yVal', source = source_tt, line_color = 'red');\n",
    "# wavefunc_tt.circle('xPos','yPos',source = source4, size = 10, line_color = mapper, fill_color = mapper);\n",
    "\n",
    "# curdoc().add_periodic_callback(auto_update, 67)\n",
    "\n",
    "# session.show()\n",
    "# session.loop_until_closed()"
   ]
  },
  {
   "cell_type": "code",
   "execution_count": null,
   "metadata": {},
   "outputs": [],
   "source": []
  }
 ],
 "metadata": {
  "kernelspec": {
   "display_name": "Python 3",
   "language": "python",
   "name": "python3"
  },
  "language_info": {
   "codemirror_mode": {
    "name": "ipython",
    "version": 3
   },
   "file_extension": ".py",
   "mimetype": "text/x-python",
   "name": "python",
   "nbconvert_exporter": "python",
   "pygments_lexer": "ipython3",
   "version": "3.7.9"
  }
 },
 "nbformat": 4,
 "nbformat_minor": 4
}
