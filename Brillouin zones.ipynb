{
 "cells": [
  {
   "cell_type": "code",
   "execution_count": null,
   "metadata": {},
   "outputs": [],
   "source": [
    "import numpy as np\n",
    "from bokeh.plotting import figure, show\n",
    "from bokeh.layouts import grid, column, row\n",
    "from bokeh.io import output_notebook\n",
    "from bokeh.models import Span, Arrow, VeeHead\n",
    "output_notebook()"
   ]
  },
  {
   "cell_type": "markdown",
   "metadata": {},
   "source": [
    "# Brillouin zones of the two-dimensional square lattice\n",
    "\n",
    "This notebook demonstrates construction of the first three Brillouin zones of square lattice"
   ]
  },
  {
   "cell_type": "code",
   "execution_count": null,
   "metadata": {},
   "outputs": [],
   "source": [
    "# Constructing real space lattice\n",
    "a1 = np.array([0,2]);\n",
    "a2 = np.array([2,0]);\n",
    "N = 3;\n",
    "x = range(-N, N+1)*np.linalg.norm(a1);\n",
    "y = range(-N, N+1)*np.linalg.norm(a2);\n",
    "xg,yg = np.meshgrid(x,y);"
   ]
  },
  {
   "cell_type": "code",
   "execution_count": null,
   "metadata": {},
   "outputs": [],
   "source": [
    "# Constructing reciprocal space lattice\n",
    "b1 = np.array([0,2*np.pi / a1[1]]);\n",
    "b2 = np.array([2*np.pi / a2[0],0]);\n",
    "N = 3;\n",
    "xx = range(-N, N+1)*np.linalg.norm(b1);\n",
    "yy = range(-N, N+1)*np.linalg.norm(b2);\n",
    "xxg,yyg = np.meshgrid(xx,yy);"
   ]
  },
  {
   "cell_type": "code",
   "execution_count": null,
   "metadata": {},
   "outputs": [],
   "source": [
    "real = figure(title = \"Real space lattice\", tools = \"\", x_range = [-10, 10], y_range = [-10, 10], plot_width = 400, plot_height = 400);\n",
    "real.circle(xg.flatten(),yg.flatten(),size = 10,fill_color = \"blue\",line_color = None,line_width = 3);"
   ]
  },
  {
   "cell_type": "code",
   "execution_count": null,
   "metadata": {},
   "outputs": [],
   "source": [
    "img = figure(title = \"Reciprocal space lattice\", tools = \"\", x_range = [-10, 10], y_range = [-10, 10], plot_width = 400, plot_height = 400);\n",
    "img.circle(xxg.flatten(),yyg.flatten(),size = 10,fill_color = \"red\", line_color = None,line_width = 3);"
   ]
  },
  {
   "cell_type": "code",
   "execution_count": null,
   "metadata": {},
   "outputs": [],
   "source": [
    "# plot the real and reciprocal lattice\n",
    "show(row(real,img))"
   ]
  },
  {
   "cell_type": "markdown",
   "metadata": {},
   "source": [
    "# Constrution of the first Brillouin zone\n",
    "\n",
    "#### The first Brillouin zone is the Wigner-Seitz cell of the reciprocal lattice. Hence, to construct it one must:\n",
    "#### 1. Draw the vectors from the origin to the nearest reciprocal lattice points"
   ]
  },
  {
   "cell_type": "code",
   "execution_count": null,
   "metadata": {},
   "outputs": [],
   "source": [
    "# draw the reciprocal lattice vectors from the origin to the nearest neighbour \n",
    "vec1 = img.multi_line([[b1[1], -b1[1]], [0, 0]],[[0, 0], [b2[0], -b2[0]]], line_width = 2, line_color = \"black\");\n",
    "arrow1 = Arrow(end = VeeHead(size = 10), x_start=0, y_start=0, x_end=b2[0], y_end=0);\n",
    "arrow2 = Arrow(end = VeeHead(size = 10), x_start=0, y_start=0, x_end=-b2[0], y_end=0);\n",
    "arrow3 = Arrow(end = VeeHead(size = 10), x_start=0, y_start=0, x_end=0, y_end=b1[1]);\n",
    "arrow4 = Arrow(end = VeeHead(size = 10), x_start=0, y_start=0, x_end=0, y_end=-b1[1]);\n",
    "img.add_layout(arrow1);\n",
    "img.add_layout(arrow2);\n",
    "img.add_layout(arrow3);\n",
    "img.add_layout(arrow4);\n",
    "show(row(real, img))"
   ]
  },
  {
   "cell_type": "markdown",
   "metadata": {},
   "source": [
    "#### 2. Draw the Bragg plane bisecting these vectors. Any point on these bisectors will be as close to the origin as it is to the respective nearest reciprocal lattice point."
   ]
  },
  {
   "cell_type": "code",
   "execution_count": null,
   "metadata": {},
   "outputs": [],
   "source": [
    "# constructing bragg planes (bisecting the reciprocal vectors drawn in the previous step)\n",
    "bgp1 = Span(location = b2[0]/2, dimension = \"height\", line_dash=\"dashed\");\n",
    "bgp2 = Span(location = -b2[0]/2, dimension = \"height\", line_dash=\"dashed\");\n",
    "bgp3 = Span(location = b1[1]/2, dimension = \"width\", line_dash=\"dashed\");\n",
    "bgp4 = Span(location = -b1[1]/2, dimension = \"width\", line_dash=\"dashed\");\n",
    "bragg1 = img.renderers.extend([bgp1,bgp2,bgp3,bgp4]);\n",
    "show(row(real, img))"
   ]
  },
  {
   "cell_type": "markdown",
   "metadata": {},
   "source": [
    "#### 3. Hence the first Brillouin zone will be the area defined by the intersection of these bisectors."
   ]
  },
  {
   "cell_type": "code",
   "execution_count": null,
   "metadata": {},
   "outputs": [],
   "source": [
    "# Color the first Brillouin zone, which is the Wigner-Seitz unit cell in the reciprocal lattice\n",
    "bz1 = img.patch([b2[0]/2, b2[0]/2, -b2[0]/2, -b2[0]/2, b2[0]/2],[b1[1]/2, -b1[1]/2, -b1[1]/2, b1[1]/2, b1[1]/2],line_width = 2, color = \"red\");\n",
    "show(row(real,img))"
   ]
  },
  {
   "cell_type": "code",
   "execution_count": null,
   "metadata": {},
   "outputs": [],
   "source": [
    "# hide the first brillouin zone elements\n",
    "vec1.visible = False;\n",
    "arrow1.visible = False;\n",
    "arrow2.visible = False;\n",
    "arrow3.visible = False;\n",
    "arrow4.visible = False;\n",
    "bz1.visible = False;"
   ]
  },
  {
   "cell_type": "markdown",
   "metadata": {},
   "source": [
    "# Constrution of the 1st+2nd Brillouin zones\n",
    "\n",
    "#### The second (or n-th) Brillouin zone is defined as set of points having one (or n-1) Bragg plane between it and the origin\n",
    "#### To draw the second plane, we repeat the above process for the second nearest neighbours "
   ]
  },
  {
   "cell_type": "code",
   "execution_count": null,
   "metadata": {},
   "outputs": [],
   "source": [
    "# draw the reciprocal lattice vectors from the origin to the next nearst neighbours\n",
    "vec2 = img.multi_line([[-b2[0], b2[0]], [-b1[1], b1[1]]],[[b2[0], -b2[0]], [-b1[1], b1[1]]], line_width = 2, line_color = \"black\");\n",
    "arrow1 = Arrow(end = VeeHead(size = 10), x_start=0, y_start=0, x_end=b2[0], y_end=b1[1]);\n",
    "arrow2 = Arrow(end = VeeHead(size = 10), x_start=0, y_start=0, x_end=-b2[0], y_end=-b1[1]);\n",
    "arrow3 = Arrow(end = VeeHead(size = 10), x_start=0, y_start=0, x_end=-b2[0], y_end=b1[1]);\n",
    "arrow4 = Arrow(end = VeeHead(size = 10), x_start=0, y_start=0, x_end=b2[0], y_end=-b1[1]);\n",
    "img.add_layout(arrow1);\n",
    "img.add_layout(arrow2);\n",
    "img.add_layout(arrow3);\n",
    "img.add_layout(arrow4);\n",
    "show(row(real, img))"
   ]
  },
  {
   "cell_type": "code",
   "execution_count": null,
   "metadata": {},
   "outputs": [],
   "source": [
    "# construct bragg planes for the second brillouin zone\n",
    "bragg2 = img.ray(x = [-b2[0], b2[0], b2[1], b2[1], -b2[0], b2[0], b2[1], b2[1]], y = [b1[0], b1[0], -b1[1], b1[1], b1[0], b1[0], -b1[1], b1[1]], length = 0, angle = [45, -135, 135, -45, -135, 45, -45, 135], angle_units = \"deg\", color = \"black\", line_width = 1, line_dash = \"dashed\");\n",
    "bragg2.level = \"annotation\";\n",
    "show(row(real, img))"
   ]
  },
  {
   "cell_type": "code",
   "execution_count": null,
   "metadata": {},
   "outputs": [],
   "source": [
    "# Color both the first and second brillouin zones\n",
    "bz2 = img.patch([b2[1], b2[0], b2[1], -b2[0], b2[1]],[b1[1], b1[0], -b1[1], b1[0], b1[1]], line_width = 2);\n",
    "show(row(real, img))"
   ]
  },
  {
   "cell_type": "code",
   "execution_count": null,
   "metadata": {},
   "outputs": [],
   "source": [
    "# hide the elements of the first and second brillouin zones\n",
    "bz2.visible = False;\n",
    "arrow1.visible = False;\n",
    "arrow2.visible = False;\n",
    "arrow3.visible = False;\n",
    "arrow4.visible = False;\n",
    "vec2.visible = False;"
   ]
  },
  {
   "cell_type": "markdown",
   "metadata": {},
   "source": [
    "# Constrution of the 1st+2nd+3rd Brillouin zones\n",
    "#### Repeating for 3rd nearest neighbours allows us to construct 3rd Brillouin zone"
   ]
  },
  {
   "cell_type": "code",
   "execution_count": null,
   "metadata": {},
   "outputs": [],
   "source": [
    "# draw the reciprocal lattice vectors from the origin to the next next nearst neighbours\n",
    "vec3 = img.multi_line([[2*b1[1], -2*b1[1]], [0, 0]],[[0, 0], [2*b2[0], -2*b2[0]]], line_width = 2, line_color = \"black\");\n",
    "arrow1 = Arrow(end = VeeHead(size = 10), x_start=0, y_start=0, x_end=2*b2[0], y_end=0);\n",
    "arrow2 = Arrow(end = VeeHead(size = 10), x_start=0, y_start=0, x_end=-2*b2[0], y_end=0);\n",
    "arrow3 = Arrow(end = VeeHead(size = 10), x_start=0, y_start=0, x_end=0, y_end=2*b1[1]);\n",
    "arrow4 = Arrow(end = VeeHead(size = 10), x_start=0, y_start=0, x_end=0, y_end=-2*b1[1]);\n",
    "img.add_layout(arrow1);\n",
    "img.add_layout(arrow2);\n",
    "img.add_layout(arrow3);\n",
    "img.add_layout(arrow4);\n",
    "show(row(real,img))"
   ]
  },
  {
   "cell_type": "code",
   "execution_count": null,
   "metadata": {},
   "outputs": [],
   "source": [
    "# construct bragg planes for the third brillouin zone\n",
    "bgp1 = Span(location = b2[0], dimension = \"height\", line_dash=\"dashed\");\n",
    "bgp2 = Span(location = -b2[0], dimension = \"height\", line_dash=\"dashed\");\n",
    "bgp3 = Span(location = b1[1], dimension = \"width\", line_dash=\"dashed\");\n",
    "bgp4 = Span(location = -b1[1], dimension = \"width\", line_dash=\"dashed\");\n",
    "bragg3 = img.renderers.extend([bgp1,bgp2,bgp3,bgp4]);\n",
    "show(row(real, img))"
   ]
  },
  {
   "cell_type": "markdown",
   "metadata": {},
   "source": [
    "#### Note, however, that the zone is not defined just as an intersection of the newly constructed bisectors. If you check any point in the 4 squares we left out from the intersection, the line connecting the point and the origin goes throw more than 2 Bragg planes. Hence, one must be careful with higher order zones and have all the earlier Bragg planes drawn to decide where the zone lies"
   ]
  },
  {
   "cell_type": "code",
   "execution_count": null,
   "metadata": {},
   "outputs": [],
   "source": [
    "# color the third (along with the first and second) brillouin zones\n",
    "bz3 = img.patches([[-b2[0], -b2[0], b2[0], b2[0]],[-b2[0]/2, -b2[0]/2, b2[0]/2, b2[0]/2]], [[-b1[1]/2, b1[1]/2, b1[1]/2, -b1[1]/2], [-b1[1], b1[1], b1[1], -b1[1]]], line_width = 2, color = \"indigo\");\n",
    "show(row(real,img))"
   ]
  },
  {
   "cell_type": "markdown",
   "metadata": {},
   "source": [
    "# Show all three Brillouin zones together"
   ]
  },
  {
   "cell_type": "code",
   "execution_count": null,
   "metadata": {},
   "outputs": [],
   "source": [
    "# overlay all three Brillouin zones along with the bragg planes\n",
    "bz3.visible = True;\n",
    "bz3.level = \"underlay\";\n",
    "bz2.visible = True;\n",
    "bz2.level = \"glyph\";\n",
    "bz1.visible = True;\n",
    "bz1.level = \"overlay\";\n",
    "vec3.visible = False;\n",
    "arrow1.visible = False;\n",
    "arrow2.visible = False;\n",
    "arrow3.visible = False;\n",
    "arrow4.visible = False;\n",
    "show(row(real, img))"
   ]
  },
  {
   "cell_type": "markdown",
   "metadata": {},
   "source": [
    "# Questions\n",
    "\n",
    "- What are the 1st, 2nd, 3rd Brillouin zones of the 1D chain ?"
   ]
  },
  {
   "cell_type": "code",
   "execution_count": null,
   "metadata": {},
   "outputs": [],
   "source": []
  },
  {
   "cell_type": "code",
   "execution_count": null,
   "metadata": {},
   "outputs": [],
   "source": []
  },
  {
   "cell_type": "code",
   "execution_count": null,
   "metadata": {},
   "outputs": [],
   "source": []
  },
  {
   "cell_type": "code",
   "execution_count": null,
   "metadata": {},
   "outputs": [],
   "source": []
  }
 ],
 "metadata": {
  "kernelspec": {
   "display_name": "Python",
   "language": "python",
   "name": "python3"
  },
  "language_info": {
   "codemirror_mode": {
    "name": "ipython",
    "version": 3
   },
   "file_extension": ".py",
   "mimetype": "text/x-python",
   "name": "python",
   "nbconvert_exporter": "python",
   "pygments_lexer": "ipython3",
   "version": "3.8.10"
  }
 },
 "nbformat": 4,
 "nbformat_minor": 4
}
