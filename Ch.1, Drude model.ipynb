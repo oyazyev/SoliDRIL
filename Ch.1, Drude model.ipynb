{
 "cells": [
  {
   "cell_type": "markdown",
   "metadata": {},
   "source": [
    "# Chapter 1: Drude Model"
   ]
  },
  {
   "cell_type": "markdown",
   "metadata": {},
   "source": [
    "#### Drude model considers electrons small solid particles traveling through lattices as a stationary array of heavier and bigger atoms. The model use \"mean free time\" as a measure of the frequency an electron gets scattered. This jupyter notebook makes use of this concept and uses stochastic method to simulat electrons traveling through a 2D material of finite width but infinite length."
   ]
  },
  {
   "cell_type": "code",
   "execution_count": null,
   "metadata": {},
   "outputs": [],
   "source": [
    "import matplotlib.pyplot as plt\n",
    "import numpy as np\n",
    "\n",
    "from numpy import random\n",
    "from ipywidgets import interactive\n",
    "from matplotlib import animation\n",
    "from IPython.display import HTML\n",
    "%matplotlib widget"
   ]
  },
  {
   "cell_type": "markdown",
   "metadata": {},
   "source": [
    "#### First we setup the simulation parameters such as the external electric field, number of electrons (default to 1) as well as the pseudo-time steps to take. Also, we define the various physical constants such as elementary electron charge, (bare) electron mass, and mean free time ($\\tau$). For the simplicity of simulation, we also deifine a constant called $V_0$ as an average restarting velocity after a collison."
   ]
  },
  {
   "cell_type": "code",
   "execution_count": null,
   "metadata": {},
   "outputs": [],
   "source": [
    "e = -1.602E-19; # Electron charge (C)\n",
    "m = 9.109E-31; # (Bare) electron mass (kg)\n",
    "tau = 2000; # Mean free time (s)\n",
    "v0 = 5; # Average restarting velocity (m/s)\n",
    "steps = 500; # number of updates to simulate"
   ]
  },
  {
   "cell_type": "markdown",
   "metadata": {},
   "source": [
    "#### Now We setup up four cases for easy switching in between with the first case corresponding to:\n",
    "    1. Only Electric field.\n",
    "    2. Only Magnetic field.\n",
    "    3. Having both electric and magnetic fields.\n",
    "    4. Duplicate of case 3 as a playground allowing adjustment to the variables."
   ]
  },
  {
   "cell_type": "code",
   "execution_count": null,
   "metadata": {},
   "outputs": [],
   "source": [
    "# Initial condition\n",
    "case = 4;\n",
    "\n",
    "if case == 1:\n",
    "    num = 1; # number of electrons to simulate\n",
    "    Ex = -1E-9; # X component of the external electric field\n",
    "    Ey = 0; # Y component of the external electric field\n",
    "    Bz = 0; # Z component of the external magnetic field\n",
    "    yBnd = 2*num*0.001; # physical boundry of the conductor in y direction\n",
    "elif case == 2:\n",
    "    num = 1; # number of electrons to simulate\n",
    "    Ex = 0; # X component of the external electric field\n",
    "    Ey = 0; # Y component of the external electric field\n",
    "    Bz = 5E-9; # Z component of the external magnetic field\n",
    "    yBnd = 2*num*0.001; # physical boundry of the conductor in y direction\n",
    "elif case == 3:\n",
    "    num = 3; # number of electrons to simulate\n",
    "    Ex = -1E-9; # X component of the external electric field\n",
    "    Ey = 0; # Y component of the external electric field\n",
    "    Bz = 1E-9; # Z component of the external magnetic field\n",
    "    yBnd = 2*num*0.001; # physical boundry of the conductor in y direction\n",
    "elif case == 4:\n",
    "    num = 5; # number of electrons to simulate\n",
    "    Ex = -3E-9; # X component of the external electric field\n",
    "    Ey = 0; # Y component of the external electric field\n",
    "    Bz = 3E-9; # Z component of the external magnetic field\n",
    "    yBnd = 2*num*0.001; # physical boundry of the conductor in y direction\n",
    "else: # Default setting\n",
    "    num = 3; # number of electrons to simulate\n",
    "    Ex = -1E-9; # X component of the external electric field\n",
    "    Ey = 0; # Y component of the external electric field\n",
    "    Bz = 5E-9; # Z component of the external magnetic field\n",
    "    yBnd = 2*num*0.001; # physical boundry of the conductor in y direction"
   ]
  },
  {
   "cell_type": "markdown",
   "metadata": {},
   "source": [
    "#### Next, we initiate some containers to store variables in the simulation"
   ]
  },
  {
   "cell_type": "code",
   "execution_count": null,
   "metadata": {},
   "outputs": [],
   "source": [
    "global x, y, vt, vxt\n",
    "x = np.zeros(num);\n",
    "x = np.expand_dims(x,axis=0);\n",
    "# y = 2*np.arange(num)-num;\n",
    "y = random.rand(num)*yBnd-yBnd/2;\n",
    "y = np.expand_dims(y,axis=0);\n",
    "\n",
    "vx = np.zeros(num);\n",
    "vy = np.zeros(num);\n",
    "vt = []; # Instantaneous speed\n",
    "vxt = []; # Instantaneous velocity in x-direction\n",
    "colors = []; # Color assignment to trace different electrons\n",
    "for i in range(num):\n",
    "    colors.append('#%06X' % random.randint(0, 0xFFFFFF))"
   ]
  },
  {
   "cell_type": "markdown",
   "metadata": {},
   "source": [
    "#### next we create the figure objects, and the function to call between each frame for simulation of each time step"
   ]
  },
  {
   "cell_type": "code",
   "execution_count": null,
   "metadata": {
    "scrolled": false
   },
   "outputs": [],
   "source": [
    "# Create figure objects\n",
    "figs = plt.figure();\n",
    "ax1 = figs.add_subplot(1,1,1);\n",
    "# past, = ax1.plot([],[],'o', markersize = 4, zorder = 5);\n",
    "# past, = ax1.plot([],[],'.', color = 'darkgrey', zorder = 5);\n",
    "# init, = ax1.plot([],[],'ok', markersize = 7, markerfacecolor = 'black',zorder = 10)\n",
    "# end, = ax1.plot([],[],'or', markersize = 7, markerfacecolor = 'red',zorder = 10)\n",
    "init, = ax1.plot([],[],'ok', markersize = 7, zorder = 10)\n",
    "end, = ax1.plot([],[],'or', markersize = 7, zorder = 10)\n",
    "\n",
    "# ax1.set_xlim(-0.2, 0.2);\n",
    "ax1.set_ylim(-1.2*yBnd,1.2*yBnd);\n",
    "ax1.set_xlabel('Distance(x)');\n",
    "ax1.set_ylabel('Distance(y)');\n",
    "\n",
    "figs2 = plt.figure();\n",
    "ax2 = figs2.add_subplot(2,1,1);\n",
    "ax2.set_xlabel('Time');\n",
    "ax2.set_ylabel('Speed');\n",
    "speed, = ax2.plot([],[],'-k')\n",
    "\n",
    "ax3 = figs2.add_subplot(2,1,2)\n",
    "ax3.set_xlabel('Time');\n",
    "ax3.set_ylabel('Velocity');\n",
    "xVelo, = ax3.plot([],[],'-r')\n",
    "\n",
    "plt.show()\n",
    "# Initialize the frame\n",
    "def initf():\n",
    "    init.set_data(x[0,:],y[0,:])\n",
    "    return init,\n",
    "\n",
    "# Animation function which updates figure data.  This is called sequentially\n",
    "def animate(step,Ex,Ey,vx,vy,tau,v0):\n",
    "    global x,y,vt,vxt\n",
    "    delta_T = 0.0001; # time step in seconds\n",
    "    newX = np.zeros(num);\n",
    "    newY = np.zeros(num);\n",
    "    newVt = np.zeros(num);\n",
    "    for nn in range(num):\n",
    "        vx_old = vx[nn]; # Use a temporary variable to store the previous value\n",
    "        vy_old = vy[nn]; # Use a temporary variable to store the previous value\n",
    "        vx[nn] = vx[nn] + e*(Ex - Bz*vy_old)*delta_T/m; # Update the velocity\n",
    "        vy[nn] = vy[nn] + e*(Ey + Bz*vx_old)*delta_T/m; # Update the velocity\n",
    "        newX[nn] = x[step-1][nn] + vx[nn]*delta_T; # Update the coordinate\n",
    "        newY[nn] = y[step-1][nn] + vy[nn]*delta_T; # Update the coordinate\n",
    "        if(random.rand() < 1/tau):\n",
    "            theta = random.rand()*2*np.pi; # pick a random angle in 2D\n",
    "            vec = random.rand()*v0;\n",
    "            vx[nn] = np.cos(theta)*vec;\n",
    "            vy[nn] = np.sin(theta)*vec;\n",
    "        if(newY[nn] > yBnd):\n",
    "            newY[nn] = yBnd; # Restrict movements of the electrons in y-direction by a hard and elastic physical boundary\n",
    "            vy[nn] = -np.absolute(vy[nn]);\n",
    "        elif(newY[nn] < -yBnd):\n",
    "            newY[nn] = -yBnd;\n",
    "            vy[nn] = np.absolute(vy[nn]);\n",
    "        newVt[nn] = np.linalg.norm([vx[nn],vy[nn]]);\n",
    "\n",
    "    x = np.concatenate((x, newX[None,:]), axis=0); # Append the new coordinate\n",
    "    y = np.concatenate((y, newY[None,:]), axis=0); # Append the new coordinate\n",
    "    vt = np.append(vt,np.mean(newVt)); # Append the speed of the current moment\n",
    "    vxt = np.append(vxt,np.mean(vx)); # Append the x-velocity of the current moment\n",
    "\n",
    "#     past.set_data(x,y);\n",
    "    for ii in range(num):\n",
    "        ax1.plot(x[len(x)-1,ii], y[len(y)-1,ii], '.', color = colors[ii], zorder = 0);\n",
    "\n",
    "    end.set_data(x[len(x)-1,:],y[len(y)-1,:]);\n",
    "#     ax1.set_xlim(np.min(x),np.max(x));\n",
    "    \n",
    "    speed.set_data([xx*delta_T for xx in range(1,step+1)],vt);\n",
    "    ax2.set_xlim(0,step*delta_T);\n",
    "    ax2.set_ylim(0,1.1*np.max(vt),auto=True);\n",
    "    ax2.legend(['|V|'],loc='upper right');\n",
    "    \n",
    "    xVelo.set_data([xx*delta_T for xx in range(1,step+1)],vxt);\n",
    "    ax3.set_xlim(0,step*delta_T);\n",
    "    ax3.set_ylim(np.min(vxt),1.1*np.max(vxt),auto=True);\n",
    "    ax3.legend(['Vx'],loc='upper right')\n",
    "    \n",
    "    return past, end, speed, xVelo\n",
    "\n",
    "# Call the animator.  blit=True means only re-draw the parts that have changed.\n",
    "anim = animation.FuncAnimation(figs, animate, init_func=initf, fargs = (Ex,Ey,vx,vy,tau,v0), frames=range(1,steps+1), interval=100, blit = True, repeat = False)"
   ]
  },
  {
   "cell_type": "markdown",
   "metadata": {},
   "source": [
    "#### Lastly, we compute and plot the average speed and average velocity in x direction over the entire simulation to compare with their instantaneous values. In particular the mean velocity in x direction is what's called drift velocity, and ultimately determines the conductivity/resistivity of the material in Drude model"
   ]
  },
  {
   "cell_type": "code",
   "execution_count": null,
   "metadata": {},
   "outputs": [],
   "source": [
    "# Calculate and plot the average x-velocity and speed\n",
    "ax2.plot([0, steps+1],[np.mean(vt), np.mean(vt)],'-');\n",
    "ax2.set_ylim(0,np.max(vt));\n",
    "ax2.legend(['|V|','mean(|V|)'],loc='upper right');\n",
    "\n",
    "ax3.plot([0, steps+1],[np.mean(vxt), np.mean(vxt)],'-');\n",
    "ax3.set_ylim(np.min(vxt),np.max(vxt));\n",
    "ax3.legend(['Vx','mean(Vx)'],loc='upper right');"
   ]
  },
  {
   "cell_type": "code",
   "execution_count": null,
   "metadata": {},
   "outputs": [],
   "source": []
  },
  {
   "cell_type": "code",
   "execution_count": null,
   "metadata": {},
   "outputs": [],
   "source": []
  }
 ],
 "metadata": {
  "kernelspec": {
   "display_name": "Python 3",
   "language": "python",
   "name": "python3"
  },
  "language_info": {
   "codemirror_mode": {
    "name": "ipython",
    "version": 3
   },
   "file_extension": ".py",
   "mimetype": "text/x-python",
   "name": "python",
   "nbconvert_exporter": "python",
   "pygments_lexer": "ipython3",
   "version": "3.6.10"
  }
 },
 "nbformat": 4,
 "nbformat_minor": 4
}
