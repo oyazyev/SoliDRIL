{
 "cells": [
  {
   "cell_type": "markdown",
   "metadata": {
    "tags": []
   },
   "source": [
    "# Chapter 1: Drude Model"
   ]
  },
  {
   "cell_type": "markdown",
   "metadata": {},
   "source": [
    "#### Drude model considers electrons small solid particles traveling through lattices as a stationary array of heavier and bigger atoms. The model use \"mean free time\" as a measure of the frequency an electron gets scattered. This jupyter notebook makes use of this concept and uses stochastic method to simulate electrons traveling through a 2D material of finite width but infinite length."
   ]
  },
  {
   "cell_type": "code",
   "execution_count": 1,
   "metadata": {},
   "outputs": [],
   "source": [
    "import matplotlib.pyplot as plt\n",
    "import numpy as np\n",
    "import ipywidgets as ipw\n",
    "\n",
    "from numpy import random\n",
    "from ipywidgets import interact\n",
    "from matplotlib import animation\n",
    "from IPython.display import HTML\n",
    "%matplotlib widget"
   ]
  },
  {
   "cell_type": "markdown",
   "metadata": {},
   "source": [
    "#### First we setup the simulation parameters such as the external electric field, number of electrons (default to 1) as well as the pseudo-time steps to take. Also, we define the various physical constants such as elementary electron charge, (bare) electron mass, and mean free time ($\\tau$). For the simplicity of simulation, we also define a constant called $V_0$ as an average restarting velocity after a collison."
   ]
  },
  {
   "cell_type": "code",
   "execution_count": 2,
   "metadata": {},
   "outputs": [],
   "source": [
    "e = -1.602E-19;      # Electron charge (C)\n",
    "m = 9.109E-31;       # (Bare) electron mass (kg)\n",
    "v0 = 3;              # Average restarting velocity (m/s)\n",
    "steps = 1000;         # number of updates to simulate"
   ]
  },
  {
   "cell_type": "markdown",
   "metadata": {},
   "source": [
    "#### Now We setup up four cases for easy switching in between with the first case corresponding to:\n",
    "    1. Only Electric field with long mean free time.\n",
    "    2. Only Magnetic field with long mean free time.\n",
    "    3. Having both electric and magnetic fields with short mean free time.\n",
    "    4. Duplicate of case 3 as a playground allowing adjustment to the variables."
   ]
  },
  {
   "cell_type": "code",
   "execution_count": 3,
   "metadata": {},
   "outputs": [],
   "source": [
    "# Set time step\n",
    "global Ey,delta_T\n",
    "delta_T = 1E-12;       # time step in seconds\n",
    "\n",
    "case = 3;\n",
    "if case == 1:\n",
    "    num = 1;            # number of electrons to simulate\n",
    "    tau = 2000;         # Mean free time (s)    \n",
    "    Ex = -0.2;         # X component of the external electric field (V/m)\n",
    "    Ey = 0;             # Y component of the external electric field (V/m)\n",
    "    Bz = 0;             # Z component of the external magnetic field (T)\n",
    "    yBnd = 3*num*5E-11; # physical boundry of the conductor in y direction\n",
    "elif case == 2:\n",
    "    num = 1;            # number of electrons to simulate\n",
    "    tau = 8;         # Mean free time (ps)\n",
    "    Ex = 0;             # X component of the external electric field (V/m)\n",
    "    Ey = 0;             # Y component of the external electric field (V/m)\n",
    "    Bz = 0.2;          # Z component of the external magnetic field (T)\n",
    "    yBnd = 15*num*5E-11; # physical boundry of the conductor in y direction\n",
    "elif case == 3:\n",
    "    num = 1;            # number of electrons to simulate\n",
    "    tau = 20;            # Mean free time (ps)    \n",
    "    Ex = -1;         # X component of the external electric field (V/m)\n",
    "    Ey = 0;             # Y component of the external electric field (V/m)\n",
    "    Bz = 0.3;          # Z component of the external magnetic field (T)\n",
    "    yBnd = 15*num*5E-11; # physical boundry of the conductor in y direction\n",
    "elif case == 4:\n",
    "    num = 6;            # number of electrons to simulate\n",
    "    tau = 20;           # Mean free time (ps)    \n",
    "    Ex = -1;         # X component of the external electric field (V/m)\n",
    "    Ey = 0;             # Y component of the external electric field (V/m)\n",
    "    Bz = 0.3;          # Z component of the external magnetic field (T)\n",
    "    yBnd = 15*num*5E-11; # physical boundry of the conductor in y direction\n",
    "else:                   # Default setting\n",
    "    num = 1;            # number of electrons to simulate\n",
    "    tau = 10;           # Mean free time (ps)    \n",
    "    Ex = -0.2;         # X component of the external electric field (V/m)\n",
    "    Ey = 0;             # Y component of the external electric field (V/m)\n",
    "    Bz = 1;          # Z component of the external magnetic field (T)\n",
    "    yBnd = 3*num*5E-11; # physical boundry of the conductor in y direction"
   ]
  },
  {
   "cell_type": "markdown",
   "metadata": {},
   "source": [
    "#### Next, base on the choice of the scenario, we initiate some containers to store variables in the simulation"
   ]
  },
  {
   "cell_type": "code",
   "execution_count": 4,
   "metadata": {},
   "outputs": [],
   "source": [
    "global x, y, vxt, vyt, ayt\n",
    "x = np.zeros(num);\n",
    "x = np.expand_dims(x,axis=0);\n",
    "#y = random.rand(num)*yBnd-yBnd/2;\n",
    "y = np.zeros(num);\n",
    "y = np.expand_dims(y,axis=0);\n",
    "\n",
    "vx = np.ones(num);               # Initial velocity in x direction\n",
    "vy = np.ones(num);               # Initial velocity in y direction\n",
    "vxt = vx;                        # Instantaneous velocity in x-direction\n",
    "vxt = np.expand_dims(vxt,axis=0);\n",
    "vyt = vy;                        # Instantaneous velocity in y-direction\n",
    "vyt = np.expand_dims(vyt,axis=0);\n",
    "ayt = np.zeros(num);             # Acceleration in y-direction\n",
    "ayt = np.expand_dims(ayt,axis=0);\n",
    "colors = [];                     # Color assignment to trace different electrons\n",
    "for i in range(num):\n",
    "    colors.append('#%06X' % random.randint(0, 0xFFFFFF))"
   ]
  },
  {
   "cell_type": "markdown",
   "metadata": {},
   "source": [
    "#### Next we create the figure objects, and the function to call between each frame for simulation of each time step. In each step, we compute and plot the average velocity in x direction over the steps simulated so far on top of the instantaneous velocities. This mean velocity in x direction eventually should converges to a called drift velocity, which is an indirect measure of the conductivity/resistivity of materiasl in Drude model"
   ]
  },
  {
   "cell_type": "code",
   "execution_count": 5,
   "metadata": {},
   "outputs": [
    {
     "data": {
      "application/vnd.jupyter.widget-view+json": {
       "model_id": "9fa5e01466f84c11a946268870daeee2",
       "version_major": 2,
       "version_minor": 0
      },
      "text/plain": [
       "Canvas(toolbar=Toolbar(toolitems=[('Home', 'Reset original view', 'home', 'home'), ('Back', 'Back to previous …"
      ]
     },
     "metadata": {},
     "output_type": "display_data"
    },
    {
     "data": {
      "application/vnd.jupyter.widget-view+json": {
       "model_id": "778a3c8fb94643ae80aa34a31dfc8058",
       "version_major": 2,
       "version_minor": 0
      },
      "text/plain": [
       "interactive(children=(FloatSlider(value=0.0, description='Ey (off/on)', max=1.0, step=1.0), Output()), _dom_cl…"
      ]
     },
     "metadata": {},
     "output_type": "display_data"
    }
   ],
   "source": [
    "# Create figure objects\n",
    "figs = plt.figure();\n",
    "ax1 = plt.subplot(1,9,(1,3));\n",
    "plt.rcParams['figure.figsize'] = [10, 4];\n",
    "init, = ax1.plot([],[],'ok', markersize = 5, zorder = 10);\n",
    "end = ax1.scatter(x[0,:],y[0,:], c = colors[:], s = 30, marker = 'o', zorder = 10);\n",
    "ax1.axhline(y = -yBnd, color = 'k');\n",
    "ax1.axhline(y = yBnd, color = 'k');\n",
    "\n",
    "ax1.set_ylim(-1.2*yBnd,1.2*yBnd);\n",
    "ax1.set_xlabel('x-Distance (m)');\n",
    "ax1.set_ylabel('y-Distance (m)');\n",
    "\n",
    "ax2 = plt.subplot(2,9,(6,9));\n",
    "ax2.set_xlabel('Time (s)');\n",
    "ax2.set_ylabel('Acceleration (m/s^2)');\n",
    "ax2.set_xlim(0,steps*delta_T);\n",
    "\n",
    "ax3 = plt.subplot(2,9,(15,18))\n",
    "ax3.set_xlabel('Time (s)');\n",
    "ax3.set_ylabel('Velocity (m/s)');\n",
    "ax3.set_xlim(0,steps*delta_T);\n",
    "\n",
    "plt.show()\n",
    "\n",
    "# Set the electrical field in y direction\n",
    "def set_field(E):\n",
    "    global Ey\n",
    "    if(E==1):\n",
    "        Ey = -Bz*Ex*e*tau/m/10**12; # Y component of the external electric field (V/m)\n",
    "    else:\n",
    "        Ey = 0;\n",
    "    return\n",
    "\n",
    "# Initialize the frame\n",
    "def initf():\n",
    "    init.set_data(x[0,:],y[0,:]);\n",
    "    return init,\n",
    "\n",
    "# Animation function which updates figure data.  This is called sequentially\n",
    "def update(step,Ex,vx,vy,tau,v0):\n",
    "    global Ey,x,y,vxt,vyt,ayt,delta_T\n",
    "    newX = np.zeros(num);\n",
    "    newY = np.zeros(num);\n",
    "    newVt = np.zeros(num);\n",
    "    ay = np.zeros(num);\n",
    "    for nn in range(num):\n",
    "        vx_old = vx[nn];                   # Use a temporary variable to store the previous value\n",
    "        vy_old = vy[nn];                    # Use a temporary variable to store the previous value\n",
    "        vx[nn] = vx[nn] + e*(Ex - Bz*vy_old)*delta_T/m;                      # Update the velocity\n",
    "        vy[nn] = vy[nn] + e*(Ey + Bz*vx_old)*delta_T/m;                      # Update the velocity\n",
    "        ay[nn] = (Ey + Bz*vx_old)*e/m;                                       # acceleration in y-direction\n",
    "        newX[nn] = x[step-1][nn] + vx[nn]*delta_T;                           # Update the coordinate\n",
    "        newY[nn] = y[step-1][nn] + vy[nn]*delta_T;                           # Update the coordinate\n",
    "        if(random.rand() < 1/tau):\n",
    "            theta = random.rand()*2*np.pi;                                   # pick a random angle in 2D\n",
    "            vec = random.rand()*v0;\n",
    "            vx[nn] = np.cos(theta)*vec;\n",
    "            vy[nn] = np.sin(theta)*vec;\n",
    "        # Restrict movements of the electrons in y-direction by a hard and elastic physical boundary\n",
    "        if(newY[nn] > yBnd):\n",
    "            newY[nn] = yBnd;\n",
    "            vy[nn] = -np.absolute(vy[nn]);\n",
    "        elif(newY[nn] < -yBnd):\n",
    "            newY[nn] = -yBnd;\n",
    "            vy[nn] = np.absolute(vy[nn]);\n",
    "#         newVt[nn] = np.linalg.norm([vx[nn],vy[nn]]);\n",
    "\n",
    "    x = np.concatenate((x, newX[None,:]), axis=0);                    # Append the new coordinate\n",
    "    y = np.concatenate((y, newY[None,:]), axis=0);                    # Append the new coordinate\n",
    "    vxt = np.vstack([vxt,vx]);                                        # Append the average of x-velocity of the current step\n",
    "    vyt = np.vstack([vyt,vy]);                                        # Append the average of y-velocity of the current step\n",
    "    ayt = np.vstack([ayt,ay]);                                        # Append the average of y-acceleration of the current step\n",
    "\n",
    "\n",
    "    for ii in range(num):\n",
    "#         ax1.plot(x[len(x)-1,ii], y[len(y)-1,ii], '.', markersize = 3, color = colors[ii], zorder = 0);\n",
    "#         ax3.plot([xx*delta_T for xx in range(step+1)], vxt[:,ii], color = colors[ii], zorder = 0);\n",
    "\n",
    "        ax1.plot(x[len(x)-1,ii], y[len(y)-1,ii], '.', markersize = 3, color = colors[ii], zorder = 0);\n",
    "        ax2.plot([xx*delta_T for xx in range(step+1)], ayt[:,ii], color = colors[ii], zorder = 0);\n",
    "        ax3.plot([xx*delta_T for xx in range(step+1)], vxt[:,ii], color = colors[ii], zorder = 0);\n",
    "\n",
    "\n",
    "    end.set_offsets(np.vstack((x[len(x)-1,:],y[len(y)-1,:])).T);\n",
    "    ax2.plot(step*delta_T,np.mean(ayt),'.',markersize = 3,color = 'k');\n",
    "    lgda =np.append(['Acc_y']*num,'mean(Acc_y)');\n",
    "    ax2.legend(lgda,loc='upper right');\n",
    "    \n",
    "    ax3.plot(step*delta_T,np.mean(vxt),'.',markersize = 6,color = 'k', zorder = 10);\n",
    "    lgd = np.append(['Vx']*num,'mean(Vx)');\n",
    "    ax3.legend(lgd,loc='upper right');\n",
    "\n",
    "    return end,\n",
    "\n",
    "# Call the animator.  blit=True means only re-draw the parts that have changed.\n",
    "anim = animation.FuncAnimation(figs, update, init_func=initf, fargs = (Ex,vx,vy,tau,v0), frames=range(1,steps+1), interval=100, blit = True, repeat = False)\n",
    "interact(set_field, E=ipw.FloatSlider(min=0, max=1, step=1, value=0, description = 'Ey (off/on)'));"
   ]
  },
  {
   "cell_type": "markdown",
   "metadata": {},
   "source": [
    "#### Now as an exercise, you may try to find values in real materials for \"Mean Free Time\" and appropriate time step to run simulate again and see if you could find the right \"Average Velocity\" for electrons traveling in these materials. "
   ]
  },
  {
   "cell_type": "markdown",
   "metadata": {},
   "source": [
    "#### Thank you for using the notebook, please provide us with some feedbacks at your convenience by emailing to (yikai.yang@epfl.ch), (oleg.malanyuk@epfl.ch)"
   ]
  },
  {
   "cell_type": "code",
   "execution_count": null,
   "metadata": {},
   "outputs": [],
   "source": []
  }
 ],
 "metadata": {
  "kernelspec": {
   "display_name": "Python",
   "language": "python",
   "name": "python3"
  },
  "language_info": {
   "codemirror_mode": {
    "name": "ipython",
    "version": 3
   },
   "file_extension": ".py",
   "mimetype": "text/x-python",
   "name": "python",
   "nbconvert_exporter": "python",
   "pygments_lexer": "ipython3",
   "version": "3.8.10"
  }
 },
 "nbformat": 4,
 "nbformat_minor": 4
}
