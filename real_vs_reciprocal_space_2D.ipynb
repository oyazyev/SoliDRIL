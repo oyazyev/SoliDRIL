{
 "cells": [
  {
   "cell_type": "markdown",
   "metadata": {
    "slideshow": {
     "slide_type": "-"
    }
   },
   "source": [
    "# Real vs. Reciprocal Space in 2D\n",
    "\n",
    "## Introduction\n",
    "\n",
    " In this short notebook, we will introduce the lattice with periodic(Born- von Karman) boundary condition. Following the boundary condition, there is a transformation from real lattice to the reciprocal lattice."
   ]
  },
  {
   "cell_type": "markdown",
   "metadata": {},
   "source": []
  },
  {
   "cell_type": "code",
   "execution_count": 1,
   "metadata": {},
   "outputs": [],
   "source": [
    "import numpy as np\n",
    "import matplotlib.pyplot as plt\n",
    "\n",
    "# from __future__ import print_function\n",
    "from ipywidgets import interact, interactive, fixed, interact_manual\n",
    "import ipywidgets as widgets\n",
    "\n",
    "%matplotlib inline"
   ]
  },
  {
   "cell_type": "code",
   "execution_count": 2,
   "metadata": {},
   "outputs": [],
   "source": [
    "def get_reciprocal_vectors(a1,a2):\n",
    "    '''\n",
    "    :param a1,a2: Real Space 2D lattice vectors\n",
    "    :return: b1,b2 : Reciprocal Space basis vector\n",
    "    '''\n",
    "    \n",
    "    # Define the 90 degree rotation matrix\n",
    "    R =[[0, -1],[1,0]]\n",
    "    \n",
    "    # Create to vectors b1,b2 such that ai*bj = 2\\pi \\delta_{i,j}\n",
    "    # we first ensure the orthogonality of b1(2) wrt a2,(1) and then normalize the vector\n",
    "    b1 = 2*np.pi* np.matmul(R,a2)/np.matmul(np.transpose(a1),np.matmul(R,a2))\n",
    "    b2 = 2*np.pi* np.matmul(R,a1)/np.matmul(np.transpose(a2),np.matmul(R,a1))\n",
    "    \n",
    "    return b1,b2\n",
    "\n"
   ]
  },
  {
   "cell_type": "code",
   "execution_count": 3,
   "metadata": {},
   "outputs": [],
   "source": [
    "def plot_lattice(v1,v2,nb_x,nb_y,add_brillouin=False):\n",
    "    '''\n",
    "    :param v1,v2: lattice vectors\n",
    "    :parma nb_x,nb_y: (int) Control the number of points by setting the number of times v1 and v2 are repeated\n",
    "    :param add_brillouin: (bool) if True, show the 1st Brillouin zone\n",
    "    :return: matplotlib figure\n",
    "    '''\n",
    "    coordinates = []\n",
    "    # Set up the coordinates \n",
    "    for ii in np.arange(-nb_x+1,nb_x):\n",
    "        for jj in np.arange(-nb_y+1,nb_y):\n",
    "            coordinates.append(ii*v1 + jj*v2)\n",
    "    \n",
    "    #Plot the unit cell\n",
    "    if not(add_brillouin):\n",
    "        edges = ([(0,0),(v1[0,0],v1[1,0]),(v1[0,0]+v2[0,0],v1[1,0]+v2[1,0]),(v2[0,0],v2[1,0])])\n",
    "        x,y = zip(*edges)\n",
    "        plt.fill(x, y, color='#6699cc', alpha=0.7,linewidth=3, zorder=2)\n",
    "        \n",
    "    # Plot the first Brillouin zone\n",
    "    if add_brillouin:\n",
    "        # Note, we decided to keep v1 horizontal, so the extreme left and right xcoordinates are simply given by : \n",
    "        x_left = -v1[0,0]/2\n",
    "        x_right = v1[0,0]/2\n",
    "        x_interval = np.linspace(x_left,x_right,100)\n",
    "        \n",
    "        # we need to find the equations of the 3 perpendicular bissector \n",
    "        #slope is given by -1/m\n",
    "        m1 = -((v2[1,0])/(v2[0,0]-v1[0,0]))**(-1)\n",
    "        m2 = -(v2[1,0]/v2[0,0])**(-1)\n",
    "        m3 = -(v2[1,0]/(v2[0,0]+v1[0,0]))**(-1)\n",
    "        # Middle of the segment\n",
    "        M1 = 0.5*(v2-v1)\n",
    "        M2=0.5*v2\n",
    "        M3 = 0.5*(v2+v1)\n",
    "        # Origin\n",
    "        b1 = M1[1,0]-m1*M1[0,0]\n",
    "        b2 = M2[1,0]-m2*M2[0,0]\n",
    "        b3 = M3[1,0]-m3*M3[0,0]\n",
    "        y_up = lambda x : np.minimum (x*m1+b1,np.minimum(m2*x+b2,x*m3+b3 ))\n",
    "        \n",
    "        # Now we can do the same for the bottom (not the best way, but let's keep it simple)\n",
    "        m1_d = -((-v2[1,0])/(-v2[0,0]-v1[0,0]))**(-1)\n",
    "        m2_d = -(-v2[1,0]/-v2[0,0])**(-1)\n",
    "        m3_d = -(-v2[1,0]/(-v2[0,0]+v1[0,0]))**(-1)\n",
    "        # Middle of the segment\n",
    "        M1_d = 0.5*(-v2-v1)\n",
    "        M2_d=0.5*-v2\n",
    "        M3_d = 0.5*(-v2+v1)\n",
    "        # Origin\n",
    "        b1_d = M1_d[1,0]-m1_d*M1_d[0,0]\n",
    "        b2_d = M2_d[1,0]-m2_d*M2_d[0,0]\n",
    "        b3_d = M3_d[1,0]-m3_d*M3_d[0,0]\n",
    "        \n",
    "        y_down = lambda x : np.maximum (x*m1_d+b1_d,np.maximum(m2_d*x+b2_d,x*m3_d+b3_d ))\n",
    "        \n",
    "        plt.fill_between(x_interval,y_up(x_interval),y_down(x_interval))\n",
    "    \n",
    "    \n",
    "    \n",
    "    # Separate the x and y coordinates (for the scatter function)\n",
    "    x,y=zip(*coordinates)\n",
    "    plt.scatter(x,y)\n",
    "    # Plot the lattice vectors\n",
    "    plt.arrow(0,0,v1[0,0],v1[1,0],color=\"red\")\n",
    "    plt.arrow(0,0,v2[0,0],v2[1,0],color=\"red\")\n",
    "\n",
    "\n",
    "\n",
    "    return plt.gcf"
   ]
  },
  {
   "cell_type": "code",
   "execution_count": 4,
   "metadata": {},
   "outputs": [],
   "source": [
    "def interactive_lattice_plot(a1,a2,theta):\n",
    "    '''\n",
    "    :param a1,a2: norm of the lattice vectors\n",
    "    :param theta: angle between the lattice vectors\n",
    "    '''\n",
    "    theta = theta/360*2*np.pi\n",
    "    # prepare the vectors\n",
    "    v2 = np.matrix([[0.00],[1.00]])\n",
    "    v1 = np.matmul(np.matrix([[np.cos(-theta),-np.sin(-theta)],[np.sin(-theta),np.cos(-theta)]]),v2)\n",
    "    \n",
    "    v1*=a1\n",
    "    v2*=a2\n",
    "    \n",
    "    plt.subplot(1,2,1)\n",
    "    plt.axis([-6,6,-6,6])\n",
    "    plt.axis('scaled')\n",
    "    plt.axis('off')\n",
    "\n",
    "\n",
    "    plot_lattice (v1,v2,24,24)\n",
    "\n",
    "    plt.subplot(1,2,2)\n",
    "    plt.axis([-6,6,-6,6])\n",
    "\n",
    "    plt.axis('scaled')\n",
    "    plt.axis('off')\n",
    "    b1,b2=get_reciprocal_vectors(v1,v2)\n",
    "    plot_lattice (b1,b2,24,24,True)\n"
   ]
  },
  {
   "cell_type": "code",
   "execution_count": 5,
   "metadata": {
    "slideshow": {
     "slide_type": "slide"
    }
   },
   "outputs": [
    {
     "data": {
      "application/vnd.jupyter.widget-view+json": {
       "model_id": "7d37339162c645a488db7b5d2e85e8e7",
       "version_major": 2,
       "version_minor": 0
      },
      "text/plain": [
       "interactive(children=(FloatSlider(value=2.5, description='a1', max=4.0, min=1.0), FloatSlider(value=2.5, descr…"
      ]
     },
     "metadata": {},
     "output_type": "display_data"
    }
   ],
   "source": [
    "interactive(interactive_lattice_plot, a1=(1.,4.), a2=(1., 4.),theta=(30,120))"
   ]
  },
  {
   "cell_type": "code",
   "execution_count": null,
   "metadata": {},
   "outputs": [],
   "source": []
  },
  {
   "cell_type": "code",
   "execution_count": null,
   "metadata": {},
   "outputs": [],
   "source": []
  },
  {
   "cell_type": "code",
   "execution_count": null,
   "metadata": {},
   "outputs": [],
   "source": []
  },
  {
   "cell_type": "code",
   "execution_count": null,
   "metadata": {},
   "outputs": [],
   "source": []
  }
 ],
 "metadata": {
  "celltoolbar": "幻灯片",
  "kernelspec": {
   "display_name": "Python 3",
   "language": "python",
   "name": "python3"
  },
  "language_info": {
   "codemirror_mode": {
    "name": "ipython",
    "version": 3
   },
   "file_extension": ".py",
   "mimetype": "text/x-python",
   "name": "python",
   "nbconvert_exporter": "python",
   "pygments_lexer": "ipython3",
   "version": "3.6.9"
  }
 },
 "nbformat": 4,
 "nbformat_minor": 4
}
