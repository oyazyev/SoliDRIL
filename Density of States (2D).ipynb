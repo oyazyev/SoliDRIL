{
 "cells": [
  {
   "cell_type": "code",
   "execution_count": null,
   "metadata": {},
   "outputs": [],
   "source": [
    "import numpy as np\n",
    "import ipywidgets as ipw\n",
    "\n",
    "from bokeh.io import push_notebook, output_notebook, show\n",
    "from bokeh.layouts import row, column\n",
    "from bokeh.plotting import figure\n",
    "from bokeh.models import ColumnDataSource\n",
    "output_notebook()\n",
    "\n",
    "from ipywidgets import interact\n",
    "\n",
    "from collections import OrderedDict\n",
    "old_settings = np.seterr(over = 'ignore') #Ignore warnings about overflow data points"
   ]
  },
  {
   "cell_type": "code",
   "execution_count": null,
   "metadata": {},
   "outputs": [],
   "source": [
    "# Set up constants and parameters\n",
    "m = 9.109e-31; #Define electron mass\n",
    "hbar = 6.626e-34/2.0/np.pi; #Reduced planck constant\n",
    "size = 1e-9; #Define the width of the potential well in real space\n",
    "Emax = 2.0; # Pick the highest energy (eV) the electron could have by distribution\n",
    "k0 = np.pi/size; #Lowest allowed k in reciprocal space\n",
    "\n",
    "# Set up the variable space\n",
    "kF = np.sqrt(Emax*1.602e-19*2*m)/hbar; # Calculate the Fermi wavevector\n",
    "N = int(np.pi*kF**2/k0**2); # calculate the number of allowed states by the energy constraint\n",
    "x = np.linspace(-N*k0,N*k0,2*N,endpoint=False); # Double the variable space by symmetry\n",
    "y = np.linspace(-N*k0,N*k0,2*N,endpoint=False); # Double the variable space by symmetry\n",
    "kx,ky = np.meshgrid(x,y);\n",
    "En = (hbar*x*1e9)**2/(2*m);  #Energy for a free electron in eV"
   ]
  },
  {
   "cell_type": "code",
   "execution_count": null,
   "metadata": {},
   "outputs": [],
   "source": [
    "# Plot the dispersion relation of the free electrons\n",
    "freeE = figure(plot_height=300, plot_width=320, title=\"Dispersion relationship of a free electron\",\n",
    "              tools=\"pan,reset,save,wheel_zoom\", x_range = [x.min(), x.max()],\n",
    "              y_range = [0,1.1*En.max()]);\n",
    "freeE.xaxis[0].axis_label='k (nm-1)';\n",
    "freeE.xaxis[0].formatter.precision = 1;\n",
    "freeE.xaxis[0].ticker.desired_num_ticks = 4;\n",
    "freeE.yaxis[0].axis_label='Energy (eV)';\n",
    "freeE.xaxis[0].formatter.precision = 1;\n",
    "source0 = ColumnDataSource(data = {'xVal':kx, 'yVal':En});\n",
    "freeE.circle('xVal', 'yVal', source = source0, line_width=1, line_alpha=0.2);\n",
    "sourceC = ColumnDataSource(data = {'x':[x.min(), x.max()],'y':[En[N-5], En[N+5]], 'label':[f'Ef = {En[N-5]:.2f} eV']*2});\n",
    "freeE.line(x = 'x', y = 'y', legend_field = 'label', source = sourceC, line_color = 'red', line_alpha = 1.0);\n",
    "#show(freeE)"
   ]
  },
  {
   "cell_type": "code",
   "execution_count": null,
   "metadata": {},
   "outputs": [],
   "source": [
    "# Plot the states per energy interval\n",
    "states = figure(plot_height=300, plot_width=350, title=\"Allowed states in k-space\",\n",
    "              tools=\"reset,pan,wheel_zoom\", x_range = [1.1*x.min(), 1.1*x.max()],\n",
    "              y_range = [1.1*y.min(),1.1*y.max()]);\n",
    "states.xaxis[0].axis_label='kx';\n",
    "states.xaxis[0].formatter.precision = 1;\n",
    "states.xaxis[0].ticker.desired_num_ticks = 3;\n",
    "states.yaxis[0].axis_label='ky';\n",
    "states.yaxis[0].formatter.precision = 1;\n",
    "source1 = ColumnDataSource(data = {'x':kx,'y':ky});\n",
    "x0 = np.linspace(x[N-5],x[N+5],11,endpoint = True);\n",
    "y0 = np.sqrt(x0.max()**2-x0**2);\n",
    "x0 = np.concatenate((x0,x0));\n",
    "y0 = np.concatenate((y0,-y0));\n",
    "sourceC1 = ColumnDataSource(data = {'r':[x[N+5]-k0/2],'rr':[x[N+5]+k0/2]})\n",
    "sourceC2 = ColumnDataSource(data = {'x':x0, 'y':y0});\n",
    "states.rect('x', 'y', width = k0, height = k0, source = source1, line_color = 'black', line_alpha = 1.0, fill_alpha = 0.0);\n",
    "states.annulus(x = 0, y = 0, inner_radius = 'r', outer_radius = 'rr', source = sourceC1, line_color = 'red', line_alpha = 1.0, fill_alpha = 0.0);\n",
    "states.rect(x = 'x', y = 'y', width = k0, height = k0, source = sourceC2, line_alpha = 0.0, fill_alpha = 1.0);\n",
    "#show(states)"
   ]
  },
  {
   "cell_type": "code",
   "execution_count": null,
   "metadata": {},
   "outputs": [],
   "source": [
    "#calculate Density of states\n",
    "#Env = En/6.242e+18;\n",
    "gE = [m/hbar**2/np.pi]*x.size;\n",
    "gEplot = figure(plot_height=300, plot_width=320, title=\"Density of States (2D)\",\n",
    "              tools=\"pan,reset,save,wheel_zoom\", x_range=[En.min(), En.max()], y_range=[0, 1.5*np.amax(gE)])\n",
    "gEplot.xaxis[0].axis_label='Energy (eV)';\n",
    "gEplot.xaxis[0].formatter.precision = 1;\n",
    "gEplot.xaxis[0].ticker.desired_num_ticks = 5;\n",
    "gEplot.yaxis[0].axis_label='Density of States';\n",
    "gEplot.yaxis[0].formatter.precision = 1;\n",
    "source2 = ColumnDataSource(data = {'xVal': En, 'yVal': gE});\n",
    "sourceC3 = ColumnDataSource(data = {'x':[En[N+5]],'y':[gE[1]], 'label':[f'Ef = {En[N-5]:.2f} eV']});\n",
    "gEplot.line('xVal', 'yVal', source = source2, line_width=2, line_alpha=1.0);\n",
    "gEplot.circle('x', 'y', legend_field = 'label', source = sourceC3, fill_color = 'red', fill_alpha = 1.0, line_width=1.5, line_alpha=1.0, line_color = 'red');\n",
    "#show(row(freeE, states, gEplot))"
   ]
  },
  {
   "cell_type": "code",
   "execution_count": null,
   "metadata": {},
   "outputs": [],
   "source": [
    "# Set up callbacks to live update the plots\n",
    "def update_data(n):\n",
    "    # Generate the new curve\n",
    "    currenE = [f'Ef = {En[N+n]:.2f} eV'];\n",
    "    sourceC.data = {'x':[x.min(), x.max()],'y':[En[N-n], En[N+n]], 'label':currenE*2};\n",
    "    \n",
    "    x0 = np.linspace(x[N-n],x[N+n],2*n+1,endpoint = True);\n",
    "    y0 = np.sqrt(x0.max()**2-x0**2);\n",
    "    x0 = np.concatenate((x0,x0));\n",
    "    y0 = np.concatenate((y0,-y0)); \n",
    "    sourceC1.data = {'r':[x[N+n]+k0/2], 'rr': [x[N+n]-k0/2]}\n",
    "    sourceC2.data = {'x':x0, 'y':y0};\n",
    "    \n",
    "    sourceC3.data = {'x':[En[N+n]],'y':[gE[1]], 'label':currenE};\n",
    "    push_notebook(handle = handle);"
   ]
  },
  {
   "cell_type": "code",
   "execution_count": null,
   "metadata": {},
   "outputs": [],
   "source": [
    "handle = show(row(freeE,states,gEplot), notebook_handle = True);"
   ]
  },
  {
   "cell_type": "code",
   "execution_count": null,
   "metadata": {},
   "outputs": [],
   "source": [
    "interact(update_data, n = ipw.IntSlider(min = 5, max = 14, step = 1, value = 5, description = 'k/k0'));"
   ]
  },
  {
   "cell_type": "code",
   "execution_count": null,
   "metadata": {},
   "outputs": [],
   "source": []
  }
 ],
 "metadata": {
  "kernelspec": {
   "display_name": "Python 3",
   "language": "python",
   "name": "python3"
  },
  "language_info": {
   "codemirror_mode": {
    "name": "ipython",
    "version": 3
   },
   "file_extension": ".py",
   "mimetype": "text/x-python",
   "name": "python",
   "nbconvert_exporter": "python",
   "pygments_lexer": "ipython3",
   "version": "3.7.9"
  }
 },
 "nbformat": 4,
 "nbformat_minor": 4
}
