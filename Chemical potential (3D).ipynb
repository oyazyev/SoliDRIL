{
 "cells": [
  {
   "cell_type": "markdown",
   "metadata": {},
   "source": [
    "# Chemical potential in 3D lattice\n",
    "\n",
    "Contact yifei.guan@epfl.ch if you have any problems or feedbacks to this notebook\n",
    "\n",
    "## Introduction\n",
    "\n",
    "This notebook gives a simple illustration to the variation of chemical potential for Fermions in 3D, following the Fermi-Dirac statistics in finite temperature. "
   ]
  },
  {
   "cell_type": "code",
   "execution_count": 1,
   "metadata": {},
   "outputs": [],
   "source": [
    "import matplotlib.pyplot as plt\n",
    "import numpy as np\n",
    "import scipy\n",
    "from ipywidgets import interactive as jupyter_interactive\n",
    "from ipywidgets import interact\n",
    "from scipy import integrate\n",
    "\n",
    "%matplotlib inline\n",
    "\n",
    "# Basic libraries"
   ]
  },
  {
   "cell_type": "markdown",
   "metadata": {},
   "source": [
    "In 3D, we have the  density of states $\\rho \\propto \\sqrt{E}$. At zero temperature, the distribution of electrons just follows $$h(E)=a \\sqrt{E}$$ and the Fermi energy is determined by the total occupied number $N_{occ}$ :$E_f$ is the energy such that $$N_{occ}=\\int_{0}^{E_f} h(E) dE$$\n",
    "   \n",
    "In finite temperature, however, one must also consider the Fermi-dirac distribution of $$f(E)=\\frac{1}{e^{(E-\\mu)/kbT}+1}$$ when calculating the total occupation number. The expression is then $$ N_{occ}=\\int_{0}^{\\infty} f(E)h(E) dE$$\n",
    "  \n",
    "The chemical potential $\\mu$ must be consistent with the occupation number. As shown in the following, the chemical potential changes at finite temperature."
   ]
  },
  {
   "cell_type": "markdown",
   "metadata": {},
   "source": [
    "The above plots give a simple illustration of variation of the chemical potential at finite temperature. At finite temperature, the simple calculation with zero-temperature $E_f$ is no longer consistent with the occupation number. The calculation of the varied fermi energy is shown in chapter 2.2.3 with some simple approximation.  \n",
    "\n",
    "Alternatively, we can also calculate the variation of chemical potential with numerical methods. In the content of numerical evaluation, the consistency problem of chemical potantial and the occupation number can be solved through iteration."
   ]
  },
  {
   "cell_type": "code",
   "execution_count": 2,
   "metadata": {},
   "outputs": [],
   "source": [
    "def interactive_chem_consist(kt,ef):\n",
    "    '''\n",
    "    :param k: wave number\n",
    "    '''\n",
    "    kBT = 0.001 # Boltzmann constant measured interms of chemical potential\n",
    "    E_min = 0.0001\n",
    "    E_max = 3.0*ef\n",
    "    factor = 1.0\n",
    "    N = 100\n",
    "    n0=50\n",
    "    N1=20\n",
    "    # Set up the variable space for 1D plot\n",
    "    En_mu = np.linspace(E_min, E_max, N) #Energy measured in units of chemical potential\n",
    "    En_l=np.linspace(E_min,ef,n0)\n",
    "    En_r=np.linspace(ef,E_max,n0)\n",
    "    \n",
    "    \n",
    "   \n",
    "    ef1=ef\n",
    "    nocc=2.0/3.0*(ef**(3.0/2.0))\n",
    "    \n",
    "    def nfg(e0):\n",
    "        v,err=scipy.integrate.quad(cf,0,e0)\n",
    "        return v\n",
    "    def fg(e0):\n",
    "        f1=lambda x: np.sqrt(x)\n",
    "        v,err=scipy.integrate.quad(f1,0,e0)\n",
    "        return v\n",
    "    \n",
    "    num_s=np.linspace(1,N1,N1)\n",
    "    ef1_s=np.linspace(ef,ef,N1)\n",
    "    for num in range(1,N1):\n",
    "        cf=lambda x:np.sqrt(x)/(np.exp( (factor*x-ef1)/kt )+1) \n",
    "        c_f = cf(En_mu)  #np.sqrt(En_mu)/(np.exp( (factor*En_mu-1)/kt )+1) # Occupation number according to F-D statistics\n",
    "        c_df = np.gradient(c_f) # Take the first derivative of the F-D distribution.\n",
    "\n",
    "\n",
    "        #print(nfg(0.500))\n",
    "        n_e=(1.5*nfg(E_max))**(2.0/3.0)\n",
    "        \n",
    "        ef1_s[num]=ef1\n",
    "        ef1=ef1-0.2*(n_e-ef)\n",
    "        \n",
    "    ff0=lambda x:1.0/(np.exp( (factor*x-ef)/kt )+1)\n",
    "    cf0=lambda x:np.sqrt(x)/(np.exp( (factor*x-ef)/kt )+1) \n",
    "    ff=lambda x:1.0/(np.exp( (factor*x-ef1)/kt )+1)\n",
    "    cf=lambda x:np.sqrt(x)/(np.exp( (factor*x-ef1)/kt )+1) \n",
    "    \n",
    "    def nfg0(e0):\n",
    "        v,err=scipy.integrate.quad(cf0,0,e0)\n",
    "        return v\n",
    "    \n",
    "    #plt.ylim(0,1.2)\n",
    "    print(\"the filling:\",nocc)\n",
    "    print (\"The integration without fixing the chemical potential\",nfg0(E_max))\n",
    "    print(\"corrected chem_potential=\",ef1)\n",
    "    print(\"the filling with corrected chemical potential:\",nfg(E_max))\n",
    "    #print(\"var chem_potential %=\",100*(ef1-ef)/ef,\"%\")\n",
    "    print(\"(kt/ef)^2:\",(kt/ef)**2)\n",
    "    print(\"var chem_potential:\",np.abs((ef1-ef)/ef))\n",
    "    print(\"d(mu)/(kt/ef^2)\",np.abs((ef1-ef)/ef)/(kt/ef)**2)\n",
    "    plt.figure(figsize=(20,10))\n",
    "    #plt.subplot(312)\n",
    "    #plt.xlim=(5.0,40.0)\n",
    "    #plt.plot(num_s,ef1_s)\n",
    "    #plt.xlabel('Number of iterations')\n",
    "    #plt.title('corrected chemical potential')\n",
    "    \n",
    "    \n",
    "    \n",
    "    dos=np.sqrt(En_mu)\n",
    "    \n",
    "    f0=ff0(En_mu)\n",
    "    c_f0=cf0(En_mu)\n",
    "    \n",
    "    f =  ff(En_mu)# Occupation number according to F-D statistics\n",
    "    df = np.gradient(f) # Take the first derivative of the F-D distribution.\n",
    "\n",
    "    \n",
    "    c_f = cf(En_mu)  #np.sqrt(En_mu)/(np.exp( (factor*En_mu-1)/kt )+1) # Occupation number according to F-D statistics\n",
    "    c_df = np.gradient(c_f) # Take the first derivative of the F-D distribution.\n",
    "    n_fg=[nfg(x) for x in En_mu]\n",
    "    n_fg0=[nfg0(x) for x in En_mu]\n",
    "    n_f=[fg(x) for x in En_mu]\n",
    "    \n",
    "    \n",
    "    #plt.subplot(211)\n",
    "    #plt.ylim(0.4,0.8)\n",
    "    #plt.ylim(0.0,1.10)\n",
    "    #plt.xlim(0.9,1.1)\n",
    "    #plt.plot(En_mu, f0,label='F-D distribution')\n",
    "    #plt.plot(En_mu, c_f0)\n",
    "    #plt.plot(En_mu,n_fg0)\n",
    "    #plt.plot(En_mu,n_f)\n",
    "    #plt.plot([0,E_max],[nfg(E_max),nfg(E_max)])\n",
    "    #plt.plot([ef-0.2,ef+0.2],[0.5,0.5])\n",
    "    #plt.plot([0,E_max],[nocc,nocc],label='filling')\n",
    "    #plt.plot([ef,ef],[0.0,np.sqrt(ef)],label='ef')\n",
    "    #plt.legend()\n",
    "    #plt.xlabel('Energy')\n",
    "    #plt.title('without the correction')\n",
    "    \n",
    "    print(ef1,ef)\n",
    "    de=np.linspace(ef1,ef,20)\n",
    "    \n",
    "    #plt.subplot(212)\n",
    "    #plt.ylim(0.4,0.8)\n",
    "    plt.ylim(0.0,1.10)\n",
    "    #plt.xlim(0.9,1.1)\n",
    "    plt.plot(En_mu, f)\n",
    "    plt.plot(En_mu, c_f0,label='h.f')\n",
    "    plt.plot(En_mu, c_f,label='corrected h.f')\n",
    "    #plt.plot(En_mu,n_fg0)\n",
    "    #plt.plot(En_mu,n_f)\n",
    "    #plt.plot([0,E_max],[nfg(E_max),nfg(E_max)])\n",
    "    #plt.plot([ef1-0.2,ef1+0.2],[0.5,0.5])\n",
    "    plt.plot([ef1,ef1],[0.0,0.5],label='mu')\n",
    "    plt.plot([ef,ef],[0.0,0.5],label='ef')\n",
    "    #plt.plot([0,E_max],[nocc,nocc],label='filling')\n",
    "    plt.legend()\n",
    "    plt.xlabel('Energy')\n",
    "    plt.title('with the correction')\n",
    "    \n",
    "    plt.plot(En_mu, dos)\n",
    "    plt.fill_between(En_l,cf0(En_l), np.sqrt(En_l), \n",
    "                 facecolor=\"orange\", # The fill color\n",
    "                 alpha=0.2)          # Transparency of the fill\n",
    "    plt.fill_between(En_r,cf0(En_r), 0,\n",
    "                 facecolor=\"blue\", # The fill color\n",
    "                 alpha=0.2)          # Transparency of the fill\n",
    "    plt.fill_between(de,np.sqrt(de), 0,\n",
    "                 facecolor=\"red\", # The fill color\n",
    "                 alpha=0.2)          # Transparency of the fill\n",
    "    plt.show()\n"
   ]
  },
  {
   "cell_type": "code",
   "execution_count": 3,
   "metadata": {},
   "outputs": [
    {
     "data": {
      "application/vnd.jupyter.widget-view+json": {
       "model_id": "2caa8216c4a14843b10a70a06d8708b9",
       "version_major": 2,
       "version_minor": 0
      },
      "text/plain": [
       "interactive(children=(FloatSlider(value=0.105, description='kt', max=0.2, min=0.01, step=0.005), FloatSlider(v…"
      ]
     },
     "metadata": {},
     "output_type": "display_data"
    },
    {
     "data": {
      "text/plain": [
       "<function __main__.interactive_chem_consist(kt, ef)>"
      ]
     },
     "execution_count": 3,
     "metadata": {},
     "output_type": "execute_result"
    }
   ],
   "source": [
    "interact(interactive_chem_consist,kt=(0.01,0.20,0.005),ef=(0.01,2.00,0.01))"
   ]
  },
  {
   "cell_type": "markdown",
   "metadata": {},
   "source": [
    "So far we have finished the iterative calculation of chemical potantial variation. However, it is worth looking into thechange of  $E_f$  in reality.  \n",
    "The complete expression of electron density writes:$$ \\rho(E)=\\frac{1}{2\\pi ^2}(\\frac{2m}{\\hbar ^2})^{3/2} \\cdot E^{1/2} \\times \\frac{1}{\\exp (\\frac{E-\\mu}{k_B T}) +1}$$  \n",
    "Up to the first term, the chemical potential $$\\mu=E_f \\cdot [1-\\frac{\\pi ^2}{12}(\\frac{k_B T}{E_f})^2]$$ changes from $E_f$ approximately with $(\\frac{k_B T}{E_f})^2$. In reality, the $k_B T$ is around 25meV at room temperature(300K), while in metals the fermi energy is in the scale of several eVs($10^5 $K). Thus the term $(\\frac{k_B T}{E_f})^2$ is in the magnitude of $~\\frac{1}{10000}^2$ and the correction to chemical potential is not significant.\n"
   ]
  },
  {
   "cell_type": "code",
   "execution_count": null,
   "metadata": {},
   "outputs": [],
   "source": []
  }
 ],
 "metadata": {
  "kernelspec": {
   "display_name": "Python 3",
   "language": "python",
   "name": "python3"
  },
  "language_info": {
   "codemirror_mode": {
    "name": "ipython",
    "version": 3
   },
   "file_extension": ".py",
   "mimetype": "text/x-python",
   "name": "python",
   "nbconvert_exporter": "python",
   "pygments_lexer": "ipython3",
   "version": "3.6.9"
  }
 },
 "nbformat": 4,
 "nbformat_minor": 4
}
