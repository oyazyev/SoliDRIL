{
 "cells": [
  {
   "cell_type": "markdown",
   "metadata": {},
   "source": [
    "# Bloch Theorem"
   ]
  },
  {
   "cell_type": "markdown",
   "metadata": {},
   "source": [
    "#### In essense, the Block theorem states that the electron's behavior is modulated by the periodic external potential imposed by the lattice structure. Thus the wavefunction ($\\psi$) of the electrons in a crystal can be nicely written into the multiplications of two parts, one of them is a simple planewave ($e^{i\\vec{k}\\vec{x}}$) throughout the entire lattice space, while the other part is a periodic function ($\\phi(x)$) that can be determined by simply examing one single atomic site with the periodic boundary condition constraints"
   ]
  },
  {
   "cell_type": "code",
   "execution_count": null,
   "metadata": {},
   "outputs": [],
   "source": [
    "import numpy as np\n",
    "import pandas as pd\n",
    "import ipywidgets as ipw\n",
    "import matplotlib.pyplot as plt\n",
    "\n",
    "from scipy.integrate import solve_bvp\n",
    "from bokeh.io import push_notebook, output_notebook, show\n",
    "from bokeh.layouts import row, column\n",
    "from bokeh.plotting import figure\n",
    "from bokeh.models import ColumnDataSource\n",
    "output_notebook()\n",
    "\n",
    "from ipywidgets import interact"
   ]
  },
  {
   "cell_type": "markdown",
   "metadata": {},
   "source": [
    "### First, we define a function representing the external potential electrons feel near the (equilibrium) atomic positions\n",
    "#### Here we use a Dirac Delta function of width \"w\" and amplitude \"A\" to describe the potential. The negative amplitude signifies the attractive nature of the interaction between atoms and electrons, the atomic site is implicitly defined to be at the point of origin."
   ]
  },
  {
   "cell_type": "code",
   "execution_count": null,
   "metadata": {},
   "outputs": [],
   "source": [
    "def delta(x,w,A):\n",
    "     return A/(w*np.sqrt(np.pi))*np.exp(-x**2/w**2)\n",
    "def potential(x):\n",
    "    return delta(x,w,A)"
   ]
  },
  {
   "cell_type": "markdown",
   "metadata": {},
   "source": [
    "### Next, after setting the values of the various parameters (potential amplitude, width, query points, etc) . We can plot the external potential electron feels at a single atomic site"
   ]
  },
  {
   "cell_type": "code",
   "execution_count": null,
   "metadata": {},
   "outputs": [],
   "source": [
    "s = 10; # Crystallography period\n",
    "x = np.linspace(-s,s,100);\n",
    "w = 3; # ionic potential (delta function) width\n",
    "A = -20; # ionic potential (delta function) applitude\n",
    "fig0,ax0 = plt.figure(figsize = (12,6)),plt.gca()\n",
    "pot0 = plt.plot(x,potential(x),'k')\n",
    "atom0 = plt.plot(0,min(potential(x)),'ro',ms = 15)"
   ]
  },
  {
   "cell_type": "markdown",
   "metadata": {},
   "source": [
    "### Having determined the external potential. As we know, we can then partition the electron wavefunction into two parts, then by applying Schrodinger equation to this anzats, we end up with a Schrodinger equation-like second order differential equation (ODE), which can be used to solve for the periodic function part of the electron wavefunction.\n",
    "#### In solving the Schrodinger-like equation, we have to make a substitution of variable to rewrite the 2nd order OED into a first order one, then we proceed by defining a function that returns the right-hand-side of both the first and second order derivatives of the function under investigation. In the process of doing so, we set our energy reference to 0, and thus as we are only investigating the ground state, the right hand side of the Schrodinger equation is eliminated.\n",
    "#### Also, we impose the boundary condition as a callable function. In the ideal single ion scenario, the potential should vanish at points infinitely far away from the atom, and hence the wavefunction amplitude should recover to 1 (with a phase chosen as 2$\\pi$) at these points.\n",
    "#### Once all of these are set, we then call the built-in function from scipy library to solve the ODE under the constraint of boundary condition with an initial guess. The results are ploted as the probability distribution ($\\phi^{\\dagger}\\cdot\\phi$) along side with the external potential (black line), (equilibrium) atomic site (red dot)."
   ]
  },
  {
   "cell_type": "code",
   "execution_count": null,
   "metadata": {},
   "outputs": [],
   "source": [
    "def bloch(x,u):\n",
    "    k = 2*np.pi/(2*w)\n",
    "    return np.vstack((u[1],(k**2 + delta(x,w,A))*u[0]+2*1j*k*u[1]))\n",
    "\n",
    "def bc(x,u):\n",
    "    return np.array([x[0],u[0]]);"
   ]
  },
  {
   "cell_type": "code",
   "execution_count": null,
   "metadata": {},
   "outputs": [],
   "source": [
    "u0 = np.zeros((2,x.size));\n",
    "u0[0] = 1;\n",
    "ws = solve_bvp(bloch,bc,x,u0);\n",
    "phi = ws.sol(x)[0];\n",
    "fig1,ax1 = plt.figure(figsize = (12,6)), plt.gca();\n",
    "prob = ax1.plot(x,np.real(phi),linewidth = 3);\n",
    "atom1 = ax1.plot(0,0,'ro',ms = 10)\n",
    "ax2 = ax1.twinx();\n",
    "pot1 = ax2.plot(x,potential(x),'k');"
   ]
  },
  {
   "cell_type": "markdown",
   "metadata": {},
   "source": [
    "#### As mentioned before, the other part of the Bloch wavefunction is simple a planewave, the real part of the planewave function is shown below:"
   ]
  },
  {
   "cell_type": "code",
   "execution_count": null,
   "metadata": {},
   "outputs": [],
   "source": [
    "x1 = np.linspace(-4*s,4*s,2000);\n",
    "k = 2*np.pi/(2*w);\n",
    "def py(x):\n",
    "    return np.exp(1j*k*x);\n",
    "fig2 = plt.figure(figsize = (15,8)) \n",
    "ax3 = fig2.add_subplot(211);\n",
    "plane = ax3.plot(x,np.real(py(x)),linewidth = 3); # Planewave (single site)\n",
    "atom2 = ax3.plot(0,0,'ro',ms = 10)\n",
    "ax4 = ax3.twinx() ;\n",
    "pot2 = ax4.plot(x,potential(x),'k'); # External potential (single site)\n",
    "\n",
    "ax5 = fig2.add_subplot(212)\n",
    "plane = ax5.plot(x1,np.real(py(x1)),linewidth = 3); # Planewave (multiple sites)\n",
    "atom3 = ax5.plot(np.arange(np.min(x1),np.max(x1)+s,s),[0]*(int(np.ptp(x1)/s)+1),'ro',ms = 5)\n",
    "ax6 = ax5.twinx() ;\n",
    "pot3 = ax6.plot(x1,potential( (x1-s/2)%s-s/2 ),'k'); # External potential (multiple sites)"
   ]
  },
  {
   "cell_type": "markdown",
   "metadata": {},
   "source": [
    "### Now we are ready to put the two parts of the wavefunction into one ($\\psi(x) = e^{i\\vec{k}\\vec{x}}\\phi(x)$), whose real part (blue line) is plotted along with the potential (black line) and the atomic sites (red dots). "
   ]
  },
  {
   "cell_type": "code",
   "execution_count": null,
   "metadata": {},
   "outputs": [],
   "source": [
    "fig3 = plt.figure(figsize = (15,8)) \n",
    "ax7 = fig3.add_subplot(211);\n",
    "psi0 = py(x) * ws.sol(x)[0];\n",
    "modul = ax7.plot(x,np.real(psi0),linewidth = 3); # Mudulated wavefunction (single site)\n",
    "atom4 = ax7.plot(0,0,'ro',ms = 10)\n",
    "ax8 = ax7.twinx() ;\n",
    "pot4 = ax8.plot(x,potential(x),'k'); # External potential (single site)\n",
    "\n",
    "ax9 = fig3.add_subplot(212)\n",
    "psi1 = py(x1) * ws.sol( (x1-s/2)%s-s/2 )[0];\n",
    "wavefunc = ax9.plot(x1,np.real(psi1),linewidth = 3); # Wavefunction (multiple sites)\n",
    "atom5 = ax9.plot(np.arange(np.min(x1),np.max(x1)+s,s),[0]*(int(np.ptp(x1)/s)+1),'ro',ms = 5)\n",
    "ax10 = ax9.twinx() ;\n",
    "pot5 = ax10.plot(x1,potential( (x1-s/2)%s-s/2 ),'k'); # External potential (multiple sites)"
   ]
  },
  {
   "cell_type": "code",
   "execution_count": null,
   "metadata": {},
   "outputs": [],
   "source": []
  }
 ],
 "metadata": {
  "kernelspec": {
   "display_name": "Python 3",
   "language": "python",
   "name": "python3"
  },
  "language_info": {
   "codemirror_mode": {
    "name": "ipython",
    "version": 3
   },
   "file_extension": ".py",
   "mimetype": "text/x-python",
   "name": "python",
   "nbconvert_exporter": "python",
   "pygments_lexer": "ipython3",
   "version": "3.7.9"
  }
 },
 "nbformat": 4,
 "nbformat_minor": 4
}
